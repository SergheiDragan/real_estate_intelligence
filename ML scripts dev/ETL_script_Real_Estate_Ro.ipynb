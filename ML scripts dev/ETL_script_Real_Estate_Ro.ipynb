{
 "cells": [
  {
   "cell_type": "code",
   "execution_count": 1265,
   "metadata": {},
   "outputs": [],
   "source": [
    "import os\n",
    "import zipfile\n",
    "import json\n",
    "\n",
    "import pandas as pd\n",
    "import seaborn as sns\n",
    "import matplotlib.pyplot as plt\n",
    "import pyodbc # used to create a connection to SQL Server data base\n",
    "\n",
    "import warnings\n",
    "# Deactivate only the UserWarning\n",
    "warnings.filterwarnings('ignore', category=UserWarning)"
   ]
  },
  {
   "cell_type": "markdown",
   "metadata": {},
   "source": [
    "Before running the script make sure to change the variable `table_name` before pushing data to SQL Server DB, as well as the `real_estate_df['date_snapshot'] = ` to the date the data was parsed."
   ]
  },
  {
   "attachments": {},
   "cell_type": "markdown",
   "metadata": {},
   "source": [
    "## Stage 1: Load and merge JSON data into a DataFrame and create a flat table"
   ]
  },
  {
   "cell_type": "code",
   "execution_count": 1266,
   "metadata": {},
   "outputs": [],
   "source": [
    "# Directory where JSON files are located\n",
    "json_folder = \"Raw_data\"\n",
    "\n",
    "# List all files in the 'json_folder' variable with a .json extension\n",
    "json_files = [f for f in os.listdir(json_folder) if f.endswith(\".json\")]\n",
    "\n",
    "# Create an empty list to store the data from each file\n",
    "data_from_json = []\n",
    "\n",
    "# Loop through each JSON file and load its data into the `data_from_json` list\n",
    "for file in json_files:\n",
    "    with open(os.path.join(json_folder, file), \"r\") as f:\n",
    "        data_from_json.append(json.load(f))\n",
    "\n",
    "# Concatenate the items in the `data_from_json` list into a single list\n",
    "merged_data = []\n",
    "for data in data_from_json:\n",
    "    merged_data += data"
   ]
  },
  {
   "cell_type": "code",
   "execution_count": 1267,
   "metadata": {},
   "outputs": [
    {
     "data": {
      "text/plain": [
       "(55868, 128)"
      ]
     },
     "execution_count": 1267,
     "metadata": {},
     "output_type": "execute_result"
    }
   ],
   "source": [
    "# Convert the merged data to a pandas DataFrame\n",
    "full_df = pd.json_normalize(merged_data)\n",
    "full_df.shape"
   ]
  },
  {
   "cell_type": "code",
   "execution_count": 1268,
   "metadata": {},
   "outputs": [],
   "source": [
    "specificatii_rows = []\n",
    "for i, row in enumerate(full_df.to_dict('records')):\n",
    "    try:\n",
    "        specificatii_df = pd.json_normalize(\n",
    "            row,\n",
    "            record_path=['specificatii', 'elemente'], # define the unpacking order\n",
    "            meta=['id', 'id_string', ['specificatii', 'titlu']] # specify the columns to keep. Include 'id' for subsequent merging.\n",
    "        )\n",
    "        specificatii_rows.append(specificatii_df)\n",
    "    except TypeError as e:\n",
    "        print(f\"Error in row {i}: {e}\")\n",
    "        continue\n",
    "        \n",
    "specificatii_df = pd.concat(specificatii_rows, ignore_index=True)"
   ]
  },
  {
   "cell_type": "code",
   "execution_count": 1269,
   "metadata": {},
   "outputs": [
    {
     "data": {
      "text/plain": [
       "(843266, 5)"
      ]
     },
     "execution_count": 1269,
     "metadata": {},
     "output_type": "execute_result"
    }
   ],
   "source": [
    "# Remove duplicates as they usually appear due to missing values in some columns\n",
    "specificatii_df.drop_duplicates(inplace=True)\n",
    "specificatii_df.shape"
   ]
  },
  {
   "cell_type": "code",
   "execution_count": 1270,
   "metadata": {},
   "outputs": [],
   "source": [
    "# Create a copy of the data frame in order to perform value_counts and identify 'subtitlu'-ri to remove\n",
    "subtitlu_to_delete = pd.DataFrame(specificatii_df)\n",
    "# Apply title and strip methods to make the names uniform before computing their share\n",
    "subtitlu_to_delete['subtitlu'] = subtitlu_to_delete['subtitlu'].apply(lambda x: x.title().strip())\n",
    "subtitlu_to_delete['specificatii.titlu'] = subtitlu_to_delete['specificatii.titlu'].apply(lambda x: x.title().strip())\n",
    "# Subset only relevant columns to keep and set value column name to 'share'\n",
    "subtitlu_to_delete = subtitlu_to_delete.value_counts(subset=['specificatii.titlu', 'subtitlu'], normalize=True).to_frame('share')\n",
    "# Compute the estimated share of non-missing values in the original data frame for each 'subtitlu'\n",
    "subtitlu_to_delete['share_%_of_properties'] = subtitlu_to_delete['share'].apply(\n",
    "                                                            lambda x: (x * specificatii_df.shape[0]) / full_df.shape[0])\n",
    "# Reset index\n",
    "subtitlu_to_delete.reset_index(drop=False, inplace=True)"
   ]
  },
  {
   "cell_type": "code",
   "execution_count": 1271,
   "metadata": {},
   "outputs": [
    {
     "data": {
      "text/html": [
       "<div>\n",
       "<style scoped>\n",
       "    .dataframe tbody tr th:only-of-type {\n",
       "        vertical-align: middle;\n",
       "    }\n",
       "\n",
       "    .dataframe tbody tr th {\n",
       "        vertical-align: top;\n",
       "    }\n",
       "\n",
       "    .dataframe thead th {\n",
       "        text-align: right;\n",
       "    }\n",
       "</style>\n",
       "<table border=\"1\" class=\"dataframe\">\n",
       "  <thead>\n",
       "    <tr style=\"text-align: right;\">\n",
       "      <th></th>\n",
       "      <th>specificatii.titlu</th>\n",
       "      <th>subtitlu</th>\n",
       "      <th>share</th>\n",
       "      <th>share_%_of_properties</th>\n",
       "    </tr>\n",
       "  </thead>\n",
       "  <tbody>\n",
       "    <tr>\n",
       "      <th>0</th>\n",
       "      <td>Utilități</td>\n",
       "      <td>Utilitati Generale</td>\n",
       "      <td>0.056049</td>\n",
       "      <td>0.845994</td>\n",
       "    </tr>\n",
       "    <tr>\n",
       "      <th>1</th>\n",
       "      <td>Utilități</td>\n",
       "      <td>Sistem Incalzire</td>\n",
       "      <td>0.053975</td>\n",
       "      <td>0.814688</td>\n",
       "    </tr>\n",
       "    <tr>\n",
       "      <th>2</th>\n",
       "      <td>Alte Detalii Zonă</td>\n",
       "      <td>Amenajare Strazi</td>\n",
       "      <td>0.051634</td>\n",
       "      <td>0.779355</td>\n",
       "    </tr>\n",
       "    <tr>\n",
       "      <th>3</th>\n",
       "      <td>Finisaje</td>\n",
       "      <td>Usa Intrare</td>\n",
       "      <td>0.049021</td>\n",
       "      <td>0.739923</td>\n",
       "    </tr>\n",
       "    <tr>\n",
       "      <th>4</th>\n",
       "      <td>Finisaje</td>\n",
       "      <td>Podele</td>\n",
       "      <td>0.048779</td>\n",
       "      <td>0.736271</td>\n",
       "    </tr>\n",
       "    <tr>\n",
       "      <th>5</th>\n",
       "      <td>Finisaje</td>\n",
       "      <td>Pereti</td>\n",
       "      <td>0.048047</td>\n",
       "      <td>0.725209</td>\n",
       "    </tr>\n",
       "    <tr>\n",
       "      <th>6</th>\n",
       "      <td>Alte Detalii Zonă</td>\n",
       "      <td>Iluminat Stradal</td>\n",
       "      <td>0.042583</td>\n",
       "      <td>0.642747</td>\n",
       "    </tr>\n",
       "    <tr>\n",
       "      <th>7</th>\n",
       "      <td>Finisaje</td>\n",
       "      <td>Ferestre Cu Geam Termopan</td>\n",
       "      <td>0.042440</td>\n",
       "      <td>0.640581</td>\n",
       "    </tr>\n",
       "    <tr>\n",
       "      <th>8</th>\n",
       "      <td>Dotări</td>\n",
       "      <td>Dotari Imobil</td>\n",
       "      <td>0.042103</td>\n",
       "      <td>0.635498</td>\n",
       "    </tr>\n",
       "    <tr>\n",
       "      <th>9</th>\n",
       "      <td>Alte Detalii Zonă</td>\n",
       "      <td>Mijloace De Transport In Comun</td>\n",
       "      <td>0.040905</td>\n",
       "      <td>0.617420</td>\n",
       "    </tr>\n",
       "    <tr>\n",
       "      <th>10</th>\n",
       "      <td>Finisaje</td>\n",
       "      <td>Izolatii Termice</td>\n",
       "      <td>0.039269</td>\n",
       "      <td>0.592719</td>\n",
       "    </tr>\n",
       "    <tr>\n",
       "      <th>11</th>\n",
       "      <td>Dotări</td>\n",
       "      <td>Contorizare</td>\n",
       "      <td>0.038263</td>\n",
       "      <td>0.577540</td>\n",
       "    </tr>\n",
       "    <tr>\n",
       "      <th>12</th>\n",
       "      <td>Finisaje</td>\n",
       "      <td>Usi Interior</td>\n",
       "      <td>0.037318</td>\n",
       "      <td>0.563274</td>\n",
       "    </tr>\n",
       "    <tr>\n",
       "      <th>13</th>\n",
       "      <td>Disponibilitate Proprietate</td>\n",
       "      <td>Imediat</td>\n",
       "      <td>0.033331</td>\n",
       "      <td>0.503097</td>\n",
       "    </tr>\n",
       "    <tr>\n",
       "      <th>14</th>\n",
       "      <td>Dotări</td>\n",
       "      <td>Mobilat</td>\n",
       "      <td>0.030784</td>\n",
       "      <td>0.464649</td>\n",
       "    </tr>\n",
       "  </tbody>\n",
       "</table>\n",
       "</div>"
      ],
      "text/plain": [
       "             specificatii.titlu                        subtitlu     share  \\\n",
       "0                     Utilități              Utilitati Generale  0.056049   \n",
       "1                     Utilități                Sistem Incalzire  0.053975   \n",
       "2             Alte Detalii Zonă                Amenajare Strazi  0.051634   \n",
       "3                      Finisaje                     Usa Intrare  0.049021   \n",
       "4                      Finisaje                          Podele  0.048779   \n",
       "5                      Finisaje                          Pereti  0.048047   \n",
       "6             Alte Detalii Zonă                Iluminat Stradal  0.042583   \n",
       "7                      Finisaje       Ferestre Cu Geam Termopan  0.042440   \n",
       "8                        Dotări                   Dotari Imobil  0.042103   \n",
       "9             Alte Detalii Zonă  Mijloace De Transport In Comun  0.040905   \n",
       "10                     Finisaje                Izolatii Termice  0.039269   \n",
       "11                       Dotări                     Contorizare  0.038263   \n",
       "12                     Finisaje                    Usi Interior  0.037318   \n",
       "13  Disponibilitate Proprietate                         Imediat  0.033331   \n",
       "14                       Dotări                         Mobilat  0.030784   \n",
       "\n",
       "    share_%_of_properties  \n",
       "0                0.845994  \n",
       "1                0.814688  \n",
       "2                0.779355  \n",
       "3                0.739923  \n",
       "4                0.736271  \n",
       "5                0.725209  \n",
       "6                0.642747  \n",
       "7                0.640581  \n",
       "8                0.635498  \n",
       "9                0.617420  \n",
       "10               0.592719  \n",
       "11               0.577540  \n",
       "12               0.563274  \n",
       "13               0.503097  \n",
       "14               0.464649  "
      ]
     },
     "execution_count": 1271,
     "metadata": {},
     "output_type": "execute_result"
    }
   ],
   "source": [
    "# Check relative value to idenitify a benchmark for selecting columns to be deleted\n",
    "subtitlu_to_delete.head(15)"
   ]
  },
  {
   "cell_type": "code",
   "execution_count": 1272,
   "metadata": {},
   "outputs": [],
   "source": [
    "# Filter only the attributes that have less than 70% of total records as these are the most prone to create unuseful columns (with lots of Null)\n",
    "subtitlu_to_delete = subtitlu_to_delete[subtitlu_to_delete['share_%_of_properties']<0.70]\n",
    "# Save the attributes to be deleted to a list\n",
    "subtitlu_to_delete = list(subtitlu_to_delete['subtitlu'])\n",
    "# Clean the 'specificatii_df' data frame from attributes saved in the list\n",
    "specificatii_df = specificatii_df.drop(specificatii_df[specificatii_df['subtitlu'].isin(subtitlu_to_delete)].index)"
   ]
  },
  {
   "cell_type": "code",
   "execution_count": 1273,
   "metadata": {},
   "outputs": [
    {
     "name": "stdout",
     "output_type": "stream",
     "text": [
      "(49712, 8)\n"
     ]
    }
   ],
   "source": [
    "# Remove duplicates if they exist before applying the pivot function otherwise it will generate an error\n",
    "specificatii_df.drop_duplicates(inplace=True)\n",
    "# Create a long table using pivot method that will be used to merge 'specificatii_df' with the original data frame at ID level\n",
    "specificatii_df = specificatii_df.pivot(index = ['id', 'id_string'], columns = 'subtitlu', values = 'valoare')\n",
    "# Reset but keep Index (to make sure the later join is done with the right ids):\n",
    "specificatii_df.reset_index(drop=False, inplace=True)\n",
    "# Check shape\n",
    "print(specificatii_df.shape)"
   ]
  },
  {
   "cell_type": "code",
   "execution_count": 1274,
   "metadata": {},
   "outputs": [
    {
     "data": {
      "text/plain": [
       "(55868, 134)"
      ]
     },
     "execution_count": 1274,
     "metadata": {},
     "output_type": "execute_result"
    }
   ],
   "source": [
    "# Merge both data frames using a Left Join on both 'id' and 'id_string' columns\n",
    "real_estate_df = pd.merge(full_df, specificatii_df, on=['id', 'id_string'], how='left')\n",
    "real_estate_df.shape"
   ]
  },
  {
   "cell_type": "code",
   "execution_count": 1275,
   "metadata": {},
   "outputs": [],
   "source": [
    "# Add the snapshot date related to period the info was gathered \n",
    "real_estate_df['date_snapshot'] = '25-12-2023' # dd-mm-yyyy"
   ]
  },
  {
   "attachments": {},
   "cell_type": "markdown",
   "metadata": {},
   "source": [
    "### Stage 2: Prepare the data set for BI"
   ]
  },
  {
   "cell_type": "code",
   "execution_count": 1276,
   "metadata": {},
   "outputs": [],
   "source": [
    "import pandas as pd\n",
    "pd.set_option('display.max_rows', 200)"
   ]
  },
  {
   "cell_type": "code",
   "execution_count": 1277,
   "metadata": {},
   "outputs": [
    {
     "name": "stdout",
     "output_type": "stream",
     "text": [
      "<class 'pandas.core.frame.DataFrame'>\n",
      "Int64Index: 55868 entries, 0 to 55867\n",
      "Columns: 135 entries, id to date_snapshot\n",
      "dtypes: bool(11), float64(8), int64(27), object(89)\n",
      "memory usage: 53.9+ MB\n"
     ]
    }
   ],
   "source": [
    "# Check general information about data frame\n",
    "real_estate_df.info()"
   ]
  },
  {
   "cell_type": "code",
   "execution_count": 1278,
   "metadata": {},
   "outputs": [
    {
     "data": {
      "text/plain": [
       "id                                        0\n",
       "id_string                                 0\n",
       "vanzare                                   0\n",
       "titlu                                     0\n",
       "judet                                     0\n",
       "localitate                                0\n",
       "zona                                      0\n",
       "comision                                  0\n",
       "latitudine                                0\n",
       "longitudine                               0\n",
       "status_publicare                          0\n",
       "rang                                      0\n",
       "licitatii                                 0\n",
       "data_intrare_in_piata                     0\n",
       "pret_vanzare                              0\n",
       "pret_vanzare_anterior                     0\n",
       "pret_vanzare_referinta                    0\n",
       "pret_vanzare_scazut                       0\n",
       "pret_inchiriere                           0\n",
       "pret_inchiriere_anterior                  0\n",
       "pret_inchiriere_referinta                 0\n",
       "pret_inchiriere_scazut                    0\n",
       "poza_prezentare                           0\n",
       "poze                                      0\n",
       "mod_calcul_pret_vanzare                   0\n",
       "mod_calcul_pret_inchiriere                0\n",
       "anunt_verificat                           0\n",
       "data_modificare                           0\n",
       "link_video                                0\n",
       "foto360                                   0\n",
       "dma                                       0\n",
       "super_hero                                0\n",
       "localizare_arie                           0\n",
       "locatie_verificata                        0\n",
       "data_duplicat                             0\n",
       "data_modificare_pret_vanzare              0\n",
       "pret_vanzare_referinta_anterior           0\n",
       "pret_inchiriere_referinta_anterior        0\n",
       "data_modificare_pret_inchiriere           0\n",
       "nr_camere                                 0\n",
       "nr_camere_referinta                       0\n",
       "an_constructie                            0\n",
       "an_constructie_text                       0\n",
       "stadiu_constructie                        0\n",
       "suprafata_utila                           0\n",
       "distanta_metrou                           0\n",
       "id_proiect                                0\n",
       "etaj                                      0\n",
       "etaj_referinta                            0\n",
       "data_adaugare                             0\n",
       "suprafata_construita                      0\n",
       "comision_cumparator                       0\n",
       "descriere_emotionala                      0\n",
       "link_pdf                                  0\n",
       "link_extern                               0\n",
       "caroiaj                                   0\n",
       "pret_negociabil                           0\n",
       "nume_contact                              0\n",
       "nume_firma                                0\n",
       "telefon_contact                           0\n",
       "telefon_contact2                          0\n",
       "categorie                                 0\n",
       "inchiriere                                0\n",
       "status_platforma_banci                    0\n",
       "status_platforma_banci_id                 0\n",
       "pret_unitar_vanzare                       0\n",
       "pret_unitar_vanzare_anterior              0\n",
       "pret_unitar_vanzare_referinta             0\n",
       "pret_unitar_vanzare_scazut                0\n",
       "pret_unitar_inchiriere                    0\n",
       "pret_unitar_inchiriere_anterior           0\n",
       "pret_unitar_inchiriere_referinta          0\n",
       "pret_unitar_inchiriere_scazut             0\n",
       "nr_bucatarii                              0\n",
       "nr_bai                                    0\n",
       "nr_balcoane                               0\n",
       "nr_garaje                                 0\n",
       "compartimentare                           0\n",
       "confort                                   0\n",
       "nr_balcoane_inchise                       0\n",
       "structura_rezistenta                      0\n",
       "tip_imobil                                0\n",
       "regim_inaltime                            0\n",
       "nr_locuri_parcare                         0\n",
       "suprafata_utila_totala                    0\n",
       "ordine_caracteristici                     0\n",
       "specificatii                              0\n",
       "contact_chat                              0\n",
       "contact_whatsapp                          0\n",
       "contact_sms                               0\n",
       "telefon_obligatoriu                       0\n",
       "data_modificare_pret                      0\n",
       "mobilare                                  0\n",
       "link_detalii                              0\n",
       "oferta_bonus                              0\n",
       "id_localitate                             0\n",
       "last-modified                             0\n",
       "sLinkPoliticaBanca                    55866\n",
       "id_vizitator                              0\n",
       "tip_client                                0\n",
       "ascunde_formular_contact                  0\n",
       "rata_finantare_broker                     0\n",
       "link_finantare_broker                     0\n",
       "blackfriday                               0\n",
       "imagine_harta                             0\n",
       "salvat                                    0\n",
       "agent.id                                  0\n",
       "agent.nume                                0\n",
       "agent.functie                             0\n",
       "agent.poza                                0\n",
       "agent.firma                               0\n",
       "agent.sigla                               0\n",
       "agent.cod_postal                          0\n",
       "agent.email                               0\n",
       "agent.telefon                             0\n",
       "agent.telefon_centrala                    0\n",
       "tip_licitatie                         55859\n",
       "tip_licitatie_referinta               55859\n",
       "data_licitatie                        55859\n",
       "procent_reducere_licitatie            55859\n",
       "termen_licitatie                      55859\n",
       "istoric_termene_licitatie             55859\n",
       "organizator_licitatie                 55859\n",
       "loc_desfasurare_licitatie             55859\n",
       "data_limita_licitatie                 55859\n",
       "detalii_licitatie                     55859\n",
       "nr_dosar_executional                  55859\n",
       "pret_pornire                          55859\n",
       "Amenajare Strazi                      12327\n",
       "Pereti                                15352\n",
       "Podele                                14734\n",
       "Sistem Incalzire                      10353\n",
       "Usa Intrare                           14530\n",
       "Utilitati Generale                     8604\n",
       "date_snapshot                             0\n",
       "dtype: int64"
      ]
     },
     "execution_count": 1278,
     "metadata": {},
     "output_type": "execute_result"
    }
   ],
   "source": [
    "# Inspecting null columns\n",
    "real_estate_df.isna().sum()"
   ]
  },
  {
   "cell_type": "code",
   "execution_count": 1279,
   "metadata": {},
   "outputs": [],
   "source": [
    "# Extract total rows number of the data frame and assign it to a variable\n",
    "total_rows = real_estate_df.shape[0]\n",
    "# Get the missing info into a dataframe and name the column 'missing_values'\n",
    "na_columns = real_estate_df.isna().sum().to_frame('missing_values')\n",
    "# Reset index   \n",
    "na_columns.reset_index(drop=False, inplace=True)\n",
    "# Converting absolute nr of missing values into relative %\n",
    "na_columns['missing_values'] = na_columns['missing_values'].apply(lambda x: x/total_rows) "
   ]
  },
  {
   "cell_type": "code",
   "execution_count": 1280,
   "metadata": {},
   "outputs": [],
   "source": [
    "# Identify the columns that have over 80% of missing values\n",
    "na_columns = na_columns[na_columns['missing_values']>=0.8]\n",
    "# Save the potential columns to be deleted in a list\n",
    "columns_to_remove = list(na_columns['index'])\n",
    "# Removing columns that have at least 80% missing values\n",
    "real_estate_df = real_estate_df.drop(labels=columns_to_remove, axis=1)"
   ]
  },
  {
   "cell_type": "code",
   "execution_count": 1281,
   "metadata": {},
   "outputs": [
    {
     "data": {
      "text/plain": [
       "id                                        0\n",
       "id_string                                 0\n",
       "vanzare                                   0\n",
       "titlu                                     0\n",
       "judet                                     0\n",
       "localitate                                0\n",
       "zona                                      0\n",
       "comision                                  0\n",
       "latitudine                                0\n",
       "longitudine                               0\n",
       "status_publicare                          0\n",
       "rang                                      0\n",
       "licitatii                                 0\n",
       "data_intrare_in_piata                     0\n",
       "pret_vanzare                              0\n",
       "pret_vanzare_anterior                     0\n",
       "pret_vanzare_referinta                    0\n",
       "pret_vanzare_scazut                       0\n",
       "pret_inchiriere                           0\n",
       "pret_inchiriere_anterior                  0\n",
       "pret_inchiriere_referinta                 0\n",
       "pret_inchiriere_scazut                    0\n",
       "poza_prezentare                           0\n",
       "poze                                      0\n",
       "mod_calcul_pret_vanzare                   0\n",
       "mod_calcul_pret_inchiriere                0\n",
       "anunt_verificat                           0\n",
       "data_modificare                           0\n",
       "link_video                                0\n",
       "foto360                                   0\n",
       "dma                                       0\n",
       "super_hero                                0\n",
       "localizare_arie                           0\n",
       "locatie_verificata                        0\n",
       "data_duplicat                             0\n",
       "data_modificare_pret_vanzare              0\n",
       "pret_vanzare_referinta_anterior           0\n",
       "pret_inchiriere_referinta_anterior        0\n",
       "data_modificare_pret_inchiriere           0\n",
       "nr_camere                                 0\n",
       "nr_camere_referinta                       0\n",
       "an_constructie                            0\n",
       "an_constructie_text                       0\n",
       "stadiu_constructie                        0\n",
       "suprafata_utila                           0\n",
       "distanta_metrou                           0\n",
       "id_proiect                                0\n",
       "etaj                                      0\n",
       "etaj_referinta                            0\n",
       "data_adaugare                             0\n",
       "suprafata_construita                      0\n",
       "comision_cumparator                       0\n",
       "descriere_emotionala                      0\n",
       "link_pdf                                  0\n",
       "link_extern                               0\n",
       "caroiaj                                   0\n",
       "pret_negociabil                           0\n",
       "nume_contact                              0\n",
       "nume_firma                                0\n",
       "telefon_contact                           0\n",
       "telefon_contact2                          0\n",
       "categorie                                 0\n",
       "inchiriere                                0\n",
       "status_platforma_banci                    0\n",
       "status_platforma_banci_id                 0\n",
       "pret_unitar_vanzare                       0\n",
       "pret_unitar_vanzare_anterior              0\n",
       "pret_unitar_vanzare_referinta             0\n",
       "pret_unitar_vanzare_scazut                0\n",
       "pret_unitar_inchiriere                    0\n",
       "pret_unitar_inchiriere_anterior           0\n",
       "pret_unitar_inchiriere_referinta          0\n",
       "pret_unitar_inchiriere_scazut             0\n",
       "nr_bucatarii                              0\n",
       "nr_bai                                    0\n",
       "nr_balcoane                               0\n",
       "nr_garaje                                 0\n",
       "compartimentare                           0\n",
       "confort                                   0\n",
       "nr_balcoane_inchise                       0\n",
       "structura_rezistenta                      0\n",
       "tip_imobil                                0\n",
       "regim_inaltime                            0\n",
       "nr_locuri_parcare                         0\n",
       "suprafata_utila_totala                    0\n",
       "ordine_caracteristici                     0\n",
       "specificatii                              0\n",
       "contact_chat                              0\n",
       "contact_whatsapp                          0\n",
       "contact_sms                               0\n",
       "telefon_obligatoriu                       0\n",
       "data_modificare_pret                      0\n",
       "mobilare                                  0\n",
       "link_detalii                              0\n",
       "oferta_bonus                              0\n",
       "id_localitate                             0\n",
       "last-modified                             0\n",
       "id_vizitator                              0\n",
       "tip_client                                0\n",
       "ascunde_formular_contact                  0\n",
       "rata_finantare_broker                     0\n",
       "link_finantare_broker                     0\n",
       "blackfriday                               0\n",
       "imagine_harta                             0\n",
       "salvat                                    0\n",
       "agent.id                                  0\n",
       "agent.nume                                0\n",
       "agent.functie                             0\n",
       "agent.poza                                0\n",
       "agent.firma                               0\n",
       "agent.sigla                               0\n",
       "agent.cod_postal                          0\n",
       "agent.email                               0\n",
       "agent.telefon                             0\n",
       "agent.telefon_centrala                    0\n",
       "Amenajare Strazi                      12327\n",
       "Pereti                                15352\n",
       "Podele                                14734\n",
       "Sistem Incalzire                      10353\n",
       "Usa Intrare                           14530\n",
       "Utilitati Generale                     8604\n",
       "date_snapshot                             0\n",
       "dtype: int64"
      ]
     },
     "execution_count": 1281,
     "metadata": {},
     "output_type": "execute_result"
    }
   ],
   "source": [
    "real_estate_df.isna().sum()"
   ]
  },
  {
   "cell_type": "code",
   "execution_count": 1282,
   "metadata": {},
   "outputs": [],
   "source": [
    "# Additional columns to delete:\n",
    "delete_columns = ['an_constructie', # there is a similar one with more details 'an_constructie_text'\n",
    "                  'anunt_verificat', # not relevant, only TRUE or FALSE\n",
    "                  'ascunde_formular_contact', # TRUE or FALSE\n",
    "                  'blackfriday', # TRUE or FALSE\n",
    "                  'caroiaj', # used for projecting properties on the web map\n",
    "                  'categorie', # only value 1\n",
    "                  'contact_chat', # TRUE or FALSE\n",
    "                  'contact_sms', # TRUE or FALSE\n",
    "                  'contact_whatsapp', # TRUE or FALSE\n",
    "                  'data_duplicat', # repeated info and has some blanks too (there is another column 'data_adaugare') \n",
    "                  'data_intrare_in_piata', # repeated info and has some blanks too (there is another column 'data_adaugare')\n",
    "                  'data_modificare', # not relevant\n",
    "                  'descriere_emotionala', # long text description\n",
    "                  'etaj_referinta', # repeated info - there is another column 'etaj' that also includes the total number of block's levels\n",
    "                  'id_proiect', # not relevant\n",
    "                  'id_vizitator', # not relevant\n",
    "                  'imagine_harta', # picture on the map\n",
    "                  'inchiriere', # only a very tiny amount of properties have this set to TRUE (like 0.58%)\n",
    "                  'last-modified', # not relevant,\n",
    "                  'licitatii', # only a very tiny amount of properties have this set to 1 (like 0.12%)\n",
    "                  'link_finantare_broker', # some external links but not currently useful\n",
    "                  'localizare_arie', # coordinates of the area around the property. It's in JSON format - dicts inside list\n",
    "                  'locatie_verificata', # values 0, 1, 2 of which 98% are 0\n",
    "                  'nr_camere', # there is clean column with same info called 'nr_camere_referinta'\n",
    "                  'oferta_bonus', # not relevant\n",
    "                  'ordine_caracteristici', # not relevant, the data type is a list with just the names of attributes\n",
    "                  'poza_prezentare', # first photo of the listed property\n",
    "                  'poze', # all photos of the listed property\n",
    "                  'pret_inchiriere', # renting price is not relevant for selling properties\n",
    "                  'pret_inchiriere_referinta', # same as above\n",
    "                  'pret_inchiriere_scazut', # same as above\n",
    "                  'pret_unitar_inchiriere', # same as above\n",
    "                  'pret_unitar_inchiriere_referinta', # same as above\n",
    "                  'pret_unitar_inchiriere_scazut', # same as above\n",
    "                  'pret_unitar_vanzare', # can be created in Tableau or python directly\n",
    "                  'pret_unitar_vanzare_referinta', # same as above\n",
    "                  'pret_unitar_vanzare_scazut', # not relevant\n",
    "                  'pret_vanzare_referinta', # same info is contained in 'pret_vanzare' column which has as well the currency of selling price\n",
    "                  'pret_vanzare_scazut', # not relevant\n",
    "                  'rang', # not relevant\n",
    "                  'specificatii', # this column has been already unpacked\n",
    "                  'status_platforma_banci_id', # 0 and 1, with 0 bing 99% of the data\n",
    "                  'super_hero', # not relevant has Da and Nu, with Nu being 99.5%\n",
    "                  'suprafata_utila_totala', # lots of null values and missing value is found in 'suprafata_utila' column\n",
    "                  'telefon_obligatoriu', # not relevant, has True and False, with TRUE being about 90% of data\n",
    "                  'titlu', # most the info is contained in other columns such as the nr of rooms, location, etc.\n",
    "                  'vanzare', # only True\n",
    "                  'agent.email', # yes or no\n",
    "                  'agent.id', # not relevant\n",
    "                  'agent.poza', # not relevant\n",
    "                  'agent.sigla', # not relevant\n",
    "                  'agent.telefon_centrala', # not relevant\n",
    "                  'agent.telefon', # real estate agent contacts \n",
    "                  'foto360', \n",
    "                  'link_extern',\n",
    "                  'link_pdf',\n",
    "                  'link_video',\n",
    "                  'mod_calcul_pret_inchiriere',\n",
    "                  'mod_calcul_pret_vanzare',\n",
    "                  'nume_contact',\n",
    "                  'nume_firma',\n",
    "                  'pret_inchiriere_anterior',\n",
    "                  'pret_unitar_inchiriere_anterior',\n",
    "                  'pret_unitar_vanzare_anterior',\n",
    "                  'status_platforma_banci',\n",
    "                  'telefon_contact',\n",
    "                  'telefon_contact2',\n",
    "                  'agent.cod_postal',\n",
    "                  'Imediat',\n",
    "                  'comision_cumparator', # add back\n",
    "                  'data_modificare_pret', # add back\n",
    "                  'distanta_metrou', # add back\n",
    "                  'dma', # add back\n",
    "                  'id_string', # add back\n",
    "                  'pret_vanzare_anterior', # add back\n",
    "                  'rata_finantare_broker', # add back\n",
    "                  'status_publicare' # add back\n",
    "                  ]"
   ]
  },
  {
   "cell_type": "code",
   "execution_count": 1283,
   "metadata": {},
   "outputs": [],
   "source": [
    "# Removing columns that are not relevant for BI or ML\n",
    "\n",
    "# Create a list of columns to drop (through list comprehension) that only includes existing columns\n",
    "existing_columns_to_delete = [column for column in delete_columns if column in real_estate_df.columns]\n",
    "\n",
    "# Drop the existing columns from the dataframe\n",
    "real_estate_df = real_estate_df.drop(existing_columns_to_delete, axis=1)"
   ]
  },
  {
   "cell_type": "code",
   "execution_count": 1284,
   "metadata": {},
   "outputs": [
    {
     "name": "stdout",
     "output_type": "stream",
     "text": [
      "<class 'pandas.core.frame.DataFrame'>\n",
      "Int64Index: 55868 entries, 0 to 55867\n",
      "Data columns (total 46 columns):\n",
      " #   Column                              Non-Null Count  Dtype  \n",
      "---  ------                              --------------  -----  \n",
      " 0   id                                  55868 non-null  object \n",
      " 1   judet                               55868 non-null  object \n",
      " 2   localitate                          55868 non-null  object \n",
      " 3   zona                                55868 non-null  object \n",
      " 4   comision                            55868 non-null  int64  \n",
      " 5   latitudine                          55868 non-null  float64\n",
      " 6   longitudine                         55868 non-null  float64\n",
      " 7   pret_vanzare                        55868 non-null  object \n",
      " 8   data_modificare_pret_vanzare        55868 non-null  object \n",
      " 9   pret_vanzare_referinta_anterior     55868 non-null  float64\n",
      " 10  pret_inchiriere_referinta_anterior  55868 non-null  int64  \n",
      " 11  data_modificare_pret_inchiriere     55868 non-null  object \n",
      " 12  nr_camere_referinta                 55868 non-null  int64  \n",
      " 13  an_constructie_text                 55868 non-null  object \n",
      " 14  stadiu_constructie                  55868 non-null  object \n",
      " 15  suprafata_utila                     55868 non-null  object \n",
      " 16  etaj                                55868 non-null  object \n",
      " 17  data_adaugare                       55868 non-null  object \n",
      " 18  suprafata_construita                55868 non-null  object \n",
      " 19  pret_negociabil                     55868 non-null  int64  \n",
      " 20  nr_bucatarii                        55868 non-null  int64  \n",
      " 21  nr_bai                              55868 non-null  int64  \n",
      " 22  nr_balcoane                         55868 non-null  int64  \n",
      " 23  nr_garaje                           55868 non-null  int64  \n",
      " 24  compartimentare                     55868 non-null  object \n",
      " 25  confort                             55868 non-null  object \n",
      " 26  nr_balcoane_inchise                 55868 non-null  int64  \n",
      " 27  structura_rezistenta                55868 non-null  object \n",
      " 28  tip_imobil                          55868 non-null  object \n",
      " 29  regim_inaltime                      55868 non-null  object \n",
      " 30  nr_locuri_parcare                   55868 non-null  int64  \n",
      " 31  mobilare                            55868 non-null  object \n",
      " 32  link_detalii                        55868 non-null  object \n",
      " 33  id_localitate                       55868 non-null  int64  \n",
      " 34  tip_client                          55868 non-null  object \n",
      " 35  salvat                              55868 non-null  int64  \n",
      " 36  agent.nume                          55868 non-null  object \n",
      " 37  agent.functie                       55868 non-null  object \n",
      " 38  agent.firma                         55868 non-null  object \n",
      " 39  Amenajare Strazi                    43541 non-null  object \n",
      " 40  Pereti                              40516 non-null  object \n",
      " 41  Podele                              41134 non-null  object \n",
      " 42  Sistem Incalzire                    45515 non-null  object \n",
      " 43  Usa Intrare                         41338 non-null  object \n",
      " 44  Utilitati Generale                  47264 non-null  object \n",
      " 45  date_snapshot                       55868 non-null  object \n",
      "dtypes: float64(3), int64(12), object(31)\n",
      "memory usage: 20.0+ MB\n"
     ]
    }
   ],
   "source": [
    "real_estate_df.info()"
   ]
  },
  {
   "cell_type": "code",
   "execution_count": 1285,
   "metadata": {},
   "outputs": [
    {
     "name": "stdout",
     "output_type": "stream",
     "text": [
      "Total number of duplicates: 0\n"
     ]
    }
   ],
   "source": [
    "# Count the number of duplicates\n",
    "num_duplicates = sum(real_estate_df.duplicated())\n",
    "print(f'Total number of duplicates: {num_duplicates}')"
   ]
  },
  {
   "cell_type": "code",
   "execution_count": 1286,
   "metadata": {},
   "outputs": [],
   "source": [
    "# Rename 'an_constructie_text' to 'construction_year'\n",
    "real_estate_df = real_estate_df.rename(columns={'an_constructie_text': 'construction_year'})"
   ]
  },
  {
   "cell_type": "code",
   "execution_count": 1287,
   "metadata": {},
   "outputs": [
    {
     "data": {
      "text/plain": [
       "array(['Inainte de 1990', '1980', '2023 (finalizata)', '2021', '1936', '',\n",
       "       '2017', '1982', 'Intre 1977 si 1990', '2022', '2008',\n",
       "       '2024 (in constructie)', '2023', '2023 (in constructie)', '2010',\n",
       "       '1940', '2015', '2013', '2003', '1920', '2020',\n",
       "       '2025 (in constructie)', '1970', '2018', '1990', '1974', '1968',\n",
       "       '1986', '1975', '2025', '1978', '2007', '1954',\n",
       "       'Intre 1941 si 1977', '2019', '2014', '1973', '1963', '1960',\n",
       "       '1947', '1976', '2016', '2000', '1965', '1985', '2004', '1850',\n",
       "       '1981', '1935', '1987', '1977', '1900', '2011', '1979',\n",
       "       'Intre 2000 si 2010', '1984', '1901', '2009', '2024', '2005',\n",
       "       '1983', '1955', '1995', '1949', '1930', '1910', '1991', '1950',\n",
       "       '1988', '1905', '2012', '2006', '1992', '2001', '1989', '1994',\n",
       "       '1972', 'Intre 1990 si 2000', '1945', '1942', '1937', '1964',\n",
       "       '1800', '1967', '1993', '1971', '2002', '1966', 'Inainte de 1941',\n",
       "       '1898', '1903', '1957', '2025 (proiect)', '1998', '1862', '1890',\n",
       "       '1939', '1948', '1770', '1956', '1918', '1840', '1927', '1969',\n",
       "       '1962', '1938', '1999', '1917', '1958', '1961', '1959', '1941',\n",
       "       '2023 (proiect)', '1996', '1922', '1934', '1931', '1933', '1928',\n",
       "       '1932', '1952', '1997', '1911', '1926', '1925', '2024 (proiect)',\n",
       "       '1944', '1946', '1929', '1943', '1907', '1921',\n",
       "       '2028 (in constructie)', '1923', '1892', '1924', '1895', '1908',\n",
       "       '1888', '1867', '1880', '1913', '1894', '1915', '1875', '1885',\n",
       "       '1912', '2026 (proiect)', '1914', '1870', '1750', '1700', '1705',\n",
       "       '1701', '1887', '1891', '1951', '1846', '2026 (in constructie)',\n",
       "       '1916', '1906', '1902', '1919', '1817', '1752', '1877',\n",
       "       'Dupa 2010', '1886'], dtype=object)"
      ]
     },
     "execution_count": 1287,
     "metadata": {},
     "output_type": "execute_result"
    }
   ],
   "source": [
    "# Check unique values of the construction year\n",
    "real_estate_df['construction_year'].unique()"
   ]
  },
  {
   "cell_type": "code",
   "execution_count": 1288,
   "metadata": {},
   "outputs": [
    {
     "name": "stdout",
     "output_type": "stream",
     "text": [
      "Total number of records where column construction_year is empty is: 4822\n"
     ]
    }
   ],
   "source": [
    "# Count the number of records where column 'construction_year' is empty\n",
    "num_records = len(real_estate_df[real_estate_df['construction_year'] == ''])\n",
    "print(f'Total number of records where column construction_year is empty is: {num_records}')"
   ]
  },
  {
   "cell_type": "code",
   "execution_count": 1289,
   "metadata": {},
   "outputs": [
    {
     "name": "stdout",
     "output_type": "stream",
     "text": [
      "'Dupa' contains: 1 values\n",
      "'constructie' contains: 6839 values\n"
     ]
    },
    {
     "name": "stdout",
     "output_type": "stream",
     "text": [
      "'proiect' contains: 94 values\n",
      "'finalizata' contains: 4612 values\n",
      "'Inainte' contains: 1104 values\n",
      "'Intre' contains: 601 values\n"
     ]
    }
   ],
   "source": [
    "# Checking how many rows in the 'construction_year' column have string values\n",
    "words = ['Dupa', 'constructie', 'proiect', 'finalizata', 'Inainte', 'Intre']\n",
    "for word in words:\n",
    "    mask = real_estate_df['construction_year'].str.contains(word, case=False, na=False)\n",
    "    print(f\"'{word}' contains: {mask.value_counts()[1]} values\")"
   ]
  },
  {
   "cell_type": "code",
   "execution_count": 1290,
   "metadata": {},
   "outputs": [],
   "source": [
    "# Replace 'construction_year' rows containing 'finalizata' key word with empty string\n",
    "# Note: use escape character '\\' and regex=True to be able to remove paranthesis from text\n",
    "real_estate_df['construction_year'] = real_estate_df['construction_year'].str.replace(\n",
    "                                                '\\(finalizata\\)', '', regex=True).str.strip()"
   ]
  },
  {
   "cell_type": "code",
   "execution_count": 1291,
   "metadata": {},
   "outputs": [],
   "source": [
    "# Create a flag column to track which buildings are under construction\n",
    "real_estate_df['under_construction_y_n'] = real_estate_df['construction_year'].str.contains(\n",
    "                                            'constructie', case=False, na=False)\n",
    "# Create a flag column to track which buildings are in the project stage\n",
    "real_estate_df['project_phase_y_n'] = real_estate_df['construction_year'].str.contains(\n",
    "                                            'proiect', case=False, na=False)"
   ]
  },
  {
   "cell_type": "code",
   "execution_count": 1292,
   "metadata": {},
   "outputs": [],
   "source": [
    "# Replace 'construction_year' rows containing '(in constructie)' and '(proiect)' key words with empty strings\n",
    "real_estate_df['construction_year'] = real_estate_df['construction_year'].str.replace(\n",
    "                                        '\\(in constructie\\)', '', regex=True).str.strip()\n",
    "real_estate_df['construction_year'] = real_estate_df['construction_year'].str.replace(\n",
    "                                        '\\(proiect\\)', '', regex=True).str.strip()"
   ]
  },
  {
   "cell_type": "code",
   "execution_count": 1293,
   "metadata": {},
   "outputs": [],
   "source": [
    "# Create a mask to identify the index of rows where 'construction_year' column has 'Intre' key-word\n",
    "between_mask = real_estate_df['construction_year'].str.contains('Intre', case=False, na=False)\n",
    "\n",
    "# Using the mask extract the last value (which is a year) from the rows that satisfy the condition\n",
    "real_estate_df.loc[between_mask, 'construction_year'] = real_estate_df[\n",
    "                                                                'construction_year'].str.split().str[-1]"
   ]
  },
  {
   "cell_type": "code",
   "execution_count": 1294,
   "metadata": {},
   "outputs": [],
   "source": [
    "words_to_replace = ['Inainte', 'Dupa']\n",
    "\n",
    "for word in words_to_replace:\n",
    "    # Create a mask to identify the index of rows where 'construction_year' column has 'word' key-word\n",
    "    before_mask = real_estate_df['construction_year'].str.contains(word, case=False, na=False)\n",
    "\n",
    "    # Using the mask extract the last value (which is a year) from the rows that satisfy the condition\n",
    "    real_estate_df.loc[before_mask, 'construction_year'] = real_estate_df[\n",
    "                                                            'construction_year'].str.split().str[-1]"
   ]
  },
  {
   "cell_type": "code",
   "execution_count": 1295,
   "metadata": {},
   "outputs": [],
   "source": [
    "# replacing '' with a sentinel value '-1'\n",
    "real_estate_df['construction_year'] = real_estate_df['construction_year'].replace('', -1)\n",
    "\n",
    "# Use the fillna() method to replace NaN values with a default value before converting to int\n",
    "real_estate_df['construction_year'] = real_estate_df['construction_year'].fillna(-1).astype(int)\n",
    "\n",
    "# Cast 'construction_year' to integer\n",
    "real_estate_df['construction_year'] = real_estate_df['construction_year'].astype(int)"
   ]
  },
  {
   "cell_type": "code",
   "execution_count": 1296,
   "metadata": {},
   "outputs": [],
   "source": [
    "import random\n",
    "\n",
    "# Define the list of replacement values\n",
    "replacement_years = [2022, 2021, 2023, 1980, 1990, 2020, 1977, 1970, 2018, 2019]\n",
    "\n",
    "# Count the number of occurrences of 'empty' in column 'construction_year'\n",
    "num_occurrences = (real_estate_df['construction_year'] == -1).sum()\n",
    "\n",
    "# generate a list of replacement values that is at least as long as the number of occurrences of -1\n",
    "replacement_list = replacement_years.copy()\n",
    "while len(replacement_list) < num_occurrences:\n",
    "    replacement_list += replacement_years\n",
    "\n",
    "# Select a random sample of values from the replacement list\n",
    "replacement_sample = random.sample(replacement_list, num_occurrences)\n",
    "\n",
    "# replace all occurrences of 'empty' with values from the replacement sample\n",
    "replacement_index = 0\n",
    "for i, val in enumerate(real_estate_df['construction_year']):\n",
    "    if val == -1:\n",
    "        real_estate_df.at[i, 'construction_year'] = replacement_sample[replacement_index]\n",
    "        replacement_index += 1"
   ]
  },
  {
   "cell_type": "code",
   "execution_count": 1297,
   "metadata": {},
   "outputs": [],
   "source": [
    "# Remove outliers\n",
    "real_estate_df = real_estate_df.drop(real_estate_df[real_estate_df['construction_year'] >= 2030].index)"
   ]
  },
  {
   "cell_type": "code",
   "execution_count": 1298,
   "metadata": {},
   "outputs": [
    {
     "data": {
      "text/plain": [
       "array([1990, 1980, 2023, 2021, 1936, 2017, 1982, 2022, 2008, 2024, 1977,\n",
       "       2010, 1940, 2015, 2013, 2003, 1920, 2020, 2025, 1970, 2018, 1974,\n",
       "       1968, 1986, 1975, 2019, 1978, 2007, 1954, 2014, 1973, 1963, 1960,\n",
       "       1947, 1976, 2016, 2000, 1965, 1985, 2004, 1850, 1981, 1935, 1987,\n",
       "       1900, 2011, 1979, 1984, 1901, 2009, 2005, 1983, 1955, 1995, 1949,\n",
       "       1930, 1910, 1991, 1950, 1988, 1905, 2012, 2006, 1992, 2001, 1989,\n",
       "       1994, 1972, 1945, 1942, 1937, 1964, 1800, 1967, 1993, 1971, 2002,\n",
       "       1966, 1941, 1898, 1903, 1957, 1998, 1862, 1890, 1939, 1948, 1770,\n",
       "       1956, 1918, 1840, 1927, 1969, 1962, 1938, 1999, 1917, 1958, 1961,\n",
       "       1959, 1996, 1922, 1934, 1931, 1933, 1928, 1932, 1952, 1997, 1911,\n",
       "       1926, 1925, 1944, 1946, 1929, 1943, 1907, 1921, 2028, 1923, 1892,\n",
       "       1924, 1895, 1908, 1888, 1867, 1880, 1913, 1894, 1915, 1875, 1885,\n",
       "       1912, 2026, 1914, 1870, 1750, 1700, 1705, 1701, 1887, 1891, 1951,\n",
       "       1846, 1916, 1906, 1902, 1919, 1817, 1752, 1877, 1886])"
      ]
     },
     "execution_count": 1298,
     "metadata": {},
     "output_type": "execute_result"
    }
   ],
   "source": [
    "# Check unique values of the construction year to make sure all is clean\n",
    "real_estate_df['construction_year'].unique()"
   ]
  },
  {
   "cell_type": "code",
   "execution_count": 1299,
   "metadata": {},
   "outputs": [
    {
     "name": "stdout",
     "output_type": "stream",
     "text": [
      "<class 'pandas.core.frame.DataFrame'>\n",
      "Int64Index: 55868 entries, 0 to 55867\n",
      "Data columns (total 48 columns):\n",
      " #   Column                              Non-Null Count  Dtype  \n",
      "---  ------                              --------------  -----  \n",
      " 0   id                                  55868 non-null  object \n",
      " 1   judet                               55868 non-null  object \n",
      " 2   localitate                          55868 non-null  object \n",
      " 3   zona                                55868 non-null  object \n",
      " 4   comision                            55868 non-null  int64  \n",
      " 5   latitudine                          55868 non-null  float64\n",
      " 6   longitudine                         55868 non-null  float64\n",
      " 7   pret_vanzare                        55868 non-null  object \n",
      " 8   data_modificare_pret_vanzare        55868 non-null  object \n",
      " 9   pret_vanzare_referinta_anterior     55868 non-null  float64\n",
      " 10  pret_inchiriere_referinta_anterior  55868 non-null  int64  \n",
      " 11  data_modificare_pret_inchiriere     55868 non-null  object \n",
      " 12  nr_camere_referinta                 55868 non-null  int64  \n",
      " 13  construction_year                   55868 non-null  int32  \n",
      " 14  stadiu_constructie                  55868 non-null  object \n",
      " 15  suprafata_utila                     55868 non-null  object \n",
      " 16  etaj                                55868 non-null  object \n",
      " 17  data_adaugare                       55868 non-null  object \n",
      " 18  suprafata_construita                55868 non-null  object \n",
      " 19  pret_negociabil                     55868 non-null  int64  \n",
      " 20  nr_bucatarii                        55868 non-null  int64  \n",
      " 21  nr_bai                              55868 non-null  int64  \n",
      " 22  nr_balcoane                         55868 non-null  int64  \n",
      " 23  nr_garaje                           55868 non-null  int64  \n",
      " 24  compartimentare                     55868 non-null  object \n",
      " 25  confort                             55868 non-null  object \n",
      " 26  nr_balcoane_inchise                 55868 non-null  int64  \n",
      " 27  structura_rezistenta                55868 non-null  object \n",
      " 28  tip_imobil                          55868 non-null  object \n",
      " 29  regim_inaltime                      55868 non-null  object \n",
      " 30  nr_locuri_parcare                   55868 non-null  int64  \n",
      " 31  mobilare                            55868 non-null  object \n",
      " 32  link_detalii                        55868 non-null  object \n",
      " 33  id_localitate                       55868 non-null  int64  \n",
      " 34  tip_client                          55868 non-null  object \n",
      " 35  salvat                              55868 non-null  int64  \n",
      " 36  agent.nume                          55868 non-null  object \n",
      " 37  agent.functie                       55868 non-null  object \n",
      " 38  agent.firma                         55868 non-null  object \n",
      " 39  Amenajare Strazi                    43541 non-null  object \n",
      " 40  Pereti                              40516 non-null  object \n",
      " 41  Podele                              41134 non-null  object \n",
      " 42  Sistem Incalzire                    45515 non-null  object \n",
      " 43  Usa Intrare                         41338 non-null  object \n",
      " 44  Utilitati Generale                  47264 non-null  object \n",
      " 45  date_snapshot                       55868 non-null  object \n",
      " 46  under_construction_y_n              55868 non-null  bool   \n",
      " 47  project_phase_y_n                   55868 non-null  bool   \n",
      "dtypes: bool(2), float64(3), int32(1), int64(12), object(30)\n",
      "memory usage: 19.9+ MB\n"
     ]
    }
   ],
   "source": [
    "real_estate_df.info()"
   ]
  },
  {
   "cell_type": "code",
   "execution_count": 1300,
   "metadata": {},
   "outputs": [
    {
     "data": {
      "text/plain": [
       "0    38492\n",
       "1    17376\n",
       "Name: commission, dtype: int64"
      ]
     },
     "execution_count": 1300,
     "metadata": {},
     "output_type": "execute_result"
    }
   ],
   "source": [
    "# Rename 'comision' column to 'commission'\n",
    "real_estate_df = real_estate_df.rename(columns={'comision': 'commission'})\n",
    "# Check unique values\n",
    "real_estate_df['commission'].value_counts()"
   ]
  },
  {
   "cell_type": "code",
   "execution_count": 1301,
   "metadata": {},
   "outputs": [
    {
     "data": {
      "text/plain": [
       "decomandat      35238\n",
       "semidecom.      17461\n",
       "                 1890\n",
       "nedecomandat      822\n",
       "circular          457\n",
       "Name: partitioning, dtype: int64"
      ]
     },
     "execution_count": 1301,
     "metadata": {},
     "output_type": "execute_result"
    }
   ],
   "source": [
    "# Rename 'compartimentare' column to 'partitioning'\n",
    "real_estate_df = real_estate_df.rename(columns={'compartimentare': 'partitioning'})\n",
    "# Check unique values\n",
    "real_estate_df['partitioning'].value_counts()"
   ]
  },
  {
   "cell_type": "code",
   "execution_count": 1302,
   "metadata": {},
   "outputs": [],
   "source": [
    "# Find the most frequent value of 'partitioning'\n",
    "most_frequent_value = real_estate_df['partitioning'].mode()[0]\n",
    "# Fill '' with mode\n",
    "real_estate_df['partitioning'] = real_estate_df['partitioning'].replace('', most_frequent_value)"
   ]
  },
  {
   "cell_type": "code",
   "execution_count": 1303,
   "metadata": {},
   "outputs": [],
   "source": [
    "# Replace 0 with 1 in 'nr_bucatarii' column based on the condition\n",
    "real_estate_df.loc[(real_estate_df['nr_bucatarii'] == 0) & \n",
    "                   (real_estate_df['nr_camere_referinta'] >= 2), 'nr_bucatarii'] = 1\n",
    "# Change column name from 'nr_bucatarii' to 'nr_of_kitchens'\n",
    "real_estate_df = real_estate_df.rename(columns={'nr_bucatarii': 'nr_of_kitchens'})"
   ]
  },
  {
   "cell_type": "code",
   "execution_count": 1304,
   "metadata": {},
   "outputs": [],
   "source": [
    "# For 'suprafata_utila' remove mp and replace ',' with '.'\n",
    "real_estate_df['suprafata_utila'] = real_estate_df[\n",
    "                                        'suprafata_utila'].str.split().str[0].str.replace(',', '.')\n",
    "# Also replace column name 'suprafata_utila' with 'useful_surface'\n",
    "real_estate_df = real_estate_df.rename(columns={'suprafata_utila':'useful_surface'}) "
   ]
  },
  {
   "cell_type": "code",
   "execution_count": 1305,
   "metadata": {},
   "outputs": [],
   "source": [
    "real_estate_df['useful_surface'] = real_estate_df['useful_surface'].astype(float)"
   ]
  },
  {
   "cell_type": "code",
   "execution_count": 1306,
   "metadata": {},
   "outputs": [],
   "source": [
    "real_estate_df['nr_camere_referinta'] = real_estate_df['nr_camere_referinta'].astype(float)"
   ]
  },
  {
   "cell_type": "code",
   "execution_count": 1307,
   "metadata": {},
   "outputs": [
    {
     "name": "stdout",
     "output_type": "stream",
     "text": [
      "<class 'pandas.core.series.Series'>\n",
      "Int64Index: 55868 entries, 0 to 55867\n",
      "Series name: nr_camere_referinta\n",
      "Non-Null Count  Dtype  \n",
      "--------------  -----  \n",
      "55868 non-null  float64\n",
      "dtypes: float64(1)\n",
      "memory usage: 872.9 KB\n"
     ]
    }
   ],
   "source": [
    "real_estate_df['nr_camere_referinta'].info()"
   ]
  },
  {
   "cell_type": "code",
   "execution_count": 1308,
   "metadata": {},
   "outputs": [
    {
     "data": {
      "text/plain": [
       "1      37569\n",
       "lux     9633\n",
       "        6287\n",
       "2       1959\n",
       "3        420\n",
       "Name: comfort, dtype: int64"
      ]
     },
     "execution_count": 1308,
     "metadata": {},
     "output_type": "execute_result"
    }
   ],
   "source": [
    "# Rename 'confort' column to 'comfort'\n",
    "real_estate_df = real_estate_df.rename(columns={'confort': 'comfort'})\n",
    "# Check unique values\n",
    "real_estate_df['comfort'].value_counts()"
   ]
  },
  {
   "cell_type": "code",
   "execution_count": 1309,
   "metadata": {},
   "outputs": [],
   "source": [
    "# Fill 'comfort' null value with rule based values\n",
    "# Rulest for comfort level 1\n",
    "real_estate_df.loc[((real_estate_df['comfort'] == '') &\n",
    "                    (real_estate_df['partitioning'] == 'decomandat') &\n",
    "                    (real_estate_df['nr_balcoane'] >= 1) &\n",
    "                    ((real_estate_df['nr_camere_referinta'] == 1) & (real_estate_df['useful_surface'] >= 33) |\n",
    "                     (real_estate_df['nr_camere_referinta'] == 2) & (real_estate_df['useful_surface'] >= 50) |\n",
    "                     (real_estate_df['nr_camere_referinta'] == 3) & (real_estate_df['useful_surface'] >= 65) |\n",
    "                     (real_estate_df['nr_camere_referinta'] == 4) & (real_estate_df['useful_surface'] >= 75)))\n",
    "                   , 'comfort'] = 1\n",
    "\n",
    "# Rulest for comfort level 2\n",
    "real_estate_df.loc[((real_estate_df['comfort'] == '') &\n",
    "    (real_estate_df['partitioning'] == 'semidecom.') &\n",
    "    (real_estate_df['nr_balcoane'] == 1) &\n",
    "    (((real_estate_df['nr_camere_referinta'] == 1) & (real_estate_df['useful_surface'] >= 27) & (real_estate_df['useful_surface'] <= 32)) |\n",
    "    ((real_estate_df['nr_camere_referinta'] == 2) & (real_estate_df['useful_surface'] >= 34) & (real_estate_df['useful_surface'] <= 49)) |\n",
    "    ((real_estate_df['nr_camere_referinta'] == 3) & (real_estate_df['useful_surface'] >= 55) & (real_estate_df['useful_surface'] <= 64)) |\n",
    "    ((real_estate_df['nr_camere_referinta'] == 4) & (real_estate_df['useful_surface'] >= 60) & (real_estate_df['useful_surface'] <= 74))))\n",
    "    , 'comfort'] = 2\n",
    "\n",
    "# Rulest for comfort level 3\n",
    "real_estate_df.loc[((real_estate_df['comfort'] == '') &\n",
    "            (real_estate_df['partitioning'] != 'decomandat') &\n",
    "            (real_estate_df['nr_balcoane'] == 0) &\n",
    "            (real_estate_df['nr_bai'] <= 1) &\n",
    "            (((real_estate_df['nr_camere_referinta'] == 1) & (real_estate_df['useful_surface'] <= 26)) |\n",
    "            ((real_estate_df['nr_camere_referinta'] == 2) & (real_estate_df['useful_surface'] <= 33)) |\n",
    "            ((real_estate_df['nr_camere_referinta'] == 3) & (real_estate_df['useful_surface'] <= 54)) |\n",
    "            ((real_estate_df['nr_camere_referinta'] == 4) & (real_estate_df['useful_surface'] <= 59))))\n",
    "            , 'comfort'] = 3\n",
    "\n",
    "# Rules for 'Lux' comfort level\n",
    "real_estate_df.loc[((real_estate_df['comfort'] == '') &\n",
    "            (real_estate_df['partitioning'] == 'decomandat') &\n",
    "            (real_estate_df['nr_balcoane'] >= 1) &\n",
    "            (real_estate_df['nr_bai'] >= 2) &\n",
    "            ((real_estate_df['nr_camere_referinta'] == 1) & (real_estate_df['useful_surface'] >= 33) |\n",
    "            (real_estate_df['nr_camere_referinta'] == 2) & (real_estate_df['useful_surface'] >= 50) |\n",
    "            (real_estate_df['nr_camere_referinta'] == 3) & (real_estate_df['useful_surface'] >= 65) |\n",
    "            (real_estate_df['nr_camere_referinta'] == 4) & (real_estate_df['useful_surface'] >= 75)))\n",
    "            , 'comfort'] = 'Lux'\n",
    "\n",
    "# Assign remaining null values to the most frequent category which is 1\n",
    "real_estate_df.loc[(real_estate_df['comfort'] == ''), 'comfort'] = 1"
   ]
  },
  {
   "cell_type": "code",
   "execution_count": 1310,
   "metadata": {},
   "outputs": [],
   "source": [
    "# Replace 'Lux' with 0 so that we get only integer numbers for comfort field\n",
    "real_estate_df.loc[(real_estate_df['comfort'] == 'lux'), 'comfort'] = 0\n",
    "# Cast 'comfort' field to integer so that we don't get multiples ones, twoes, etc.\n",
    "real_estate_df['comfort'] = real_estate_df['comfort'].fillna(-1).astype(int)\n",
    "# Replace 'comfort' values with 1 (which is the mode)\n",
    "real_estate_df.loc[(real_estate_df['comfort'] == -1), 'comfort'] = 1"
   ]
  },
  {
   "cell_type": "code",
   "execution_count": 1311,
   "metadata": {},
   "outputs": [],
   "source": [
    "# Rename 'etaj' to 'floor_level'\n",
    "real_estate_df = real_estate_df.rename(columns={'etaj': 'floor_level'})\n",
    "# Replace 'Etaj' with empty string\n",
    "real_estate_df['floor_level'] = real_estate_df['floor_level'].str.replace('Etaj', '').str.strip()\n",
    "# Extract floor number and max floor number (if exists) in two separate columns\n",
    "real_estate_df[['floor_level', 'max_floor']] = real_estate_df['floor_level'].str.split(\"/\", expand=True)\n",
    "# Strip whitespaces from floor related columns\n",
    "real_estate_df['floor_level'] = real_estate_df['floor_level'].str.strip()\n",
    "real_estate_df['max_floor'] = real_estate_df['max_floor'].str.strip()\n",
    "# Fill NA if they exists for floor_level with mode\n",
    "real_estate_df['floor_level'].fillna(real_estate_df['floor_level'].mode().iloc[0], inplace=True)\n",
    "# Create a new boolean column that specifies is the property is in the attic\n",
    "real_estate_df['mansard_y_n'] = real_estate_df['floor_level'].str.contains(\n",
    "                                            'Mansarda', case=False, na=False)   \n"
   ]
  },
  {
   "cell_type": "code",
   "execution_count": 1312,
   "metadata": {},
   "outputs": [],
   "source": [
    "# Replace 'Demisol' with -1\n",
    "real_estate_df['floor_level'] = real_estate_df['floor_level'].str.replace('Demisol', '-1')\n",
    "# Replace 'Parter' with 0\n",
    "real_estate_df['floor_level'] = real_estate_df['floor_level'].str.replace('Parter', '0')\n",
    "# Replace 'Mansarda' with the values from max_floor\n",
    "mask = (real_estate_df['floor_level'] == 'Mansarda')\n",
    "real_estate_df.loc[mask, 'floor_level'] = real_estate_df.loc[mask, 'max_floor']\n",
    "# Replace 'Ultimele 2 etaje' with the values from max_floor\n",
    "mask = (real_estate_df['floor_level'] == 'Ultimele 2 etaje')\n",
    "real_estate_df.loc[mask, 'floor_level'] = real_estate_df.loc[mask, 'max_floor']"
   ]
  },
  {
   "cell_type": "code",
   "execution_count": 1313,
   "metadata": {},
   "outputs": [
    {
     "data": {
      "text/plain": [
       "1     10369\n",
       "2      8261\n",
       "0      8249\n",
       "3      7549\n",
       "4      7305\n",
       "5      3423\n",
       "6      2534\n",
       "8      2281\n",
       "7      2087\n",
       "9      1349\n",
       "10     1261\n",
       "-1      447\n",
       "11      352\n",
       "12      133\n",
       "13      120\n",
       "15       52\n",
       "14       28\n",
       "16       12\n",
       "20       10\n",
       "17        9\n",
       "18        5\n",
       "25        4\n",
       "19        3\n",
       "21        1\n",
       "24        1\n",
       "23        1\n",
       "Name: floor_level, dtype: int64"
      ]
     },
     "execution_count": 1313,
     "metadata": {},
     "output_type": "execute_result"
    }
   ],
   "source": [
    "# Replace 'empty' values with 1 (which is the mode)\n",
    "real_estate_df.loc[(real_estate_df['floor_level'] == ''), 'floor_level'] = 1\n",
    "# Check floor_level is clean\n",
    "real_estate_df['floor_level'].value_counts()"
   ]
  },
  {
   "cell_type": "code",
   "execution_count": 1314,
   "metadata": {},
   "outputs": [],
   "source": [
    "# Encoding 'mobilare' field\n",
    "mobilare_mapping = {'': 'nespecificat', 'parțial': 'parțial', 'complet': 'complet', 'lux': 'lux'}\n",
    "real_estate_df['mobilare'] = real_estate_df['mobilare'].map(mobilare_mapping)\n",
    "# Rename\n",
    "real_estate_df = real_estate_df.rename(columns={'mobilare': 'furnishing'})"
   ]
  },
  {
   "cell_type": "code",
   "execution_count": 1315,
   "metadata": {},
   "outputs": [],
   "source": [
    "# Extract only the date part of the 'data_adaugare' values\n",
    "real_estate_df['data_adaugare'] = real_estate_df['data_adaugare'].str.split(' ').str[0]\n",
    "# Convert to date format\n",
    "real_estate_df['data_adaugare'] = pd.to_datetime(real_estate_df['data_adaugare'], format='%Y-%m-%d')\n",
    "# Rename 'data_adaugare' to 'date_of_listing'\n",
    "real_estate_df = real_estate_df.rename(columns={'data_adaugare': 'date_of_listing'})"
   ]
  },
  {
   "cell_type": "code",
   "execution_count": 1316,
   "metadata": {},
   "outputs": [],
   "source": [
    "# Replace missing or infinite values with -1\n",
    "real_estate_df['nr_camere_referinta'] = real_estate_df['nr_camere_referinta'].fillna(-1)\n",
    "\n",
    "# Rename 'nr_camere_referinta' to 'rooms'\n",
    "real_estate_df = real_estate_df.rename(columns={'nr_camere_referinta': 'rooms'})\n",
    "\n",
    "# Cast to integer\n",
    "real_estate_df['rooms'] = real_estate_df['rooms'].astype(int)"
   ]
  },
  {
   "cell_type": "code",
   "execution_count": 1317,
   "metadata": {},
   "outputs": [],
   "source": [
    "# Create a new column for currency by extracting the second element of the string\n",
    "real_estate_df['Currency'] = real_estate_df['pret_vanzare'].str.split().str[1]\n",
    "# Extract the first element of the string (price)\n",
    "real_estate_df['pret_vanzare'] = real_estate_df['pret_vanzare'].str.split().str[0]\n",
    "# Rename 'pret_vanzare' to 'price'\n",
    "real_estate_df = real_estate_df.rename(columns={'pret_vanzare': 'price'})"
   ]
  },
  {
   "cell_type": "code",
   "execution_count": 1318,
   "metadata": {},
   "outputs": [
    {
     "name": "stderr",
     "output_type": "stream",
     "text": [
      "C:\\Users\\Serghei.Dragan\\AppData\\Local\\Temp\\ipykernel_2348\\4206391201.py:5: FutureWarning: The default value of regex will change from True to False in a future version. In addition, single character regular expressions will *not* be treated as literal strings when regex=True.\n",
      "  real_estate_df['price'] = real_estate_df['price'].str.replace('.', '')\n"
     ]
    },
    {
     "name": "stdout",
     "output_type": "stream",
     "text": [
      "EUR    55783\n",
      "RON       18\n",
      "USD        1\n",
      "Name: Currency, dtype: int64\n"
     ]
    }
   ],
   "source": [
    "# Drop rows that have no price\n",
    "real_estate_df.dropna(subset=['price'], inplace=True)\n",
    "\n",
    "# Exclude '.' from 'price'\n",
    "real_estate_df['price'] = real_estate_df['price'].str.replace('.', '')\n",
    "\n",
    "# Drop values that are not numbers and contain the value 'Preț'\n",
    "real_estate_df.drop(real_estate_df[real_estate_df['price'] == 'Preț'].index, inplace=True)\n",
    "\n",
    "# Replace ',' with '.' in 'price' column\n",
    "real_estate_df['price'] = real_estate_df['price'].str.replace(',', '.')\n",
    "\n",
    "# Convert 'price' to float\n",
    "real_estate_df['price'] = real_estate_df['price'].astype(float)\n",
    "\n",
    "# Check currency types\n",
    "print(real_estate_df['Currency'].value_counts())"
   ]
  },
  {
   "cell_type": "code",
   "execution_count": 1319,
   "metadata": {},
   "outputs": [],
   "source": [
    "# Drop properties listed in USD and RON as there a few properties only\n",
    "currencies = ['USD', 'RON']\n",
    "for currency in currencies:\n",
    "    real_estate_df.drop(real_estate_df[real_estate_df['Currency'] == currency].index, inplace=True)\n",
    "# Rename price field\n",
    "real_estate_df = real_estate_df.rename(columns={'price': 'price_EUR'})\n",
    "# Drop currency attribute\n",
    "real_estate_df = real_estate_df.drop('Currency', axis=1)"
   ]
  },
  {
   "cell_type": "code",
   "execution_count": 1320,
   "metadata": {},
   "outputs": [],
   "source": [
    "# Drop 'regim_inaltime'\n",
    "real_estate_df = real_estate_df.drop('regim_inaltime', axis=1)"
   ]
  },
  {
   "cell_type": "code",
   "execution_count": 1321,
   "metadata": {},
   "outputs": [
    {
     "data": {
      "text/plain": [
       "2023    3944\n",
       "2024    2546\n",
       "2022    1030\n",
       "2025     335\n",
       "2021     179\n",
       "2020      58\n",
       "2019      21\n",
       "2018      20\n",
       "2026      19\n",
       "1970      17\n",
       "1977      15\n",
       "1990      14\n",
       "1980       7\n",
       "2000       4\n",
       "2017       3\n",
       "2010       2\n",
       "2016       1\n",
       "2028       1\n",
       "1931       1\n",
       "Name: construction_year, dtype: int64"
      ]
     },
     "execution_count": 1321,
     "metadata": {},
     "output_type": "execute_result"
    }
   ],
   "source": [
    "mask = (real_estate_df['stadiu_constructie'] == 'in constructie')\n",
    "real_estate_df.loc[mask, 'construction_year'].value_counts()"
   ]
  },
  {
   "cell_type": "code",
   "execution_count": 1322,
   "metadata": {},
   "outputs": [],
   "source": [
    "# Add additional labels to 'under_construction_y_n' field based on 'stadiu_constructie' if year >=2022\n",
    "real_estate_df.loc[(real_estate_df['stadiu_constructie'] == 'in constructie') &\n",
    "                   (real_estate_df['construction_year'] >= 2022), 'under_construction_y_n'] = True"
   ]
  },
  {
   "cell_type": "code",
   "execution_count": 1323,
   "metadata": {},
   "outputs": [],
   "source": [
    "# Drop 'stadiu_constructie' as this is redundant info\n",
    "real_estate_df = real_estate_df.drop('stadiu_constructie', axis=1)\n",
    "# Drop 'suprafata_construita' as this is redundant info\n",
    "real_estate_df = real_estate_df.drop('suprafata_construita', axis=1)"
   ]
  },
  {
   "cell_type": "code",
   "execution_count": 1324,
   "metadata": {},
   "outputs": [],
   "source": [
    "import numpy as np\n",
    "# Replace empty cells with NaN\n",
    "real_estate_df.replace('', np.nan, inplace=True)"
   ]
  },
  {
   "cell_type": "code",
   "execution_count": 1325,
   "metadata": {},
   "outputs": [],
   "source": [
    "# Find the mode value for 'structura_rezistenta'\n",
    "mode_value = real_estate_df['structura_rezistenta'].mode()[0]\n",
    "# Fill the NaN values with the mode value\n",
    "real_estate_df['structura_rezistenta'].fillna(mode_value, inplace=True)"
   ]
  },
  {
   "cell_type": "code",
   "execution_count": 1326,
   "metadata": {},
   "outputs": [],
   "source": [
    "# Find the mode value for 'structura_rezistenta'\n",
    "mode_value = real_estate_df['tip_imobil'].mode()[0]\n",
    "# Fill the NaN values with the mode value\n",
    "real_estate_df['tip_imobil'].fillna(mode_value, inplace=True)"
   ]
  },
  {
   "cell_type": "code",
   "execution_count": 1327,
   "metadata": {},
   "outputs": [],
   "source": [
    "average_surface = round(real_estate_df['useful_surface'].mean(),2)\n",
    "real_estate_df['useful_surface'].fillna(average_surface, inplace=True)"
   ]
  },
  {
   "attachments": {},
   "cell_type": "markdown",
   "metadata": {},
   "source": [
    "In the first line of the code, we group the data by 'localitate' and apply the mode() function to the 'zona' column within each group using a lambda function. This gives us the mode value for each 'localitate'.\n",
    "\n",
    "In the second line of the code, we use the fillna() function to fill the missing values in the 'zona' column with the corresponding mode value for each 'localitate'. We do this by grouping the data by 'localitate' again and applying another lambda function to each group. This lambda function fills missing values in 'zona' with the mode value for that group, which we get from the mode_by_localitate Series using the x.name attribute of the group.\n",
    "\n",
    "mode_by_localitate is a pandas Series object that contains the mode value of the 'zona' column for each 'localitate' in the DataFrame.\n",
    "\n",
    "The index of the mode_by_localitate Series is the set of unique values of 'localitate' in the DataFrame, and the values of the Series are the mode values of the 'zona' column for each 'localitate'."
   ]
  },
  {
   "cell_type": "code",
   "execution_count": 1328,
   "metadata": {},
   "outputs": [
    {
     "name": "stderr",
     "output_type": "stream",
     "text": [
      "C:\\Users\\Serghei.Dragan\\AppData\\Local\\Temp\\ipykernel_2348\\729418017.py:5: FutureWarning: Not prepending group keys to the result index of transform-like apply. In the future, the group keys will be included in the index, regardless of whether the applied function returns a like-indexed object.\n",
      "To preserve the previous behavior, use\n",
      "\n",
      "\t>>> .groupby(..., group_keys=False)\n",
      "\n",
      "To adopt the future behavior and silence this warning, use \n",
      "\n",
      "\t>>> .groupby(..., group_keys=True)\n",
      "  real_estate_df['zona'] = real_estate_df.groupby('localitate')['zona'].apply(\n"
     ]
    }
   ],
   "source": [
    "# Group the data by 'localitate' and find the mode of 'zona' within each group\n",
    "mode_by_localitate = real_estate_df.groupby('localitate')['zona'].apply(lambda x: x.mode()[0])\n",
    "\n",
    "# Fill missing values in 'zona' with the mode for the corresponding 'localitate'\n",
    "real_estate_df['zona'] = real_estate_df.groupby('localitate')['zona'].apply(\n",
    "                                                lambda x: x.fillna(mode_by_localitate[x.name]))"
   ]
  },
  {
   "attachments": {},
   "cell_type": "markdown",
   "metadata": {},
   "source": [
    "When you group a DataFrame using the groupby() function in pandas, the resulting object is a GroupBy object. You can iterate over the GroupBy object to get each group, where each group is a tuple of (group_name, group_data). The group_name is a unique value from the grouping column(s), and group_data is a DataFrame containing all the rows that belong to that group.\n",
    "\n",
    "In the lambda function that we used to fill missing values in the 'zona' column, the x variable represents the group data for each group. Since we used groupby('localitate'), x.name is the unique value of 'localitate' for the current group, and we use this value to look up the corresponding mode value for that group in the mode_by_localitate Series.\n",
    "\n",
    "So, x.name is matching by group names, specifically the unique values of 'localitate' in this case."
   ]
  },
  {
   "cell_type": "code",
   "execution_count": 1329,
   "metadata": {},
   "outputs": [],
   "source": [
    "# Remove rows with null values in the 'floor_level' attribute as we have only 27 values\n",
    "real_estate_df.dropna(subset=['floor_level'], inplace=True)"
   ]
  },
  {
   "cell_type": "code",
   "execution_count": 1330,
   "metadata": {},
   "outputs": [],
   "source": [
    "# Create a new field that specifies if the heating system is 'Termoficare'\n",
    "real_estate_df['termoficare_y_n'] = real_estate_df['Sistem Incalzire'].str.contains(\n",
    "                                        'Termoficare', case=False, na=False)\n",
    "# Create a new field that specifies if the heating system is 'Centrala Proprie'\n",
    "real_estate_df['centrala_proprie_y_n'] = real_estate_df['Sistem Incalzire'].str.contains(\n",
    "                                        'Centrala proprie', case=False, na=False)\n",
    "# Create a new field that specifies if the heating system is 'Centrala imobil'\n",
    "real_estate_df['centrala_imobil_y_n'] = real_estate_df['Sistem Incalzire'].str.contains(\n",
    "                                        'Centrala imobil', case=False, na=False)\n",
    "# Create a new field that specifies if the property has underfloor heating\n",
    "real_estate_df['floor_heating_y_n'] = real_estate_df['Sistem Incalzire'].str.contains(\n",
    "                                        'Incalzire prin pardoseala', case=False, na=False)"
   ]
  },
  {
   "cell_type": "code",
   "execution_count": 1331,
   "metadata": {},
   "outputs": [],
   "source": [
    "# Drop column 'Sistem Incalzire' \n",
    "real_estate_df.drop('Sistem Incalzire', axis=1, inplace=True)"
   ]
  },
  {
   "cell_type": "code",
   "execution_count": 1332,
   "metadata": {},
   "outputs": [],
   "source": [
    "# Drop columns that are not expected to influence the price significantly\n",
    "columns_to_drop = ['Amenajare Strazi', 'Podele', 'Utilitati Generale', 'Usa Intrare']\n",
    "for column in columns_to_drop:\n",
    "    if column in real_estate_df.columns:\n",
    "        real_estate_df.drop(column, axis=1, inplace=True)"
   ]
  },
  {
   "cell_type": "code",
   "execution_count": 1333,
   "metadata": {},
   "outputs": [],
   "source": [
    "# There are null values in 'max_floor' field so we need to feel them up\n",
    "real_estate_df['max_floor'].fillna(real_estate_df['floor_level'], inplace=True)"
   ]
  },
  {
   "cell_type": "code",
   "execution_count": 1334,
   "metadata": {},
   "outputs": [],
   "source": [
    "# Convert 'date_snapshot' to date format that corresponds to same format as 'date_of_listing'\n",
    "real_estate_df['date_snapshot'] = pd.to_datetime(real_estate_df['date_snapshot'], format='%d-%m-%Y').dt.strftime('%Y-%m-%d')\n",
    "# Create a new field that tracks the number of days since the property was listed on the marketplace\n",
    "real_estate_df['days_since_listing'] = (pd.to_datetime(real_estate_df['date_snapshot'], format='%Y-%m-%d') - \n",
    "                                        pd.to_datetime(real_estate_df['date_of_listing'], format='%Y-%m-%d')).dt.days"
   ]
  },
  {
   "cell_type": "code",
   "execution_count": 1335,
   "metadata": {},
   "outputs": [],
   "source": [
    "# Create a new column with the month from 'date_of_listing' \n",
    "real_estate_df['month_of_listing'] = real_estate_df['date_of_listing'].apply(lambda x: x.month)\n",
    "# Create a new column with the year from 'date_of_listing' \n",
    "real_estate_df['year_of_listing'] = real_estate_df['date_of_listing'].apply(lambda x: x.year)"
   ]
  },
  {
   "cell_type": "code",
   "execution_count": 1336,
   "metadata": {},
   "outputs": [],
   "source": [
    "# Dropping 'nr_balcoane_inchise' as we have the required info in the 'nr_balcoane' field\n",
    "real_estate_df.drop('nr_balcoane_inchise', axis=1, inplace=True)"
   ]
  },
  {
   "cell_type": "code",
   "execution_count": 1337,
   "metadata": {},
   "outputs": [
    {
     "name": "stdout",
     "output_type": "stream",
     "text": [
      "Total number of duplicates: 0\n"
     ]
    }
   ],
   "source": [
    "# Count the number of duplicates\n",
    "num_duplicates = sum(real_estate_df.duplicated())\n",
    "print(f'Total number of duplicates: {num_duplicates}')\n",
    "# Drop duplicates\n",
    "real_estate_df.drop_duplicates(inplace=True)"
   ]
  },
  {
   "cell_type": "code",
   "execution_count": 1338,
   "metadata": {},
   "outputs": [],
   "source": [
    "# Create price per square meter metric\n",
    "real_estate_df['price_EUR_sqm'] = round(real_estate_df['price_EUR'] / real_estate_df['useful_surface'], 2)"
   ]
  },
  {
   "cell_type": "code",
   "execution_count": 1339,
   "metadata": {},
   "outputs": [
    {
     "name": "stdout",
     "output_type": "stream",
     "text": [
      "<class 'pandas.core.frame.DataFrame'>\n",
      "Int64Index: 55762 entries, 0 to 55867\n",
      "Data columns (total 49 columns):\n",
      " #   Column                              Non-Null Count  Dtype         \n",
      "---  ------                              --------------  -----         \n",
      " 0   id                                  55762 non-null  object        \n",
      " 1   judet                               55762 non-null  object        \n",
      " 2   localitate                          55762 non-null  object        \n",
      " 3   zona                                55762 non-null  object        \n",
      " 4   commission                          55762 non-null  int64         \n",
      " 5   latitudine                          55762 non-null  float64       \n",
      " 6   longitudine                         55762 non-null  float64       \n",
      " 7   price_EUR                           55762 non-null  float64       \n",
      " 8   data_modificare_pret_vanzare        55762 non-null  object        \n",
      " 9   pret_vanzare_referinta_anterior     55762 non-null  float64       \n",
      " 10  pret_inchiriere_referinta_anterior  55762 non-null  int64         \n",
      " 11  data_modificare_pret_inchiriere     55762 non-null  object        \n",
      " 12  rooms                               55762 non-null  int32         \n",
      " 13  construction_year                   55762 non-null  int32         \n",
      " 14  useful_surface                      55762 non-null  float64       \n",
      " 15  floor_level                         55762 non-null  object        \n",
      " 16  date_of_listing                     55762 non-null  datetime64[ns]\n",
      " 17  pret_negociabil                     55762 non-null  int64         \n",
      " 18  nr_of_kitchens                      55762 non-null  int64         \n",
      " 19  nr_bai                              55762 non-null  int64         \n",
      " 20  nr_balcoane                         55762 non-null  int64         \n",
      " 21  nr_garaje                           55762 non-null  int64         \n",
      " 22  partitioning                        55762 non-null  object        \n",
      " 23  comfort                             55762 non-null  int32         \n",
      " 24  structura_rezistenta                55762 non-null  object        \n",
      " 25  tip_imobil                          55762 non-null  object        \n",
      " 26  nr_locuri_parcare                   55762 non-null  int64         \n",
      " 27  furnishing                          55762 non-null  object        \n",
      " 28  link_detalii                        55762 non-null  object        \n",
      " 29  id_localitate                       55762 non-null  int64         \n",
      " 30  tip_client                          55762 non-null  object        \n",
      " 31  salvat                              55762 non-null  int64         \n",
      " 32  agent.nume                          51971 non-null  object        \n",
      " 33  agent.functie                       39942 non-null  object        \n",
      " 34  agent.firma                         55762 non-null  object        \n",
      " 35  Pereti                              40475 non-null  object        \n",
      " 36  date_snapshot                       55762 non-null  object        \n",
      " 37  under_construction_y_n              55762 non-null  bool          \n",
      " 38  project_phase_y_n                   55762 non-null  bool          \n",
      " 39  max_floor                           55762 non-null  object        \n",
      " 40  mansard_y_n                         55762 non-null  bool          \n",
      " 41  termoficare_y_n                     55762 non-null  bool          \n",
      " 42  centrala_proprie_y_n                55762 non-null  bool          \n",
      " 43  centrala_imobil_y_n                 55762 non-null  bool          \n",
      " 44  floor_heating_y_n                   55762 non-null  bool          \n",
      " 45  days_since_listing                  55762 non-null  int64         \n",
      " 46  month_of_listing                    55762 non-null  int64         \n",
      " 47  year_of_listing                     55762 non-null  int64         \n",
      " 48  price_EUR_sqm                       55762 non-null  float64       \n",
      "dtypes: bool(7), datetime64[ns](1), float64(6), int32(3), int64(13), object(19)\n",
      "memory usage: 18.0+ MB\n"
     ]
    }
   ],
   "source": [
    "real_estate_df.info()"
   ]
  },
  {
   "cell_type": "code",
   "execution_count": 1340,
   "metadata": {},
   "outputs": [
    {
     "name": "stdout",
     "output_type": "stream",
     "text": [
      "The column 'Pereti' has been dropped.\n",
      "The column 'id_localitate' has been dropped.\n",
      "The column 'data_modificare_pret_vanzare' has been dropped.\n",
      "The column 'pret_vanzare_referinta_anterior' has been dropped.\n",
      "The column 'pret_inchiriere_referinta_anterior' has been dropped.\n",
      "The column 'data_modificare_pret_inchiriere' has been dropped.\n",
      "The column 'salvat' has been dropped.\n"
     ]
    }
   ],
   "source": [
    "# In previous versions the feature 'Pereti' and 'id_localitate' was not present, so dropping them if they exist\n",
    "columns_to_drop = ['Pereti', 'id_localitate', 'data_modificare_pret_vanzare',\n",
    "                   'pret_vanzare_referinta_anterior', 'pret_inchiriere_referinta_anterior',\n",
    "                   'data_modificare_pret_inchiriere', 'salvat']\n",
    "\n",
    "for column_to_drop in columns_to_drop: \n",
    "    if column_to_drop in real_estate_df.columns:\n",
    "        # Drop the column if it exists\n",
    "        real_estate_df.drop(columns=[column_to_drop], axis=1, inplace=True)\n",
    "        print(f\"The column '{column_to_drop}' has been dropped.\")\n",
    "    else:\n",
    "        print(f\"The column '{column_to_drop}' does not exist. No action taken.\")"
   ]
  },
  {
   "attachments": {},
   "cell_type": "markdown",
   "metadata": {},
   "source": [
    "### Data Visualization"
   ]
  },
  {
   "attachments": {},
   "cell_type": "markdown",
   "metadata": {},
   "source": [
    "#### Price per sqm distribution"
   ]
  },
  {
   "cell_type": "code",
   "execution_count": 1341,
   "metadata": {},
   "outputs": [
    {
     "data": {
      "image/png": "[encoded data removed]",
      "text/plain": [
       "<Figure size 500x500 with 1 Axes>"
      ]
     },
     "metadata": {},
     "output_type": "display_data"
    }
   ],
   "source": [
    "# Calculate the IQR of the price_EUR_sqm column\n",
    "q1 = real_estate_df['price_EUR_sqm'].quantile(0.25)\n",
    "q3 = real_estate_df['price_EUR_sqm'].quantile(0.75)\n",
    "iqr = q3 - q1\n",
    "\n",
    "# Calculate the upper and lower bounds for outliers\n",
    "upper_bound = q3 + 3*iqr\n",
    "lower_bound = q1 - 1.5*iqr\n",
    "\n",
    "# Remove the outliers from the dataframe\n",
    "real_estate_df = real_estate_df[(real_estate_df['price_EUR_sqm'] >= lower_bound) & (real_estate_df['price_EUR_sqm'] <= upper_bound)]\n",
    "\n",
    "# Create a histogram of price_EUR_sqm\n",
    "sns.displot(data=real_estate_df, x='price_EUR_sqm', bins=30)\n",
    "\n",
    "# Set the x- and y-axis labels and title\n",
    "plt.xlabel('Price (EUR/sqm)')\n",
    "plt.ylabel('# of properties')\n",
    "plt.title('Distribution of Price per Square Meter')\n",
    "\n",
    "# Show the plot\n",
    "plt.show()"
   ]
  },
  {
   "cell_type": "code",
   "execution_count": 1342,
   "metadata": {},
   "outputs": [],
   "source": [
    "# Cast floor_level to int\n",
    "real_estate_df['floor_level'] = real_estate_df['floor_level'].astype(int)"
   ]
  },
  {
   "attachments": {},
   "cell_type": "markdown",
   "metadata": {},
   "source": [
    "Push data to SQL Server"
   ]
  },
  {
   "cell_type": "code",
   "execution_count": 1343,
   "metadata": {},
   "outputs": [
    {
     "name": "stdout",
     "output_type": "stream",
     "text": [
      "Table 'dbo.Real_estate_25_Dec_2023' created successfully.\n"
     ]
    }
   ],
   "source": [
    "# Establish a connection to the SQL Server database\n",
    "conn = pyodbc.connect(\n",
    "    'Driver={ODBC Driver 17 for SQL Server};'\n",
    "    'Server=WRLT0371;' # device or laptop name\n",
    "    'Database=hibernia;'\n",
    "    'Trusted_Connection=yes;'\n",
    ")\n",
    "\n",
    "cursor = conn.cursor()\n",
    "\n",
    "# Define the schema and table name\n",
    "schema_name = 'dbo'\n",
    "table_name = 'Real_estate_25_Dec_2023'\n",
    "\n",
    "# Check if the table already exists in the database\n",
    "cursor.execute(f\"IF OBJECT_ID('{schema_name}.{table_name}', 'U') IS NOT NULL SELECT 1 ELSE SELECT 0\")\n",
    "table_exists = cursor.fetchone()[0] == 1\n",
    "\n",
    "if table_exists:\n",
    "    print(f\"Table '{schema_name}.{table_name}' already exists.\")\n",
    "else:\n",
    "    # Get the data types from the DataFrame\n",
    "    dtypes = real_estate_df.dtypes\n",
    "\n",
    "    # Generate the CREATE TABLE query based on the DataFrame columns and data types\n",
    "    create_table_query = f\"CREATE TABLE {schema_name}.{table_name} (\" # define create_table_query initially as a string containing the schema and table name we are going to create\n",
    "    for column, dtype in dtypes.items():\n",
    "        column_name = f\"[{column}]\"  # Enclose column name in square brackets\n",
    "        if dtype == 'object':\n",
    "            create_table_query += f\"{column_name} VARCHAR(MAX) NULL, \"  # Add NULL keyword\n",
    "        elif dtype == 'int64':\n",
    "            create_table_query += f\"{column_name} INT NULL, \"  # Add NULL keyword\n",
    "        elif dtype == 'float64':\n",
    "            create_table_query += f\"{column_name} FLOAT NULL, \"  # Add NULL keyword\n",
    "        elif dtype == 'bool':\n",
    "            create_table_query += f\"{column_name} BIT NULL, \"  # Convert bool to BIT and add NULL keyword\n",
    "        elif dtype == 'datetime64[ns]':\n",
    "            create_table_query += f\"{column_name} VARCHAR(MAX) NULL, \"  # Assuming date columns are stored as strings and add NULL keyword\n",
    "        else:\n",
    "            create_table_query += f\"{column_name} VARCHAR(MAX) NULL, \"  # Assign VARCHAR(MAX) for other data types and add NULL keyword\n",
    "    create_table_query = create_table_query[:-2] + \")\"  # Remove the trailing comma and space\n",
    "\n",
    "    cursor.execute(create_table_query) # run the query of creating the table with corresponding columns - not that the create_table_query variable is actually assigned a string containing the SQL command\n",
    "    conn.commit()\n",
    "    print(f\"Table '{schema_name}.{table_name}' created successfully.\")\n",
    "\n",
    "# Insert the data into the table\n",
    "subset_df = real_estate_df  # Insert the entire dataframe as a subset\n",
    "\n",
    "for _, row in subset_df.iterrows():\n",
    "    try:\n",
    "        values = row.values.tolist()\n",
    "        for i in range(len(values)):\n",
    "            if pd.isnull(values[i]):\n",
    "                values[i] = \"NULL\"  # Convert NaN values to NULL\n",
    "            elif isinstance(values[i], float):\n",
    "                values[i] = str(values[i])  # Convert float values to string representation\n",
    "            elif isinstance(values[i], str):\n",
    "                values[i] = values[i].replace(\"'\", \"''\")  # Escape single quotation marks\n",
    "\n",
    "        values = \", \".join([\"'\" + str(value) + \"'\" for value in values])\n",
    "        insert_query = f'INSERT INTO {schema_name}.{table_name} VALUES ({values})'\n",
    "        cursor.execute(insert_query)\n",
    "        conn.commit()\n",
    "    except Exception as e:\n",
    "        print(\"Error occurred while inserting row:\")\n",
    "        print(row)\n",
    "        print(\"Error message:\", str(e))\n",
    "        break\n",
    "\n",
    "# Close the database connection\n",
    "conn.close()"
   ]
  }
 ],
 "metadata": {
  "kernelspec": {
   "display_name": "base",
   "language": "python",
   "name": "python3"
  },
  "language_info": {
   "codemirror_mode": {
    "name": "ipython",
    "version": 3
   },
   "file_extension": ".py",
   "mimetype": "text/x-python",
   "name": "python",
   "nbconvert_exporter": "python",
   "pygments_lexer": "ipython3",
   "version": "3.9.18"
  },
  "orig_nbformat": 4,
  "vscode": {
   "interpreter": {
    "hash": "9daf80120b55e04156ff11b4bd3dd17bf46a8d9a64e9cd5a74f395ae01fae5d5"
   }
  }
 },
 "nbformat": 4,
 "nbformat_minor": 2
}
