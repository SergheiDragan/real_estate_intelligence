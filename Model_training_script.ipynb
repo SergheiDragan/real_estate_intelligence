{
 "cells": [
  {
   "cell_type": "code",
   "execution_count": 3,
   "metadata": {},
   "outputs": [],
   "source": [
    "import pandas as pd\n",
    "import json\n",
    "import numpy as np\n",
    "import seaborn as sns\n",
    "import matplotlib.pyplot as plt\n",
    "from sklearn.preprocessing import StandardScaler, LabelEncoder\n",
    "from sklearn.model_selection import train_test_split"
   ]
  },
  {
   "attachments": {},
   "cell_type": "markdown",
   "metadata": {},
   "source": [
    "## Stage 1: Load and merge JSON data into a DataFrame and create a flat table"
   ]
  },
  {
   "cell_type": "code",
   "execution_count": 4,
   "metadata": {},
   "outputs": [],
   "source": [
    "# List of JSON files to merge\n",
    "json_files = [\"Brasov_2023-03-20.json\", \"Bucuresti_2023-03-20.json\", \"Cluj_2023-03-20.json\", \n",
    "              \"Constanta_2023-03-20.json\", \"Craiova_2023-03-20.json\", \"Iasi_2023-03-20.json\",\n",
    "              \"Oradea_2023-03-20.json\", \"Sibiu_2023-03-20.json\", \"Timisoara_2023-03-20.json\"]\n",
    "\n",
    "# Create an empty list to store the data from each file\n",
    "data_from_json = []\n",
    "\n",
    "# Loop through each JSON file and load its data into the `data_from_json` list\n",
    "for file in json_files:\n",
    "    with open(file, \"r\") as f:\n",
    "        data_from_json.append(json.load(f))\n",
    "\n",
    "# Concatenate the items in the `data_from_json` list into a single list\n",
    "merged_data = []\n",
    "for data in data_from_json:\n",
    "    merged_data += data"
   ]
  },
  {
   "cell_type": "code",
   "execution_count": 5,
   "metadata": {},
   "outputs": [
    {
     "data": {
      "text/plain": [
       "(69479, 122)"
      ]
     },
     "execution_count": 5,
     "metadata": {},
     "output_type": "execute_result"
    }
   ],
   "source": [
    "# Convert the merged data to a pandas DataFrame\n",
    "full_df = pd.json_normalize(merged_data)\n",
    "full_df.shape"
   ]
  },
  {
   "cell_type": "code",
   "execution_count": 6,
   "metadata": {},
   "outputs": [],
   "source": [
    "specificatii_rows = []\n",
    "for i, row in enumerate(full_df.to_dict('records')):\n",
    "    try:\n",
    "        specificatii_df = pd.json_normalize(\n",
    "            row,\n",
    "            record_path=['specificatii', 'elemente'], # define the unpacking order\n",
    "            meta=['id', 'id_string', ['specificatii', 'titlu']] # specify the columns to keep. Include 'id' for subsequent merging.\n",
    "        )\n",
    "        specificatii_rows.append(specificatii_df)\n",
    "    except TypeError as e:\n",
    "        print(f\"Error in row {i}: {e}\")\n",
    "        continue\n",
    "        \n",
    "specificatii_df = pd.concat(specificatii_rows, ignore_index=True)"
   ]
  },
  {
   "cell_type": "code",
   "execution_count": 7,
   "metadata": {},
   "outputs": [
    {
     "data": {
      "text/plain": [
       "(1048474, 5)"
      ]
     },
     "execution_count": 7,
     "metadata": {},
     "output_type": "execute_result"
    }
   ],
   "source": [
    "# Remove duplicates as they usually appear due to missing values in some columns\n",
    "specificatii_df.drop_duplicates(inplace=True)\n",
    "specificatii_df.shape"
   ]
  },
  {
   "cell_type": "code",
   "execution_count": 8,
   "metadata": {},
   "outputs": [],
   "source": [
    "# Create a copy of the data frame in order to perform value_counts and identify 'subtitlu'-ri to remove\n",
    "subtitlu_to_delete = pd.DataFrame(specificatii_df)\n",
    "# Apply title and strip methods to make the names uniform before computing their share\n",
    "subtitlu_to_delete['subtitlu'] = subtitlu_to_delete['subtitlu'].apply(lambda x: x.title().strip())\n",
    "subtitlu_to_delete['specificatii.titlu'] = subtitlu_to_delete['specificatii.titlu'].apply(lambda x: x.title().strip())\n",
    "# Subset only relevant columns to keep and set value column name to 'share'\n",
    "subtitlu_to_delete = subtitlu_to_delete.value_counts(subset=['specificatii.titlu', 'subtitlu'], normalize=True).to_frame('share')\n",
    "# Compute the estimated share of non-missing values in the original data frame for each 'subtitlu'\n",
    "subtitlu_to_delete['share_%_of_properties'] = subtitlu_to_delete['share'].apply(\n",
    "                                                            lambda x: (x * specificatii_df.shape[0]) / full_df.shape[0])\n",
    "# Reset index\n",
    "subtitlu_to_delete.reset_index(drop=False, inplace=True)"
   ]
  },
  {
   "cell_type": "code",
   "execution_count": 9,
   "metadata": {},
   "outputs": [
    {
     "data": {
      "text/html": [
       "<div>\n",
       "<style scoped>\n",
       "    .dataframe tbody tr th:only-of-type {\n",
       "        vertical-align: middle;\n",
       "    }\n",
       "\n",
       "    .dataframe tbody tr th {\n",
       "        vertical-align: top;\n",
       "    }\n",
       "\n",
       "    .dataframe thead th {\n",
       "        text-align: right;\n",
       "    }\n",
       "</style>\n",
       "<table border=\"1\" class=\"dataframe\">\n",
       "  <thead>\n",
       "    <tr style=\"text-align: right;\">\n",
       "      <th></th>\n",
       "      <th>specificatii.titlu</th>\n",
       "      <th>subtitlu</th>\n",
       "      <th>share</th>\n",
       "      <th>share_%_of_properties</th>\n",
       "    </tr>\n",
       "  </thead>\n",
       "  <tbody>\n",
       "    <tr>\n",
       "      <th>0</th>\n",
       "      <td>Utilități</td>\n",
       "      <td>Utilitati Generale</td>\n",
       "      <td>0.055700</td>\n",
       "      <td>0.840542</td>\n",
       "    </tr>\n",
       "    <tr>\n",
       "      <th>1</th>\n",
       "      <td>Utilități</td>\n",
       "      <td>Sistem Incalzire</td>\n",
       "      <td>0.051676</td>\n",
       "      <td>0.779818</td>\n",
       "    </tr>\n",
       "    <tr>\n",
       "      <th>2</th>\n",
       "      <td>Alte Detalii Zonă</td>\n",
       "      <td>Amenajare Strazi</td>\n",
       "      <td>0.050549</td>\n",
       "      <td>0.762806</td>\n",
       "    </tr>\n",
       "    <tr>\n",
       "      <th>3</th>\n",
       "      <td>Finisaje</td>\n",
       "      <td>Podele</td>\n",
       "      <td>0.048255</td>\n",
       "      <td>0.728191</td>\n",
       "    </tr>\n",
       "    <tr>\n",
       "      <th>4</th>\n",
       "      <td>Finisaje</td>\n",
       "      <td>Pereti</td>\n",
       "      <td>0.047444</td>\n",
       "      <td>0.715957</td>\n",
       "    </tr>\n",
       "    <tr>\n",
       "      <th>5</th>\n",
       "      <td>Finisaje</td>\n",
       "      <td>Usa Intrare</td>\n",
       "      <td>0.047265</td>\n",
       "      <td>0.713251</td>\n",
       "    </tr>\n",
       "    <tr>\n",
       "      <th>6</th>\n",
       "      <td>Finisaje</td>\n",
       "      <td>Ferestre Cu Geam Termopan</td>\n",
       "      <td>0.042265</td>\n",
       "      <td>0.637804</td>\n",
       "    </tr>\n",
       "    <tr>\n",
       "      <th>7</th>\n",
       "      <td>Alte Detalii Zonă</td>\n",
       "      <td>Mijloace De Transport In Comun</td>\n",
       "      <td>0.039488</td>\n",
       "      <td>0.595892</td>\n",
       "    </tr>\n",
       "    <tr>\n",
       "      <th>8</th>\n",
       "      <td>Alte Detalii Zonă</td>\n",
       "      <td>Iluminat Stradal</td>\n",
       "      <td>0.039375</td>\n",
       "      <td>0.594194</td>\n",
       "    </tr>\n",
       "    <tr>\n",
       "      <th>9</th>\n",
       "      <td>Dotări</td>\n",
       "      <td>Dotari Imobil</td>\n",
       "      <td>0.038276</td>\n",
       "      <td>0.577599</td>\n",
       "    </tr>\n",
       "    <tr>\n",
       "      <th>10</th>\n",
       "      <td>Finisaje</td>\n",
       "      <td>Izolatii Termice</td>\n",
       "      <td>0.035788</td>\n",
       "      <td>0.540062</td>\n",
       "    </tr>\n",
       "    <tr>\n",
       "      <th>11</th>\n",
       "      <td>Dotări</td>\n",
       "      <td>Contorizare</td>\n",
       "      <td>0.034711</td>\n",
       "      <td>0.523813</td>\n",
       "    </tr>\n",
       "    <tr>\n",
       "      <th>12</th>\n",
       "      <td>Finisaje</td>\n",
       "      <td>Usi Interior</td>\n",
       "      <td>0.033979</td>\n",
       "      <td>0.512759</td>\n",
       "    </tr>\n",
       "    <tr>\n",
       "      <th>13</th>\n",
       "      <td>Dotări</td>\n",
       "      <td>Mobilat</td>\n",
       "      <td>0.030441</td>\n",
       "      <td>0.459376</td>\n",
       "    </tr>\n",
       "    <tr>\n",
       "      <th>14</th>\n",
       "      <td>Disponibilitate Proprietate</td>\n",
       "      <td>Imediat</td>\n",
       "      <td>0.029794</td>\n",
       "      <td>0.449603</td>\n",
       "    </tr>\n",
       "  </tbody>\n",
       "</table>\n",
       "</div>"
      ],
      "text/plain": [
       "             specificatii.titlu                        subtitlu     share  \\\n",
       "0                     Utilități              Utilitati Generale  0.055700   \n",
       "1                     Utilități                Sistem Incalzire  0.051676   \n",
       "2             Alte Detalii Zonă                Amenajare Strazi  0.050549   \n",
       "3                      Finisaje                          Podele  0.048255   \n",
       "4                      Finisaje                          Pereti  0.047444   \n",
       "5                      Finisaje                     Usa Intrare  0.047265   \n",
       "6                      Finisaje       Ferestre Cu Geam Termopan  0.042265   \n",
       "7             Alte Detalii Zonă  Mijloace De Transport In Comun  0.039488   \n",
       "8             Alte Detalii Zonă                Iluminat Stradal  0.039375   \n",
       "9                        Dotări                   Dotari Imobil  0.038276   \n",
       "10                     Finisaje                Izolatii Termice  0.035788   \n",
       "11                       Dotări                     Contorizare  0.034711   \n",
       "12                     Finisaje                    Usi Interior  0.033979   \n",
       "13                       Dotări                         Mobilat  0.030441   \n",
       "14  Disponibilitate Proprietate                         Imediat  0.029794   \n",
       "\n",
       "    share_%_of_properties  \n",
       "0                0.840542  \n",
       "1                0.779818  \n",
       "2                0.762806  \n",
       "3                0.728191  \n",
       "4                0.715957  \n",
       "5                0.713251  \n",
       "6                0.637804  \n",
       "7                0.595892  \n",
       "8                0.594194  \n",
       "9                0.577599  \n",
       "10               0.540062  \n",
       "11               0.523813  \n",
       "12               0.512759  \n",
       "13               0.459376  \n",
       "14               0.449603  "
      ]
     },
     "execution_count": 9,
     "metadata": {},
     "output_type": "execute_result"
    }
   ],
   "source": [
    "# Check relative value to idenitify a benchmark for selecting columns to be deleted\n",
    "subtitlu_to_delete.head(15)"
   ]
  },
  {
   "cell_type": "code",
   "execution_count": 10,
   "metadata": {},
   "outputs": [],
   "source": [
    "# Filter only the attributes that have less than 70% of total records as these are the most prone to create unuseful columns (with lots of Null)\n",
    "subtitlu_to_delete = subtitlu_to_delete[subtitlu_to_delete['share_%_of_properties']<0.70]\n",
    "# Save the attributes to be deleted to a list\n",
    "subtitlu_to_delete = list(subtitlu_to_delete['subtitlu'])\n",
    "# Clean the 'specificatii_df' data frame from attributes saved in the list\n",
    "specificatii_df = specificatii_df.drop(specificatii_df[specificatii_df['subtitlu'].isin(subtitlu_to_delete)].index)"
   ]
  },
  {
   "cell_type": "code",
   "execution_count": 11,
   "metadata": {},
   "outputs": [
    {
     "name": "stdout",
     "output_type": "stream",
     "text": [
      "(61299, 7)\n"
     ]
    }
   ],
   "source": [
    "# Remove duplicates if they exist before applying the pivot function otherwise it will generate an error\n",
    "specificatii_df.drop_duplicates(inplace=True)\n",
    "# Create a long table using pivot method that will be used to merge 'specificatii_df' with the original data frame at ID level\n",
    "specificatii_df = specificatii_df.pivot(index = ['id', 'id_string'], columns = 'subtitlu', values = 'valoare')\n",
    "# Reset but keep Index (to make sure the later join is done with the right ids):\n",
    "specificatii_df.reset_index(drop=False, inplace=True)\n",
    "# Check shape\n",
    "print(specificatii_df.shape)"
   ]
  },
  {
   "cell_type": "code",
   "execution_count": 12,
   "metadata": {},
   "outputs": [
    {
     "data": {
      "text/plain": [
       "(69479, 127)"
      ]
     },
     "execution_count": 12,
     "metadata": {},
     "output_type": "execute_result"
    }
   ],
   "source": [
    "# Merge both data frames using a Left Join on both 'id' and 'id_string' columns\n",
    "real_estate_df = pd.merge(full_df, specificatii_df, on=['id', 'id_string'], how='left')\n",
    "real_estate_df.shape"
   ]
  },
  {
   "cell_type": "code",
   "execution_count": 13,
   "metadata": {},
   "outputs": [],
   "source": [
    "# Add the snapshot date related to period the info was gathered \n",
    "real_estate_df['date_snapshot'] = '20-03-2023'"
   ]
  },
  {
   "attachments": {},
   "cell_type": "markdown",
   "metadata": {},
   "source": [
    "### Stage 2: Prepare the data set for Machine Learning model"
   ]
  },
  {
   "cell_type": "code",
   "execution_count": 14,
   "metadata": {},
   "outputs": [],
   "source": [
    "import pandas as pd\n",
    "pd.set_option('display.max_rows', 200)"
   ]
  },
  {
   "cell_type": "code",
   "execution_count": 15,
   "metadata": {},
   "outputs": [
    {
     "name": "stdout",
     "output_type": "stream",
     "text": [
      "<class 'pandas.core.frame.DataFrame'>\n",
      "Int64Index: 69479 entries, 0 to 69478\n",
      "Columns: 128 entries, id to date_snapshot\n",
      "dtypes: bool(11), float64(7), int64(24), object(86)\n",
      "memory usage: 63.3+ MB\n"
     ]
    }
   ],
   "source": [
    "# Check general information about data frame\n",
    "real_estate_df.info()"
   ]
  },
  {
   "cell_type": "code",
   "execution_count": 16,
   "metadata": {},
   "outputs": [
    {
     "data": {
      "text/plain": [
       "id                                      0\n",
       "id_string                               0\n",
       "titlu                                   0\n",
       "judet                                   0\n",
       "localitate                              0\n",
       "zona                                    0\n",
       "comision                                0\n",
       "latitudine                              0\n",
       "longitudine                             0\n",
       "status_publicare                        0\n",
       "rang                                    0\n",
       "licitatii                               0\n",
       "data_intrare_in_piata                   0\n",
       "pret_vanzare                            0\n",
       "pret_vanzare_anterior                   0\n",
       "pret_vanzare_referinta                  0\n",
       "pret_vanzare_scazut                     0\n",
       "pret_inchiriere                         0\n",
       "pret_inchiriere_anterior                0\n",
       "pret_inchiriere_referinta               0\n",
       "pret_inchiriere_scazut                  0\n",
       "poza_prezentare                         0\n",
       "poze                                    0\n",
       "mod_calcul_pret_vanzare                 0\n",
       "mod_calcul_pret_inchiriere              0\n",
       "anunt_verificat                         0\n",
       "data_modificare                         0\n",
       "link_video                              0\n",
       "foto360                                 0\n",
       "dma                                     0\n",
       "super_hero                              0\n",
       "localizare_arie                         0\n",
       "locatie_verificata                      0\n",
       "data_duplicat                           0\n",
       "nr_camere                               0\n",
       "nr_camere_referinta                     0\n",
       "an_constructie                          0\n",
       "an_constructie_text                     0\n",
       "stadiu_constructie                      0\n",
       "suprafata_utila                         0\n",
       "distanta_metrou                         0\n",
       "id_proiect                              0\n",
       "etaj                                    0\n",
       "etaj_referinta                          0\n",
       "data_adaugare                           0\n",
       "suprafata_construita                    0\n",
       "comision_cumparator                     0\n",
       "descriere_emotionala                    0\n",
       "link_pdf                                0\n",
       "link_extern                             0\n",
       "caroiaj                                 0\n",
       "pret_negociabil                         0\n",
       "nume_contact                            0\n",
       "nume_firma                              0\n",
       "telefon_contact                         0\n",
       "telefon_contact2                        0\n",
       "categorie                               0\n",
       "vanzare                                 0\n",
       "inchiriere                              0\n",
       "status_platforma_banci                  0\n",
       "status_platforma_banci_id               0\n",
       "pret_unitar_vanzare                     0\n",
       "pret_unitar_vanzare_anterior            0\n",
       "pret_unitar_vanzare_referinta           0\n",
       "pret_unitar_vanzare_scazut              0\n",
       "pret_unitar_inchiriere                  0\n",
       "pret_unitar_inchiriere_anterior         0\n",
       "pret_unitar_inchiriere_referinta        0\n",
       "pret_unitar_inchiriere_scazut           0\n",
       "nr_bucatarii                            0\n",
       "nr_bai                                  0\n",
       "nr_balcoane                             0\n",
       "nr_garaje                               0\n",
       "compartimentare                         0\n",
       "confort                                 0\n",
       "nr_balcoane_inchise                     0\n",
       "structura_rezistenta                    0\n",
       "tip_imobil                              0\n",
       "regim_inaltime                          0\n",
       "nr_locuri_parcare                       0\n",
       "suprafata_utila_totala                  0\n",
       "ordine_caracteristici                   0\n",
       "specificatii                            0\n",
       "contact_chat                            0\n",
       "contact_whatsapp                        0\n",
       "contact_sms                             0\n",
       "telefon_obligatoriu                     0\n",
       "data_modificare_pret                    0\n",
       "mobilare                                0\n",
       "link_detalii                            0\n",
       "oferta_bonus                            0\n",
       "last-modified                           0\n",
       "sLinkPoliticaBanca                  69479\n",
       "id_vizitator                            0\n",
       "tip_client                              0\n",
       "ascunde_formular_contact                0\n",
       "rata_finantare_broker                   0\n",
       "link_finantare_broker                2427\n",
       "blackfriday                             0\n",
       "imagine_harta                           0\n",
       "agent.id                                0\n",
       "agent.nume                              0\n",
       "agent.functie                           0\n",
       "agent.poza                              0\n",
       "agent.firma                             0\n",
       "agent.sigla                             0\n",
       "agent.cod_postal                        0\n",
       "agent.email                             0\n",
       "agent.telefon                           0\n",
       "agent.telefon_centrala                  0\n",
       "tip_licitatie                       69398\n",
       "tip_licitatie_referinta             69398\n",
       "data_licitatie                      69398\n",
       "procent_reducere_licitatie          69398\n",
       "termen_licitatie                    69398\n",
       "istoric_termene_licitatie           69398\n",
       "organizator_licitatie               69398\n",
       "loc_desfasurare_licitatie           69398\n",
       "data_limita_licitatie               69398\n",
       "detalii_licitatie                   69398\n",
       "nr_dosar_executional                69398\n",
       "pret_pornire                        69398\n",
       "Amenajare Strazi                    16480\n",
       "Podele                              18885\n",
       "Sistem Incalzire                    15298\n",
       "Usa Intrare                         19923\n",
       "Utilitati Generale                  11079\n",
       "date_snapshot                           0\n",
       "dtype: int64"
      ]
     },
     "execution_count": 16,
     "metadata": {},
     "output_type": "execute_result"
    }
   ],
   "source": [
    "# Inspecting null columns\n",
    "real_estate_df.isna().sum()"
   ]
  },
  {
   "cell_type": "code",
   "execution_count": 17,
   "metadata": {},
   "outputs": [],
   "source": [
    "# Extract total rows number of the data frame and assign it to a variable\n",
    "total_rows = real_estate_df.shape[0]\n",
    "# Get the missing info into a dataframe and name the column 'missing_values'\n",
    "na_columns = real_estate_df.isna().sum().to_frame('missing_values')\n",
    "# Reset index   \n",
    "na_columns.reset_index(drop=False, inplace=True)\n",
    "# Converting absolute nr of missing values into relative %\n",
    "na_columns['missing_values'] = na_columns['missing_values'].apply(lambda x: x/total_rows) "
   ]
  },
  {
   "cell_type": "code",
   "execution_count": 18,
   "metadata": {},
   "outputs": [],
   "source": [
    "# Identify the columns that have over 80% of missing values\n",
    "na_columns = na_columns[na_columns['missing_values']>=0.8]\n",
    "# Save the potential columns to be deleted in a list\n",
    "columns_to_remove = list(na_columns['index'])\n",
    "# Removing columns that have at least 80% missing values\n",
    "real_estate_df = real_estate_df.drop(labels=columns_to_remove, axis=1)"
   ]
  },
  {
   "cell_type": "code",
   "execution_count": 19,
   "metadata": {},
   "outputs": [
    {
     "data": {
      "text/plain": [
       "id                                      0\n",
       "id_string                               0\n",
       "titlu                                   0\n",
       "judet                                   0\n",
       "localitate                              0\n",
       "zona                                    0\n",
       "comision                                0\n",
       "latitudine                              0\n",
       "longitudine                             0\n",
       "status_publicare                        0\n",
       "rang                                    0\n",
       "licitatii                               0\n",
       "data_intrare_in_piata                   0\n",
       "pret_vanzare                            0\n",
       "pret_vanzare_anterior                   0\n",
       "pret_vanzare_referinta                  0\n",
       "pret_vanzare_scazut                     0\n",
       "pret_inchiriere                         0\n",
       "pret_inchiriere_anterior                0\n",
       "pret_inchiriere_referinta               0\n",
       "pret_inchiriere_scazut                  0\n",
       "poza_prezentare                         0\n",
       "poze                                    0\n",
       "mod_calcul_pret_vanzare                 0\n",
       "mod_calcul_pret_inchiriere              0\n",
       "anunt_verificat                         0\n",
       "data_modificare                         0\n",
       "link_video                              0\n",
       "foto360                                 0\n",
       "dma                                     0\n",
       "super_hero                              0\n",
       "localizare_arie                         0\n",
       "locatie_verificata                      0\n",
       "data_duplicat                           0\n",
       "nr_camere                               0\n",
       "nr_camere_referinta                     0\n",
       "an_constructie                          0\n",
       "an_constructie_text                     0\n",
       "stadiu_constructie                      0\n",
       "suprafata_utila                         0\n",
       "distanta_metrou                         0\n",
       "id_proiect                              0\n",
       "etaj                                    0\n",
       "etaj_referinta                          0\n",
       "data_adaugare                           0\n",
       "suprafata_construita                    0\n",
       "comision_cumparator                     0\n",
       "descriere_emotionala                    0\n",
       "link_pdf                                0\n",
       "link_extern                             0\n",
       "caroiaj                                 0\n",
       "pret_negociabil                         0\n",
       "nume_contact                            0\n",
       "nume_firma                              0\n",
       "telefon_contact                         0\n",
       "telefon_contact2                        0\n",
       "categorie                               0\n",
       "vanzare                                 0\n",
       "inchiriere                              0\n",
       "status_platforma_banci                  0\n",
       "status_platforma_banci_id               0\n",
       "pret_unitar_vanzare                     0\n",
       "pret_unitar_vanzare_anterior            0\n",
       "pret_unitar_vanzare_referinta           0\n",
       "pret_unitar_vanzare_scazut              0\n",
       "pret_unitar_inchiriere                  0\n",
       "pret_unitar_inchiriere_anterior         0\n",
       "pret_unitar_inchiriere_referinta        0\n",
       "pret_unitar_inchiriere_scazut           0\n",
       "nr_bucatarii                            0\n",
       "nr_bai                                  0\n",
       "nr_balcoane                             0\n",
       "nr_garaje                               0\n",
       "compartimentare                         0\n",
       "confort                                 0\n",
       "nr_balcoane_inchise                     0\n",
       "structura_rezistenta                    0\n",
       "tip_imobil                              0\n",
       "regim_inaltime                          0\n",
       "nr_locuri_parcare                       0\n",
       "suprafata_utila_totala                  0\n",
       "ordine_caracteristici                   0\n",
       "specificatii                            0\n",
       "contact_chat                            0\n",
       "contact_whatsapp                        0\n",
       "contact_sms                             0\n",
       "telefon_obligatoriu                     0\n",
       "data_modificare_pret                    0\n",
       "mobilare                                0\n",
       "link_detalii                            0\n",
       "oferta_bonus                            0\n",
       "last-modified                           0\n",
       "id_vizitator                            0\n",
       "tip_client                              0\n",
       "ascunde_formular_contact                0\n",
       "rata_finantare_broker                   0\n",
       "link_finantare_broker                2427\n",
       "blackfriday                             0\n",
       "imagine_harta                           0\n",
       "agent.id                                0\n",
       "agent.nume                              0\n",
       "agent.functie                           0\n",
       "agent.poza                              0\n",
       "agent.firma                             0\n",
       "agent.sigla                             0\n",
       "agent.cod_postal                        0\n",
       "agent.email                             0\n",
       "agent.telefon                           0\n",
       "agent.telefon_centrala                  0\n",
       "Amenajare Strazi                    16480\n",
       "Podele                              18885\n",
       "Sistem Incalzire                    15298\n",
       "Usa Intrare                         19923\n",
       "Utilitati Generale                  11079\n",
       "date_snapshot                           0\n",
       "dtype: int64"
      ]
     },
     "execution_count": 19,
     "metadata": {},
     "output_type": "execute_result"
    }
   ],
   "source": [
    "real_estate_df.isna().sum()"
   ]
  },
  {
   "cell_type": "code",
   "execution_count": 20,
   "metadata": {},
   "outputs": [],
   "source": [
    "# Additional columns to delete:\n",
    "delete_columns = ['an_constructie', # there is a similar one with more details 'an_constructie_text'\n",
    "                  'anunt_verificat', # not relevant, only TRUE or FALSE\n",
    "                  'ascunde_formular_contact', # TRUE or FALSE\n",
    "                  'blackfriday', # TRUE or FALSE\n",
    "                  'caroiaj', # used for projecting properties on the web map\n",
    "                  'categorie', # only value 1\n",
    "                  'contact_chat', # TRUE or FALSE\n",
    "                  'contact_sms', # TRUE or FALSE\n",
    "                  'contact_whatsapp', # TRUE or FALSE\n",
    "                  'data_duplicat', # repeated info and has some blanks too (there is another column 'data_adaugare') \n",
    "                  'data_intrare_in_piata', # repeated info and has some blanks too (there is another column 'data_adaugare')\n",
    "                  'data_modificare', # not relevant\n",
    "                  'descriere_emotionala', # long text description\n",
    "                  'etaj_referinta', # repeated info - there is another column 'etaj' that also includes the total number of block's levels\n",
    "                  'id_proiect', # not relevant\n",
    "                  'id_vizitator', # not relevant\n",
    "                  'imagine_harta', # picture on the map\n",
    "                  'inchiriere', # only a very tiny amount of properties have this set to TRUE (like 0.58%)\n",
    "                  'last-modified', # not relevant,\n",
    "                  'licitatii', # only a very tiny amount of properties have this set to 1 (like 0.12%)\n",
    "                  'link_finantare_broker', # some external links but not currently useful\n",
    "                  'localizare_arie', # coordinates of the area around the property. It's in JSON format - dicts inside list\n",
    "                  'locatie_verificata', # values 0, 1, 2 of which 98% are 0\n",
    "                  'nr_camere', # there is clean column with same info called 'nr_camere_referinta'\n",
    "                  'oferta_bonus', # not relevant\n",
    "                  'ordine_caracteristici', # not relevant, the data type is a list with just the names of attributes\n",
    "                  'poza_prezentare', # first photo of the listed property\n",
    "                  'poze', # all photos of the listed property\n",
    "                  'pret_inchiriere', # renting price is not relevant for selling properties\n",
    "                  'pret_inchiriere_referinta', # same as above\n",
    "                  'pret_inchiriere_scazut', # same as above\n",
    "                  'pret_unitar_inchiriere', # same as above\n",
    "                  'pret_unitar_inchiriere_referinta', # same as above\n",
    "                  'pret_unitar_inchiriere_scazut', # same as above\n",
    "                  'pret_unitar_vanzare', # can be created in Tableau or python directly\n",
    "                  'pret_unitar_vanzare_referinta', # same as above\n",
    "                  'pret_unitar_vanzare_scazut', # not relevant\n",
    "                  'pret_vanzare_referinta', # same info is contained in 'pret_vanzare' column which has as well the currency of selling price\n",
    "                  'pret_vanzare_scazut', # not relevant\n",
    "                  'rang', # not relevant\n",
    "                  'specificatii', # this column has been already unpacked\n",
    "                  'status_platforma_banci_id', # 0 and 1, with 0 bing 99% of the data\n",
    "                  'super_hero', # not relevant has Da and Nu, with Nu being 99.5%\n",
    "                  'suprafata_utila_totala', # lots of null values and missing value is found in 'suprafata_utila' column\n",
    "                  'telefon_obligatoriu', # not relevant, has True and False, with TRUE being about 90% of data\n",
    "                  'titlu', # most the info is contained in other columns such as the nr of rooms, location, etc.\n",
    "                  'vanzare', # only True\n",
    "                  'agent.email', # yes or no\n",
    "                  'agent.id', # not relevant\n",
    "                  'agent.poza', # not relevant\n",
    "                  'agent.sigla', # not relevant\n",
    "                  'agent.telefon_centrala', # not relevant\n",
    "                  'agent.telefon', # real estate agent contacts \n",
    "                  'agent.firma',\n",
    "                  'agent.functie',\n",
    "                  'agent.nume',\n",
    "                  'latitudine',\n",
    "                  'longitudine',\n",
    "                  'id', # the id of the listing\n",
    "                  'judet',\n",
    "                  'foto360', \n",
    "                  'link_extern',\n",
    "                  'link_pdf',\n",
    "                  'link_video',\n",
    "                  'mod_calcul_pret_inchiriere',\n",
    "                  'mod_calcul_pret_vanzare',\n",
    "                  'nume_contact',\n",
    "                  'nume_firma',\n",
    "                  'pret_inchiriere_anterior',\n",
    "                  'pret_unitar_inchiriere_anterior',\n",
    "                  'pret_unitar_vanzare_anterior',\n",
    "                  'status_platforma_banci',\n",
    "                  'telefon_contact',\n",
    "                  'telefon_contact2',\n",
    "                  'agent.cod_postal',\n",
    "                  'Imediat',\n",
    "                  'comision_cumparator', \n",
    "                  'data_modificare_pret', \n",
    "                  'distanta_metrou', \n",
    "                  'dma', \n",
    "                  'id_string', \n",
    "                  'pret_vanzare_anterior', \n",
    "                  'rata_finantare_broker', \n",
    "                  'status_publicare', \n",
    "                  'link_detalii'\n",
    "                  ]"
   ]
  },
  {
   "cell_type": "code",
   "execution_count": 21,
   "metadata": {},
   "outputs": [],
   "source": [
    "# Removing columns that are not relevant for BI or ML\n",
    "\n",
    "# Create a list of columns to drop (through list comprehension) that only includes existing columns\n",
    "existing_columns_to_delete = [column for column in delete_columns if column in real_estate_df.columns]\n",
    "\n",
    "# Drop the existing columns from the dataframe\n",
    "real_estate_df = real_estate_df.drop(existing_columns_to_delete, axis=1)"
   ]
  },
  {
   "cell_type": "code",
   "execution_count": 22,
   "metadata": {},
   "outputs": [
    {
     "name": "stdout",
     "output_type": "stream",
     "text": [
      "Total number of duplicates: 0\n"
     ]
    }
   ],
   "source": [
    "# Count the number of duplicates\n",
    "num_duplicates = sum(real_estate_df.duplicated())\n",
    "print(f'Total number of duplicates: {num_duplicates}')"
   ]
  },
  {
   "cell_type": "code",
   "execution_count": 23,
   "metadata": {},
   "outputs": [],
   "source": [
    "# Rename 'an_constructie_text' to 'construction_year'\n",
    "real_estate_df = real_estate_df.rename(columns={'an_constructie_text': 'construction_year'})"
   ]
  },
  {
   "cell_type": "code",
   "execution_count": 24,
   "metadata": {},
   "outputs": [
    {
     "data": {
      "text/plain": [
       "array(['2022', '', '2021', '1980', '1987', 'Inainte de 1990',\n",
       "       'Intre 1977 si 1990', '1920', '2015', '2019', '1970', '1978',\n",
       "       '2009', '1965', '2017', '1988', '1982', '2016',\n",
       "       'Intre 1990 si 2000', '1976', '2023 (in constructie)', '1880',\n",
       "       '2014', '1972', '2025 (in constructie)', '1962', '1905',\n",
       "       '2024 (proiect)', '2012', 'Intre 1941 si 1977', '2018', '1979',\n",
       "       '1969', '1991', '1977', '2010', '1994', '1990',\n",
       "       'Intre 2000 si 2010', '1910', '1986', '1903', '1800', '1985',\n",
       "       '2023', '2020', '1984', '2025 (proiect)', '2023 (finalizata)',\n",
       "       '2024 (in constructie)', '1973', '2011', '1890', '1975', '1960',\n",
       "       '1968', '2007', '1989', '2000', '1950', '1967', '1934', '2008',\n",
       "       '1898', '1981', '1940', '1983', '2013', '1860', '2023 (proiect)',\n",
       "       '1900', '1942', '2005', '1955', '1936', '1966', '1700', '1941',\n",
       "       'Inainte de 1941', '1995', '1993', '1974', '1935', '1964', '1957',\n",
       "       '1932', '1998', '1930', '1956', '2006', '1827', '1963', '1959',\n",
       "       '1961', '1971', '1925', '2004', '1850', '1946', '1992', '1862',\n",
       "       '1915', '1937', '1939', '1945', '1736', '1947', '1770', '1958',\n",
       "       '2003', '1948', '1996', '1999', '2002', '1888', '2024', '1938',\n",
       "       '1883', '1933', '1944', '1874', '1929', '1997', '1953', '1943',\n",
       "       '1924', '1931', '1928', '1926', '1886', '2001', '1901', '1927',\n",
       "       '1911', '1922', '1951', '1913', '1954', '1909', '1837', '1875',\n",
       "       '1876', '1949', '1907', '1952', '1923', '1895', '1750', '1904',\n",
       "       '1870', '1918', '1872', '1710', '1840', '1885', '1878', '1891',\n",
       "       '2088 (in constructie)', '1914', '1873', '1906', '1912', '1916',\n",
       "       '1919', '1780', '1908', '1845', '1701', '1921', '1830', '1855',\n",
       "       '1902', 'Dupa 2010', '1887', '1753'], dtype=object)"
      ]
     },
     "execution_count": 24,
     "metadata": {},
     "output_type": "execute_result"
    }
   ],
   "source": [
    "# Check unique values of the construction year\n",
    "real_estate_df['construction_year'].unique()"
   ]
  },
  {
   "cell_type": "code",
   "execution_count": 25,
   "metadata": {},
   "outputs": [
    {
     "name": "stdout",
     "output_type": "stream",
     "text": [
      "Total number of records where column construction_year is empty is: 5572\n"
     ]
    }
   ],
   "source": [
    "# Count the number of records where column 'construction_year' is empty\n",
    "num_records = len(real_estate_df[real_estate_df['construction_year'] == ''])\n",
    "print(f'Total number of records where column construction_year is empty is: {num_records}')"
   ]
  },
  {
   "cell_type": "code",
   "execution_count": 26,
   "metadata": {},
   "outputs": [
    {
     "name": "stdout",
     "output_type": "stream",
     "text": [
      "'Dupa' contains: 1 values\n",
      "'constructie' contains: 4524 values\n",
      "'proiect' contains: 166 values\n",
      "'finalizata' contains: 1031 values\n",
      "'Inainte' contains: 1474 values\n",
      "'Intre' contains: 1441 values\n"
     ]
    }
   ],
   "source": [
    "# Checking how many rows in the 'construction_year' column have string values\n",
    "words = ['Dupa', 'constructie', 'proiect', 'finalizata', 'Inainte', 'Intre']\n",
    "for word in words:\n",
    "    mask = real_estate_df['construction_year'].str.contains(word, case=False, na=False)\n",
    "    print(f\"'{word}' contains: {mask.value_counts()[1]} values\")"
   ]
  },
  {
   "cell_type": "code",
   "execution_count": 27,
   "metadata": {},
   "outputs": [],
   "source": [
    "# Replace 'construction_year' rows containing 'finalizata' key word with empty string\n",
    "# Note: use escape character '\\' and regex=True to be able to remove paranthesis from text\n",
    "real_estate_df['construction_year'] = real_estate_df['construction_year'].str.replace(\n",
    "                                                '\\(finalizata\\)', '', regex=True).str.strip()"
   ]
  },
  {
   "cell_type": "code",
   "execution_count": 28,
   "metadata": {},
   "outputs": [],
   "source": [
    "# Create a flag column to track which buildings are under construction\n",
    "real_estate_df['under_construction(y/n)'] = real_estate_df['construction_year'].str.contains(\n",
    "                                            'constructie', case=False, na=False)\n",
    "# Create a flag column to track which buildings are in the project stage\n",
    "real_estate_df['project_phase(y/n)'] = real_estate_df['construction_year'].str.contains(\n",
    "                                            'proiect', case=False, na=False)"
   ]
  },
  {
   "cell_type": "code",
   "execution_count": 29,
   "metadata": {},
   "outputs": [],
   "source": [
    "# Replace 'construction_year' rows containing '(in constructie)' and '(proiect)' key words with empty strings\n",
    "real_estate_df['construction_year'] = real_estate_df['construction_year'].str.replace(\n",
    "                                        '\\(in constructie\\)', '', regex=True).str.strip()\n",
    "real_estate_df['construction_year'] = real_estate_df['construction_year'].str.replace(\n",
    "                                        '\\(proiect\\)', '', regex=True).str.strip()"
   ]
  },
  {
   "cell_type": "code",
   "execution_count": 30,
   "metadata": {},
   "outputs": [],
   "source": [
    "# Create a mask to identify the index of rows where 'construction_year' column has 'Intre' key-word\n",
    "between_mask = real_estate_df['construction_year'].str.contains('Intre', case=False, na=False)\n",
    "\n",
    "# Using the mask extract the last value (which is a year) from the rows that satisfy the condition\n",
    "real_estate_df.loc[between_mask, 'construction_year'] = real_estate_df[\n",
    "                                                                'construction_year'].str.split().str[-1]"
   ]
  },
  {
   "cell_type": "code",
   "execution_count": 31,
   "metadata": {},
   "outputs": [],
   "source": [
    "words_to_replace = ['Inainte', 'Dupa']\n",
    "\n",
    "for word in words_to_replace:\n",
    "    # Create a mask to identify the index of rows where 'construction_year' column has 'word' key-word\n",
    "    before_mask = real_estate_df['construction_year'].str.contains(word, case=False, na=False)\n",
    "\n",
    "    # Using the mask extract the last value (which is a year) from the rows that satisfy the condition\n",
    "    real_estate_df.loc[before_mask, 'construction_year'] = real_estate_df[\n",
    "                                                            'construction_year'].str.split().str[-1]"
   ]
  },
  {
   "cell_type": "code",
   "execution_count": 32,
   "metadata": {},
   "outputs": [],
   "source": [
    "# Cast 'construction_year' to integer by first replacing '' with a sentinel value '-1'\n",
    "real_estate_df['construction_year'] = real_estate_df['construction_year'].replace('', -1).astype(int)"
   ]
  },
  {
   "cell_type": "code",
   "execution_count": 33,
   "metadata": {},
   "outputs": [],
   "source": [
    "import random\n",
    "\n",
    "# Define the list of replacement values\n",
    "replacement_years = [2022, 2021, 2023, 1980, 1990, 2020, 1977, 1970, 2018, 2019]\n",
    "\n",
    "# Count the number of occurrences of 'empty' in column 'construction_year'\n",
    "num_occurrences = (real_estate_df['construction_year'] == -1).sum()\n",
    "\n",
    "# generate a list of replacement values that is at least as long as the number of occurrences of -1\n",
    "replacement_list = replacement_years.copy()\n",
    "while len(replacement_list) < num_occurrences:\n",
    "    replacement_list += replacement_years\n",
    "\n",
    "# Select a random sample of values from the replacement list\n",
    "replacement_sample = random.sample(replacement_list, num_occurrences)\n",
    "\n",
    "# replace all occurrences of 'empty' with values from the replacement sample\n",
    "replacement_index = 0\n",
    "for i, val in enumerate(real_estate_df['construction_year']):\n",
    "    if val == -1:\n",
    "        real_estate_df.at[i, 'construction_year'] = replacement_sample[replacement_index]\n",
    "        replacement_index += 1"
   ]
  },
  {
   "cell_type": "code",
   "execution_count": 34,
   "metadata": {},
   "outputs": [],
   "source": [
    "# Remove outliers\n",
    "real_estate_df = real_estate_df.drop(real_estate_df[real_estate_df['construction_year'] == 2088].index)"
   ]
  },
  {
   "cell_type": "code",
   "execution_count": 35,
   "metadata": {},
   "outputs": [
    {
     "data": {
      "text/plain": [
       "array([2022, 2020, 2021, 1980, 2023, 1977, 1987, 1990, 1920, 2015, 2019,\n",
       "       1970, 1978, 2009, 1965, 2017, 1988, 1982, 2016, 2000, 1976, 1880,\n",
       "       2014, 1972, 2025, 1962, 1905, 2024, 2012, 2018, 1979, 1969, 1991,\n",
       "       2010, 1994, 1910, 1986, 1903, 1800, 1985, 1984, 1973, 2011, 1890,\n",
       "       1975, 1960, 1968, 2007, 1989, 1950, 1967, 1934, 2008, 1898, 1981,\n",
       "       1940, 1983, 2013, 1860, 1900, 1942, 2005, 1955, 1936, 1966, 1700,\n",
       "       1941, 1995, 1993, 1974, 1935, 1964, 1957, 1932, 1998, 1930, 1956,\n",
       "       2006, 1827, 1963, 1959, 1961, 1971, 1925, 2004, 1850, 1946, 1992,\n",
       "       1862, 1915, 1937, 1939, 1945, 1736, 1947, 1770, 1958, 2003, 1948,\n",
       "       1996, 1999, 2002, 1888, 1938, 1883, 1933, 1944, 1874, 1929, 1997,\n",
       "       1953, 1943, 1924, 1931, 1928, 1926, 1886, 2001, 1901, 1927, 1911,\n",
       "       1922, 1951, 1913, 1954, 1909, 1837, 1875, 1876, 1949, 1907, 1952,\n",
       "       1923, 1895, 1750, 1904, 1870, 1918, 1872, 1710, 1840, 1885, 1878,\n",
       "       1891, 1914, 1873, 1906, 1912, 1916, 1919, 1780, 1908, 1845, 1701,\n",
       "       1921, 1830, 1855, 1902, 1887, 1753])"
      ]
     },
     "execution_count": 35,
     "metadata": {},
     "output_type": "execute_result"
    }
   ],
   "source": [
    "# Check unique values of the construction year to make sure all is clean\n",
    "real_estate_df['construction_year'].unique()"
   ]
  },
  {
   "cell_type": "code",
   "execution_count": 36,
   "metadata": {},
   "outputs": [
    {
     "data": {
      "text/plain": [
       "0    49726\n",
       "1    19752\n",
       "Name: commission, dtype: int64"
      ]
     },
     "execution_count": 36,
     "metadata": {},
     "output_type": "execute_result"
    }
   ],
   "source": [
    "# Rename 'comision' column to 'commission'\n",
    "real_estate_df = real_estate_df.rename(columns={'comision': 'commission'})\n",
    "# Check unique values\n",
    "real_estate_df['commission'].value_counts()"
   ]
  },
  {
   "cell_type": "code",
   "execution_count": 37,
   "metadata": {},
   "outputs": [
    {
     "data": {
      "text/plain": [
       "decomandat      44511\n",
       "semidecom.      21226\n",
       "                 2029\n",
       "nedecomandat     1076\n",
       "circular          563\n",
       "vagon              73\n",
       "Name: partitioning, dtype: int64"
      ]
     },
     "execution_count": 37,
     "metadata": {},
     "output_type": "execute_result"
    }
   ],
   "source": [
    "# Rename 'compartimentare' column to 'partitioning'\n",
    "real_estate_df = real_estate_df.rename(columns={'compartimentare': 'partitioning'})\n",
    "# Check unique values\n",
    "real_estate_df['partitioning'].value_counts()"
   ]
  },
  {
   "cell_type": "code",
   "execution_count": 38,
   "metadata": {},
   "outputs": [],
   "source": [
    "# Find the most frequent value of 'partitioning'\n",
    "most_frequent_value = real_estate_df['partitioning'].mode()[0]\n",
    "# Fill '' with mode\n",
    "real_estate_df['partitioning'] = real_estate_df['partitioning'].replace('', most_frequent_value)"
   ]
  },
  {
   "cell_type": "code",
   "execution_count": 39,
   "metadata": {},
   "outputs": [],
   "source": [
    "# Replace 0 with 1 in 'nr_bucatarii' column based on the condition\n",
    "real_estate_df.loc[(real_estate_df['nr_bucatarii'] == 0) & \n",
    "                   (real_estate_df['nr_camere_referinta'] >= 2), 'nr_bucatarii'] = 1\n",
    "# Change column name from 'nr_bucatarii' to 'nr_of_kitchens'\n",
    "real_estate_df = real_estate_df.rename(columns={'nr_bucatarii': 'nr_of_kitchens'})"
   ]
  },
  {
   "cell_type": "code",
   "execution_count": 40,
   "metadata": {},
   "outputs": [],
   "source": [
    "# For 'suprafata_utila' remove mp and replace ',' with '.'\n",
    "real_estate_df['suprafata_utila'] = real_estate_df[\n",
    "                                        'suprafata_utila'].str.split().str[0].str.replace(',', '.')\n",
    "# Also replace column name 'suprafata_utila' with 'useful_surface'\n",
    "real_estate_df = real_estate_df.rename(columns={'suprafata_utila':'useful_surface'}) "
   ]
  },
  {
   "cell_type": "code",
   "execution_count": 41,
   "metadata": {},
   "outputs": [],
   "source": [
    "real_estate_df['useful_surface'] = real_estate_df['useful_surface'].astype(float)"
   ]
  },
  {
   "cell_type": "code",
   "execution_count": 42,
   "metadata": {},
   "outputs": [],
   "source": [
    "real_estate_df['nr_camere_referinta'] = real_estate_df['nr_camere_referinta'].astype(float)"
   ]
  },
  {
   "cell_type": "code",
   "execution_count": 43,
   "metadata": {},
   "outputs": [
    {
     "name": "stdout",
     "output_type": "stream",
     "text": [
      "<class 'pandas.core.series.Series'>\n",
      "Int64Index: 69478 entries, 0 to 69478\n",
      "Series name: nr_camere_referinta\n",
      "Non-Null Count  Dtype  \n",
      "--------------  -----  \n",
      "69478 non-null  float64\n",
      "dtypes: float64(1)\n",
      "memory usage: 1.1 MB\n"
     ]
    }
   ],
   "source": [
    "real_estate_df['nr_camere_referinta'].info()"
   ]
  },
  {
   "cell_type": "code",
   "execution_count": 44,
   "metadata": {},
   "outputs": [
    {
     "data": {
      "text/plain": [
       "1      48937\n",
       "lux    11138\n",
       "        6187\n",
       "2       2748\n",
       "3        468\n",
       "Name: comfort, dtype: int64"
      ]
     },
     "execution_count": 44,
     "metadata": {},
     "output_type": "execute_result"
    }
   ],
   "source": [
    "# Rename 'confort' column to 'comfort'\n",
    "real_estate_df = real_estate_df.rename(columns={'confort': 'comfort'})\n",
    "# Check unique values\n",
    "real_estate_df['comfort'].value_counts()"
   ]
  },
  {
   "cell_type": "code",
   "execution_count": 45,
   "metadata": {},
   "outputs": [],
   "source": [
    "# Fill 'comfort' null value with rule based values\n",
    "# Rulest for comfort level 1\n",
    "real_estate_df.loc[((real_estate_df['comfort'] == '') &\n",
    "                    (real_estate_df['partitioning'] == 'decomandat') &\n",
    "                    (real_estate_df['nr_balcoane'] >= 1) &\n",
    "                    ((real_estate_df['nr_camere_referinta'] == 1) & (real_estate_df['useful_surface'] >= 33) |\n",
    "                     (real_estate_df['nr_camere_referinta'] == 2) & (real_estate_df['useful_surface'] >= 50) |\n",
    "                     (real_estate_df['nr_camere_referinta'] == 3) & (real_estate_df['useful_surface'] >= 65) |\n",
    "                     (real_estate_df['nr_camere_referinta'] == 4) & (real_estate_df['useful_surface'] >= 75)))\n",
    "                   , 'comfort'] = 1\n",
    "\n",
    "# Rulest for comfort level 2\n",
    "real_estate_df.loc[((real_estate_df['comfort'] == '') &\n",
    "    (real_estate_df['partitioning'] == 'semidecom.') &\n",
    "    (real_estate_df['nr_balcoane'] == 1) &\n",
    "    (((real_estate_df['nr_camere_referinta'] == 1) & (real_estate_df['useful_surface'] >= 27) & (real_estate_df['useful_surface'] <= 32)) |\n",
    "    ((real_estate_df['nr_camere_referinta'] == 2) & (real_estate_df['useful_surface'] >= 34) & (real_estate_df['useful_surface'] <= 49)) |\n",
    "    ((real_estate_df['nr_camere_referinta'] == 3) & (real_estate_df['useful_surface'] >= 55) & (real_estate_df['useful_surface'] <= 64)) |\n",
    "    ((real_estate_df['nr_camere_referinta'] == 4) & (real_estate_df['useful_surface'] >= 60) & (real_estate_df['useful_surface'] <= 74))))\n",
    "    , 'comfort'] = 2\n",
    "\n",
    "# Rulest for comfort level 3\n",
    "real_estate_df.loc[((real_estate_df['comfort'] == '') &\n",
    "            (real_estate_df['partitioning'] != 'decomandat') &\n",
    "            (real_estate_df['nr_balcoane'] == 0) &\n",
    "            (real_estate_df['nr_bai'] <= 1) &\n",
    "            (((real_estate_df['nr_camere_referinta'] == 1) & (real_estate_df['useful_surface'] <= 26)) |\n",
    "            ((real_estate_df['nr_camere_referinta'] == 2) & (real_estate_df['useful_surface'] <= 33)) |\n",
    "            ((real_estate_df['nr_camere_referinta'] == 3) & (real_estate_df['useful_surface'] <= 54)) |\n",
    "            ((real_estate_df['nr_camere_referinta'] == 4) & (real_estate_df['useful_surface'] <= 59))))\n",
    "            , 'comfort'] = 3\n",
    "\n",
    "# Rules for 'Lux' comfort level\n",
    "real_estate_df.loc[((real_estate_df['comfort'] == '') &\n",
    "            (real_estate_df['partitioning'] == 'decomandat') &\n",
    "            (real_estate_df['nr_balcoane'] >= 1) &\n",
    "            (real_estate_df['nr_bai'] >= 2) &\n",
    "            ((real_estate_df['nr_camere_referinta'] == 1) & (real_estate_df['useful_surface'] >= 33) |\n",
    "            (real_estate_df['nr_camere_referinta'] == 2) & (real_estate_df['useful_surface'] >= 50) |\n",
    "            (real_estate_df['nr_camere_referinta'] == 3) & (real_estate_df['useful_surface'] >= 65) |\n",
    "            (real_estate_df['nr_camere_referinta'] == 4) & (real_estate_df['useful_surface'] >= 75)))\n",
    "            , 'comfort'] = 'Lux'\n",
    "\n",
    "# Assign remaining null values to the most frequent category which is 1\n",
    "real_estate_df.loc[(real_estate_df['comfort'] == ''), 'comfort'] = 1"
   ]
  },
  {
   "cell_type": "code",
   "execution_count": 46,
   "metadata": {},
   "outputs": [],
   "source": [
    "# Replace 'Lux' with 0 so that we get only integer numbers for comfort field\n",
    "real_estate_df.loc[(real_estate_df['comfort'] == 'lux'), 'comfort'] = 0\n",
    "# Cast 'comfort' field to integer so that we don't get multiples ones, twos, etc.\n",
    "real_estate_df['comfort'] = real_estate_df['comfort'].astype(int)"
   ]
  },
  {
   "cell_type": "code",
   "execution_count": 47,
   "metadata": {},
   "outputs": [],
   "source": [
    "# Rename 'etaj' to 'floor_level'\n",
    "real_estate_df = real_estate_df.rename(columns={'etaj': 'floor_level'})\n",
    "# Replace 'Etaj' with empty string\n",
    "real_estate_df['floor_level'] = real_estate_df['floor_level'].str.replace('Etaj', '').str.strip()\n",
    "# Extract floor number and max floor number (if exists) in two separate columns\n",
    "real_estate_df[['floor_level', 'max_floor']] = real_estate_df['floor_level'].str.split(\"/\", expand=True)\n",
    "# Strip whitespaces from floor related columns\n",
    "real_estate_df['floor_level'] = real_estate_df['floor_level'].str.strip()\n",
    "real_estate_df['max_floor'] = real_estate_df['max_floor'].str.strip()\n",
    "# Fill NA if they exists for floor_level with mode\n",
    "real_estate_df['floor_level'].fillna(real_estate_df['floor_level'].mode().iloc[0], inplace=True)\n",
    "# Create a new boolean column that specifies is the property is in the attic\n",
    "real_estate_df['mansard_(y/n)'] = real_estate_df['floor_level'].str.contains(\n",
    "                                            'Mansarda', case=False, na=False)   \n"
   ]
  },
  {
   "cell_type": "code",
   "execution_count": 48,
   "metadata": {},
   "outputs": [],
   "source": [
    "# Replace 'Demisol' with -1\n",
    "real_estate_df['floor_level'] = real_estate_df['floor_level'].str.replace('Demisol', '-1')\n",
    "# Replace 'Parter' with 0\n",
    "real_estate_df['floor_level'] = real_estate_df['floor_level'].str.replace('Parter', '0')\n",
    "# Replace 'Mansarda' with the values from max_floor\n",
    "mask = (real_estate_df['floor_level'] == 'Mansarda')\n",
    "real_estate_df.loc[mask, 'floor_level'] = real_estate_df.loc[mask, 'max_floor']\n",
    "# Replace 'Ultimele 2 etaje' with the values from max_floor\n",
    "mask = (real_estate_df['floor_level'] == 'Ultimele 2 etaje')\n",
    "real_estate_df.loc[mask, 'floor_level'] = real_estate_df.loc[mask, 'max_floor']"
   ]
  },
  {
   "cell_type": "code",
   "execution_count": 49,
   "metadata": {},
   "outputs": [
    {
     "data": {
      "text/plain": [
       "1     13520\n",
       "2     10372\n",
       "0      9783\n",
       "3      9566\n",
       "4      9083\n",
       "5      4317\n",
       "6      3041\n",
       "7      2870\n",
       "8      2704\n",
       "9      1578\n",
       "10     1324\n",
       "-1      571\n",
       "11      376\n",
       "12      167\n",
       "13       50\n",
       "15       41\n",
       "14       33\n",
       "18       13\n",
       "16       12\n",
       "17       10\n",
       "25        6\n",
       "1         5\n",
       "20        4\n",
       "19        3\n",
       "24        2\n",
       "23        1\n",
       "Name: floor_level, dtype: int64"
      ]
     },
     "execution_count": 49,
     "metadata": {},
     "output_type": "execute_result"
    }
   ],
   "source": [
    "# Replace 'empty' values with 1 (which is the mode)\n",
    "real_estate_df.loc[(real_estate_df['floor_level'] == ''), 'floor_level'] = 1\n",
    "# Check floor_level is clean\n",
    "real_estate_df['floor_level'].value_counts()"
   ]
  },
  {
   "cell_type": "code",
   "execution_count": 50,
   "metadata": {},
   "outputs": [],
   "source": [
    "# Encoding 'mobiliare' field\n",
    "mobilare_mapping = {'': 0, 'parțial': 1, 'complet': 2, 'lux': 3}\n",
    "real_estate_df['mobilare'] = real_estate_df['mobilare'].map(mobilare_mapping)\n",
    "# Rename\n",
    "real_estate_df = real_estate_df.rename(columns={'mobilare': 'furnishing'})\n",
    "# Cast to integer\n",
    "real_estate_df['furnishing'] = real_estate_df['furnishing'].astype(int)"
   ]
  },
  {
   "cell_type": "code",
   "execution_count": 51,
   "metadata": {},
   "outputs": [],
   "source": [
    "# Extract only the date part of the 'data_adaugare' values\n",
    "real_estate_df['data_adaugare'] = real_estate_df['data_adaugare'].str.split(' ').str[0]\n",
    "# Convert to date format\n",
    "real_estate_df['data_adaugare'] = pd.to_datetime(real_estate_df['data_adaugare'], format='%Y-%m-%d')\n",
    "# Rename 'data_adaugare' to 'date_of_listing'\n",
    "real_estate_df = real_estate_df.rename(columns={'data_adaugare': 'date_of_listing'})"
   ]
  },
  {
   "cell_type": "code",
   "execution_count": 52,
   "metadata": {},
   "outputs": [],
   "source": [
    "# Rename 'nr_camere_referinta' to 'rooms'\n",
    "real_estate_df = real_estate_df.rename(columns={'nr_camere_referinta': 'rooms'})\n",
    "# Cast to integer\n",
    "real_estate_df['rooms'] = real_estate_df['rooms'].astype(int)"
   ]
  },
  {
   "cell_type": "code",
   "execution_count": 53,
   "metadata": {},
   "outputs": [],
   "source": [
    "# Create a new column for currency by extracting the second element of the string\n",
    "real_estate_df['Currency'] = real_estate_df['pret_vanzare'].str.split().str[1]\n",
    "# Extract the first element of the string (price)\n",
    "real_estate_df['pret_vanzare'] = real_estate_df['pret_vanzare'].str.split().str[0]\n",
    "# Rename 'pret_vanzare' to 'price'\n",
    "real_estate_df = real_estate_df.rename(columns={'pret_vanzare': 'price'})"
   ]
  },
  {
   "cell_type": "code",
   "execution_count": 54,
   "metadata": {},
   "outputs": [
    {
     "name": "stderr",
     "output_type": "stream",
     "text": [
      "C:\\Users\\Serghei.Dragan\\AppData\\Local\\Temp\\ipykernel_17180\\556254680.py:2: FutureWarning: The default value of regex will change from True to False in a future version. In addition, single character regular expressions will *not* be treated as literal strings when regex=True.\n",
      "  real_estate_df['price'] = real_estate_df['price'].str.replace('.', '')\n"
     ]
    },
    {
     "name": "stdout",
     "output_type": "stream",
     "text": [
      "EUR    69389\n",
      "RON       36\n",
      "USD        2\n",
      "Name: Currency, dtype: int64\n"
     ]
    }
   ],
   "source": [
    "# Exclude '.' from 'price'\n",
    "real_estate_df['price'] = real_estate_df['price'].str.replace('.', '')\n",
    "# Drop values that are not numbers and contain the value 'Preț'\n",
    "real_estate_df.drop(real_estate_df[real_estate_df['price'] == 'Preț'].index, inplace=True)\n",
    "# Cast to int\n",
    "real_estate_df['price'] = real_estate_df['price'].astype(int)\n",
    "# Check currency types\n",
    "print(real_estate_df['Currency'].value_counts())"
   ]
  },
  {
   "cell_type": "code",
   "execution_count": 55,
   "metadata": {},
   "outputs": [],
   "source": [
    "# Drop properties listed in USD and RON as there a few properties only\n",
    "currencies = ['USD', 'RON']\n",
    "for currency in currencies:\n",
    "    real_estate_df.drop(real_estate_df[real_estate_df['Currency'] == currency].index, inplace=True)\n",
    "# Rename price field\n",
    "real_estate_df = real_estate_df.rename(columns={'price': 'price_EUR'})\n",
    "# Drop currency attribute\n",
    "real_estate_df = real_estate_df.drop('Currency', axis=1)"
   ]
  },
  {
   "cell_type": "code",
   "execution_count": 56,
   "metadata": {},
   "outputs": [],
   "source": [
    "# Drop 'regim_inaltime'\n",
    "real_estate_df = real_estate_df.drop('regim_inaltime', axis=1)"
   ]
  },
  {
   "cell_type": "code",
   "execution_count": 57,
   "metadata": {},
   "outputs": [
    {
     "data": {
      "text/plain": [
       "2023    3876\n",
       "2022    3538\n",
       "2021     682\n",
       "2024     556\n",
       "2020     147\n",
       "2025      79\n",
       "2019      25\n",
       "2018      13\n",
       "1977       8\n",
       "1980       4\n",
       "2014       4\n",
       "1990       4\n",
       "2017       4\n",
       "2009       2\n",
       "1931       1\n",
       "2012       1\n",
       "1993       1\n",
       "2011       1\n",
       "2013       1\n",
       "1970       1\n",
       "1960       1\n",
       "2000       1\n",
       "Name: construction_year, dtype: int64"
      ]
     },
     "execution_count": 57,
     "metadata": {},
     "output_type": "execute_result"
    }
   ],
   "source": [
    "mask = (real_estate_df['stadiu_constructie'] == 'in constructie')\n",
    "real_estate_df.loc[mask, 'construction_year'].value_counts()"
   ]
  },
  {
   "cell_type": "code",
   "execution_count": 58,
   "metadata": {},
   "outputs": [],
   "source": [
    "# Add additional labels to 'under_construction(y/n)' field based on 'stadiu_constructie' if year >=2022\n",
    "real_estate_df.loc[(real_estate_df['stadiu_constructie'] == 'in constructie') &\n",
    "                   (real_estate_df['construction_year'] >= 2022), 'under_construction(y/n)'] = True"
   ]
  },
  {
   "cell_type": "code",
   "execution_count": 59,
   "metadata": {},
   "outputs": [],
   "source": [
    "# Drop 'stadiu_constructie' as this is redundant info\n",
    "real_estate_df = real_estate_df.drop('stadiu_constructie', axis=1)\n",
    "# Drop 'suprafata_construita' as this is redundant info\n",
    "real_estate_df = real_estate_df.drop('suprafata_construita', axis=1)"
   ]
  },
  {
   "cell_type": "code",
   "execution_count": 60,
   "metadata": {},
   "outputs": [],
   "source": [
    "import numpy as np\n",
    "# Replace empty cells with NaN\n",
    "real_estate_df.replace('', np.nan, inplace=True)"
   ]
  },
  {
   "cell_type": "code",
   "execution_count": 61,
   "metadata": {},
   "outputs": [],
   "source": [
    "# Find the mode value for 'structura_rezistenta'\n",
    "mode_value = real_estate_df['structura_rezistenta'].mode()[0]\n",
    "# Fill the NaN values with the mode value\n",
    "real_estate_df['structura_rezistenta'].fillna(mode_value, inplace=True)"
   ]
  },
  {
   "cell_type": "code",
   "execution_count": 62,
   "metadata": {},
   "outputs": [],
   "source": [
    "# Find the mode value for 'structura_rezistenta'\n",
    "mode_value = real_estate_df['tip_imobil'].mode()[0]\n",
    "# Fill the NaN values with the mode value\n",
    "real_estate_df['tip_imobil'].fillna(mode_value, inplace=True)"
   ]
  },
  {
   "cell_type": "code",
   "execution_count": 63,
   "metadata": {},
   "outputs": [],
   "source": [
    "average_surface = round(real_estate_df['useful_surface'].mean(),2)\n",
    "real_estate_df['useful_surface'].fillna(average_surface, inplace=True)"
   ]
  },
  {
   "attachments": {},
   "cell_type": "markdown",
   "metadata": {},
   "source": [
    "In the first line of the code, we group the data by 'localitate' and apply the mode() function to the 'zona' column within each group using a lambda function. This gives us the mode value for each 'localitate'.\n",
    "\n",
    "In the second line of the code, we use the fillna() function to fill the missing values in the 'zona' column with the corresponding mode value for each 'localitate'. We do this by grouping the data by 'localitate' again and applying another lambda function to each group. This lambda function fills missing values in 'zona' with the mode value for that group, which we get from the mode_by_localitate Series using the x.name attribute of the group.\n",
    "\n",
    "mode_by_localitate is a pandas Series object that contains the mode value of the 'zona' column for each 'localitate' in the DataFrame.\n",
    "\n",
    "The index of the mode_by_localitate Series is the set of unique values of 'localitate' in the DataFrame, and the values of the Series are the mode values of the 'zona' column for each 'localitate'."
   ]
  },
  {
   "cell_type": "code",
   "execution_count": 64,
   "metadata": {},
   "outputs": [
    {
     "name": "stderr",
     "output_type": "stream",
     "text": [
      "C:\\Users\\Serghei.Dragan\\AppData\\Local\\Temp\\ipykernel_17180\\729418017.py:5: FutureWarning: Not prepending group keys to the result index of transform-like apply. In the future, the group keys will be included in the index, regardless of whether the applied function returns a like-indexed object.\n",
      "To preserve the previous behavior, use\n",
      "\n",
      "\t>>> .groupby(..., group_keys=False)\n",
      "\n",
      "To adopt the future behavior and silence this warning, use \n",
      "\n",
      "\t>>> .groupby(..., group_keys=True)\n",
      "  real_estate_df['zona'] = real_estate_df.groupby('localitate')['zona'].apply(\n"
     ]
    }
   ],
   "source": [
    "# Group the data by 'localitate' and find the mode of 'zona' within each group\n",
    "mode_by_localitate = real_estate_df.groupby('localitate')['zona'].apply(lambda x: x.mode()[0])\n",
    "\n",
    "# Fill missing values in 'zona' with the mode for the corresponding 'localitate'\n",
    "real_estate_df['zona'] = real_estate_df.groupby('localitate')['zona'].apply(\n",
    "                                                lambda x: x.fillna(mode_by_localitate[x.name]))"
   ]
  },
  {
   "attachments": {},
   "cell_type": "markdown",
   "metadata": {},
   "source": [
    "When you group a DataFrame using the groupby() function in pandas, the resulting object is a GroupBy object. You can iterate over the GroupBy object to get each group, where each group is a tuple of (group_name, group_data). The group_name is a unique value from the grouping column(s), and group_data is a DataFrame containing all the rows that belong to that group.\n",
    "\n",
    "In the lambda function that we used to fill missing values in the 'zona' column, the x variable represents the group data for each group. Since we used groupby('localitate'), x.name is the unique value of 'localitate' for the current group, and we use this value to look up the corresponding mode value for that group in the mode_by_localitate Series.\n",
    "\n",
    "So, x.name is matching by group names, specifically the unique values of 'localitate' in this case."
   ]
  },
  {
   "cell_type": "code",
   "execution_count": 65,
   "metadata": {},
   "outputs": [],
   "source": [
    "# Convert 'zona' to string data type\n",
    "real_estate_df['zona'] = real_estate_df['zona'].astype(str)"
   ]
  },
  {
   "cell_type": "code",
   "execution_count": 66,
   "metadata": {},
   "outputs": [],
   "source": [
    "# Remove rows with null values in the 'floor_level' attribute as we have only 27 values\n",
    "real_estate_df.dropna(subset=['floor_level'], inplace=True)"
   ]
  },
  {
   "cell_type": "code",
   "execution_count": 67,
   "metadata": {},
   "outputs": [],
   "source": [
    "# Create a new field that specifies if the heating system is 'Termoficare'\n",
    "real_estate_df['termoficare_(y/n)'] = real_estate_df['Sistem Incalzire'].str.contains(\n",
    "                                        'Termoficare', case=False, na=False)\n",
    "# Create a new field that specifies if the heating system is 'Centrala Proprie'\n",
    "real_estate_df['centrala_proprie_(y/n)'] = real_estate_df['Sistem Incalzire'].str.contains(\n",
    "                                        'Centrala proprie', case=False, na=False)\n",
    "# Create a new field that specifies if the heating system is 'Centrala imobil'\n",
    "real_estate_df['centrala_imobil_(y/n)'] = real_estate_df['Sistem Incalzire'].str.contains(\n",
    "                                        'Centrala imobil', case=False, na=False)\n",
    "# Create a new field that specifies if the property has underfloor heating\n",
    "real_estate_df['floor_heating_(y/n)'] = real_estate_df['Sistem Incalzire'].str.contains(\n",
    "                                        'Incalzire prin pardoseala', case=False, na=False)"
   ]
  },
  {
   "cell_type": "code",
   "execution_count": 68,
   "metadata": {},
   "outputs": [],
   "source": [
    "# Drop column 'Sistem Incalzire' \n",
    "real_estate_df.drop('Sistem Incalzire', axis=1, inplace=True)"
   ]
  },
  {
   "cell_type": "code",
   "execution_count": 69,
   "metadata": {},
   "outputs": [],
   "source": [
    "# Drop columns that are not expected to influence the price significantly\n",
    "columns_to_drop = ['Amenajare Strazi', 'Podele', 'Usa Intrare', 'Utilitati Generale']\n",
    "real_estate_df.drop(columns_to_drop, axis=1, inplace=True)"
   ]
  },
  {
   "cell_type": "code",
   "execution_count": 70,
   "metadata": {},
   "outputs": [],
   "source": [
    "# There are null values in 'max_floor' field so we need to feel them up\n",
    "real_estate_df['max_floor'].fillna(real_estate_df['floor_level'], inplace=True)\n",
    "# Convert max_floor to integer\n",
    "real_estate_df['max_floor'] = real_estate_df['max_floor'].astype(int)"
   ]
  },
  {
   "cell_type": "code",
   "execution_count": 71,
   "metadata": {},
   "outputs": [],
   "source": [
    "# Convert 'date_snapshot' to date format that corresponds to same format as 'date_of_listing'\n",
    "real_estate_df['date_snapshot'] = pd.to_datetime(real_estate_df['date_snapshot'], format='%d-%m-%Y').dt.strftime('%Y-%m-%d')\n",
    "# Create a new field that tracks the number of days since the property was listed on the marketplace\n",
    "real_estate_df['days_since_listing'] = (pd.to_datetime(real_estate_df['date_snapshot'], format='%Y-%m-%d') - \n",
    "                                        pd.to_datetime(real_estate_df['date_of_listing'], format='%Y-%m-%d')).dt.days\n",
    "# Drop column 'date_snapshot' \n",
    "real_estate_df.drop('date_snapshot', axis=1, inplace=True)"
   ]
  },
  {
   "cell_type": "code",
   "execution_count": 72,
   "metadata": {},
   "outputs": [],
   "source": [
    "# Create a new column with the month from 'date_of_listing' \n",
    "real_estate_df['month_of_listing'] = real_estate_df['date_of_listing'].apply(lambda x: x.month)\n",
    "# Create a new column with the year from 'date_of_listing' \n",
    "real_estate_df['year_of_listing'] = real_estate_df['date_of_listing'].apply(lambda x: x.year)"
   ]
  },
  {
   "cell_type": "code",
   "execution_count": 73,
   "metadata": {},
   "outputs": [],
   "source": [
    "# Dropping 'nr_balcoane_inchise' as we have the required info in the 'nr_balcoane' field\n",
    "real_estate_df.drop('nr_balcoane_inchise', axis=1, inplace=True)"
   ]
  },
  {
   "cell_type": "code",
   "execution_count": 73,
   "metadata": {},
   "outputs": [
    {
     "name": "stdout",
     "output_type": "stream",
     "text": [
      "Total number of duplicates: 607\n"
     ]
    }
   ],
   "source": [
    "# Count the number of duplicates\n",
    "num_duplicates = sum(real_estate_df.duplicated())\n",
    "print(f'Total number of duplicates: {num_duplicates}')\n",
    "# Drop duplicates\n",
    "real_estate_df.drop_duplicates(inplace=True)"
   ]
  },
  {
   "cell_type": "code",
   "execution_count": 74,
   "metadata": {},
   "outputs": [],
   "source": [
    "# Create price per square meter metric\n",
    "real_estate_df['price_EUR_sqm'] = round(real_estate_df['price_EUR'] / real_estate_df['useful_surface'], 2)"
   ]
  },
  {
   "attachments": {},
   "cell_type": "markdown",
   "metadata": {},
   "source": [
    "### Data Visualization"
   ]
  },
  {
   "attachments": {},
   "cell_type": "markdown",
   "metadata": {},
   "source": [
    "#### Price per sqm distribution"
   ]
  },
  {
   "cell_type": "code",
   "execution_count": 75,
   "metadata": {},
   "outputs": [
    {
     "data": {
      "image/png": "[encoded data removed]",
      "text/plain": [
       "<Figure size 500x500 with 1 Axes>"
      ]
     },
     "metadata": {},
     "output_type": "display_data"
    }
   ],
   "source": [
    "# Calculate the IQR of the price_EUR_sqm column\n",
    "q1 = real_estate_df['price_EUR_sqm'].quantile(0.25)\n",
    "q3 = real_estate_df['price_EUR_sqm'].quantile(0.75)\n",
    "iqr = q3 - q1\n",
    "\n",
    "# Calculate the upper and lower bounds for outliers\n",
    "upper_bound = q3 + 3*iqr\n",
    "lower_bound = q1 - 1.5*iqr\n",
    "\n",
    "# Remove the outliers from the dataframe\n",
    "real_estate_df = real_estate_df[(real_estate_df['price_EUR_sqm'] >= lower_bound) & (real_estate_df['price_EUR_sqm'] <= upper_bound)]\n",
    "\n",
    "# Create a histogram of price_EUR_sqm\n",
    "sns.displot(data=real_estate_df, x='price_EUR_sqm', bins=30)\n",
    "\n",
    "# Set the x- and y-axis labels and title\n",
    "plt.xlabel('Price (EUR/sqm)')\n",
    "plt.ylabel('# of properties')\n",
    "plt.title('Distribution of Price per Square Meter')\n",
    "\n",
    "# Show the plot\n",
    "plt.show()"
   ]
  },
  {
   "attachments": {},
   "cell_type": "markdown",
   "metadata": {},
   "source": [
    "#### Average Price per square meter by city"
   ]
  },
  {
   "attachments": {},
   "cell_type": "markdown",
   "metadata": {},
   "source": [
    "We used the `groupby()` function to group the original dataframe by 'localitate', and then applied a lambda function <br> \n",
    "to compute the sum of 'price_EUR' divided by the sum of 'useful_surface' for each group. We then used reset_index() to <br> \n",
    "convert the resulting series to a dataframe with columns 'localitate' and 'price_EUR_sqm'.\n",
    "<br>\n",
    "After computing the price per square meter by 'localitate', we created a bar plot using the barplot() function from seaborn as before."
   ]
  },
  {
   "cell_type": "code",
   "execution_count": 76,
   "metadata": {},
   "outputs": [
    {
     "data": {
      "image/png": "[encoded data removed]",
      "text/plain": [
       "<Figure size 640x480 with 1 Axes>"
      ]
     },
     "metadata": {},
     "output_type": "display_data"
    }
   ],
   "source": [
    "# Compute the price per square meter by localitate\n",
    "df_ppsm = real_estate_df.groupby('localitate').apply(lambda x: x['price_EUR'].sum() / x['useful_surface'].sum()).reset_index(name='price_EUR_sqm')\n",
    "\n",
    "# Create a bar plot of the price per square meter by localitate\n",
    "sns.barplot(x='localitate', y='price_EUR_sqm', data=df_ppsm)\n",
    "\n",
    "# Rotate the x-axis labels to avoid overlapping\n",
    "plt.xticks(rotation=90)\n",
    "\n",
    "# Set the x- and y-axis labels and title\n",
    "plt.xlabel('City')\n",
    "plt.ylabel('Price (EUR/sqm)')\n",
    "plt.title('Price per Square Meter by City')\n",
    "\n",
    "# Show the plot\n",
    "plt.show()"
   ]
  },
  {
   "attachments": {},
   "cell_type": "markdown",
   "metadata": {},
   "source": [
    "#### Average Price per sqm by Construction Year"
   ]
  },
  {
   "attachments": {},
   "cell_type": "markdown",
   "metadata": {},
   "source": [
    "In this code, we used the same approach as before to compute the price per square meter by 'construction_year', <br>\n",
    "and then filtered the results to keep only the most recent 20 years using sort_values() to sort by 'construction_year' <br>\n",
    "in descending order and `iloc[]` to select the first 20 rows.<br>\n",
    "\n",
    "After filtering the results, we created a bar plot as before, but with 'construction_year' on the x-axis instead of 'localitate'."
   ]
  },
  {
   "cell_type": "code",
   "execution_count": 77,
   "metadata": {},
   "outputs": [
    {
     "data": {
      "image/png": "[encoded data removed]",
      "text/plain": [
       "<Figure size 640x480 with 1 Axes>"
      ]
     },
     "metadata": {},
     "output_type": "display_data"
    }
   ],
   "source": [
    "# Compute the price per square meter by construction_year\n",
    "df_ppsm = real_estate_df.groupby('construction_year').apply(lambda x: x['price_EUR'].sum() / x['useful_surface'].sum()).reset_index(name='price_EUR_sqm')\n",
    "\n",
    "# Filter to keep only the most recent 20 years\n",
    "df_ppsm = df_ppsm.sort_values(by='construction_year', ascending=False).iloc[:20]\n",
    "\n",
    "# Create a bar plot of the price per square meter by construction_year\n",
    "sns.barplot(x='construction_year', y='price_EUR_sqm', data=df_ppsm)\n",
    "\n",
    "# Rotate the x-axis labels to avoid overlapping\n",
    "plt.xticks(rotation=90)\n",
    "\n",
    "# Set the x- and y-axis labels and title\n",
    "plt.xlabel('Construction Year')\n",
    "plt.ylabel('Price (EUR/sqm)')\n",
    "plt.title('Price per Square Meter by Year of Construction')\n",
    "\n",
    "# Show the plot\n",
    "plt.show()"
   ]
  },
  {
   "attachments": {},
   "cell_type": "markdown",
   "metadata": {},
   "source": [
    "#### Average Price per sqm by Partitioning"
   ]
  },
  {
   "cell_type": "code",
   "execution_count": 78,
   "metadata": {},
   "outputs": [
    {
     "data": {
      "image/png": "[encoded data removed]",
      "text/plain": [
       "<Figure size 640x480 with 1 Axes>"
      ]
     },
     "metadata": {},
     "output_type": "display_data"
    }
   ],
   "source": [
    "# Compute the price per square meter by partioning (or detachment)\n",
    "df_ppsm = real_estate_df.groupby('partitioning').apply(lambda x: x['price_EUR'].sum() / x['useful_surface'].sum()).reset_index(name='price_EUR_sqm')\n",
    "\n",
    "# Create a bar plot of the price per square meter by partioning\n",
    "sns.barplot(x='partitioning', y='price_EUR_sqm', data=df_ppsm)\n",
    "\n",
    "# Rotate the x-axis labels to avoid overlapping\n",
    "plt.xticks(rotation=45)\n",
    "\n",
    "# Set the x- and y-axis labels and title\n",
    "plt.xlabel('Partitioning')\n",
    "plt.ylabel('Price (EUR/sqm)')\n",
    "plt.title('Price per Square Meter by Partitioning type')\n",
    "\n",
    "# Show the plot\n",
    "plt.show()"
   ]
  },
  {
   "attachments": {},
   "cell_type": "markdown",
   "metadata": {},
   "source": [
    "#### Average Price per sqm by Floor level"
   ]
  },
  {
   "cell_type": "code",
   "execution_count": 79,
   "metadata": {},
   "outputs": [],
   "source": [
    "# Cast floor_level to int\n",
    "real_estate_df['floor_level'] = real_estate_df['floor_level'].astype(int)"
   ]
  },
  {
   "cell_type": "code",
   "execution_count": 80,
   "metadata": {},
   "outputs": [
    {
     "data": {
      "image/png": "[encoded data removed]",
      "text/plain": [
       "<Figure size 640x480 with 1 Axes>"
      ]
     },
     "metadata": {},
     "output_type": "display_data"
    }
   ],
   "source": [
    "# Compute the price per square meter by parfloor_level\n",
    "df_ppsm = real_estate_df.groupby('floor_level').apply(lambda x: x['price_EUR'].sum() / x['useful_surface'].sum()).reset_index(name='price_EUR_sqm')\n",
    "\n",
    "# Create a bar plot of the price per square meter by partioning\n",
    "sns.barplot(x='floor_level', y='price_EUR_sqm', data=df_ppsm)\n",
    "\n",
    "# Rotate the x-axis labels to avoid overlapping\n",
    "plt.xticks(rotation=45)\n",
    "\n",
    "# Set the x- and y-axis labels and title\n",
    "plt.xlabel('Floor')\n",
    "plt.ylabel('Price (EUR/sqm)')\n",
    "plt.title('Price per Square Meter by Floor')\n",
    "\n",
    "# Show the plot\n",
    "plt.show()"
   ]
  },
  {
   "attachments": {},
   "cell_type": "markdown",
   "metadata": {},
   "source": [
    "#### Correlation Matrix"
   ]
  },
  {
   "attachments": {},
   "cell_type": "markdown",
   "metadata": {},
   "source": [
    "In below code, `mask` is used to hide the upper triangle of the correlation matrix because it is symmetric.<br>\n",
    "The `cmap` variable defines the color palette to be used for the heatmap.<br>\n",
    "The `vmax` parameter sets the range of the color scale.<br>\n",
    "The `annot` argument tells seaborn to include the correlation coefficients in each square of the heatmap.<br> \n",
    "The `fmt` argument specifies the format string for the coefficients, in this case to display them as floating-point numbers with two decimal places.<br>\n",
    "Finally, we used `annot_kws={\"size\": 10}` to adjust the font size of the correlation coefficients."
   ]
  },
  {
   "cell_type": "code",
   "execution_count": 81,
   "metadata": {},
   "outputs": [
    {
     "name": "stderr",
     "output_type": "stream",
     "text": [
      "C:\\Users\\Serghei.Dragan\\AppData\\Local\\Temp\\ipykernel_17180\\299376518.py:1: FutureWarning: The default value of numeric_only in DataFrame.corr is deprecated. In a future version, it will default to False. Select only valid columns or specify the value of numeric_only to silence this warning.\n",
      "  corr = real_estate_df.corr()\n",
      "C:\\Users\\Serghei.Dragan\\AppData\\Local\\Temp\\ipykernel_17180\\299376518.py:3: DeprecationWarning: `np.bool` is a deprecated alias for the builtin `bool`. To silence this warning, use `bool` by itself. Doing this will not modify any behavior and is safe. If you specifically wanted the numpy scalar type, use `np.bool_` here.\n",
      "Deprecated in NumPy 1.20; for more details and guidance: https://numpy.org/devdocs/release/1.20.0-notes.html#deprecations\n",
      "  mask = np.zeros_like(corr, dtype=np.bool)\n"
     ]
    },
    {
     "data": {
      "image/png": "[encoded data removed]",
      "text/plain": [
       "<Figure size 1000x900 with 2 Axes>"
      ]
     },
     "metadata": {},
     "output_type": "display_data"
    }
   ],
   "source": [
    "corr = real_estate_df.corr()\n",
    "sns.set(style='white')\n",
    "mask = np.zeros_like(corr, dtype=bool)\n",
    "mask[np.triu_indices_from(mask)] = True\n",
    "\n",
    "f, ax = plt.subplots(figsize=(10, 9))\n",
    "cmap = sns.diverging_palette(220, 10, as_cmap=True)\n",
    "\n",
    "sns.heatmap(corr, mask=mask, cmap=cmap, vmax=.3, center=0, square=True, linewidths=.5, cbar_kws={\"shrink\": .5}, annot=True, fmt=\".1f\", annot_kws={\"size\": 10})\n",
    "plt.title('Correlation Matrix', fontsize=16)\n",
    "\n",
    "plt.show()"
   ]
  },
  {
   "attachments": {},
   "cell_type": "markdown",
   "metadata": {},
   "source": [
    "Due to high negative correlation between days_since_listing and year_of_listing the latter will be dropped toghether with month_of_listing.<br>\n",
    "Same is applicable for nr_locuri_parcare and nr_garaje where we have a relatively high positive correlation. <br>\n",
    "In terms of price_EUR_sqm and price_EUR the former is our target and the latter is derived by multiplying the target with the useful surface and as such we can delete the attribute price_EUR as well."
   ]
  },
  {
   "cell_type": "code",
   "execution_count": 82,
   "metadata": {},
   "outputs": [],
   "source": [
    "highly_correlated_columns = ['year_of_listing', 'month_of_listing', 'nr_garaje', 'price_EUR', 'date_of_listing']\n",
    "real_estate_df.drop(columns=highly_correlated_columns, axis=1, inplace=True)"
   ]
  },
  {
   "cell_type": "code",
   "execution_count": 83,
   "metadata": {},
   "outputs": [],
   "source": [
    "# Removing as well some attributes that the user might not be aware ahead of time in order to establish the price\n",
    "real_estate_df.drop(columns=['commission', 'pret_negociabil', 'tip_client'], axis=1, inplace=True)"
   ]
  },
  {
   "cell_type": "code",
   "execution_count": 84,
   "metadata": {},
   "outputs": [
    {
     "name": "stdout",
     "output_type": "stream",
     "text": [
      "<class 'pandas.core.frame.DataFrame'>\n",
      "Int64Index: 68059 entries, 0 to 69478\n",
      "Data columns (total 26 columns):\n",
      " #   Column                   Non-Null Count  Dtype  \n",
      "---  ------                   --------------  -----  \n",
      " 0   localitate               68059 non-null  object \n",
      " 1   zona                     68059 non-null  object \n",
      " 2   rooms                    68059 non-null  int32  \n",
      " 3   construction_year        68059 non-null  int32  \n",
      " 4   useful_surface           68059 non-null  float64\n",
      " 5   floor_level              68059 non-null  int32  \n",
      " 6   nr_of_kitchens           68059 non-null  int64  \n",
      " 7   nr_bai                   68059 non-null  int64  \n",
      " 8   nr_balcoane              68059 non-null  int64  \n",
      " 9   partitioning             68059 non-null  object \n",
      " 10  comfort                  68059 non-null  int32  \n",
      " 11  nr_balcoane_inchise      68059 non-null  int64  \n",
      " 12  structura_rezistenta     68059 non-null  object \n",
      " 13  tip_imobil               68059 non-null  object \n",
      " 14  nr_locuri_parcare        68059 non-null  int64  \n",
      " 15  furnishing               68059 non-null  int32  \n",
      " 16  under_construction(y/n)  68059 non-null  bool   \n",
      " 17  project_phase(y/n)       68059 non-null  bool   \n",
      " 18  max_floor                68059 non-null  int32  \n",
      " 19  mansard_(y/n)            68059 non-null  bool   \n",
      " 20  termoficare_(y/n)        68059 non-null  bool   \n",
      " 21  centrala_proprie_(y/n)   68059 non-null  bool   \n",
      " 22  centrala_imobil_(y/n)    68059 non-null  bool   \n",
      " 23  floor_heating_(y/n)      68059 non-null  bool   \n",
      " 24  days_since_listing       68059 non-null  int64  \n",
      " 25  price_EUR_sqm            68059 non-null  float64\n",
      "dtypes: bool(7), float64(2), int32(6), int64(6), object(5)\n",
      "memory usage: 11.3+ MB\n"
     ]
    }
   ],
   "source": [
    "real_estate_df.info()"
   ]
  },
  {
   "cell_type": "code",
   "execution_count": 85,
   "metadata": {},
   "outputs": [],
   "source": [
    "# Export data to csv file\n",
    "real_estate_df.to_csv('processed_data_real_estate.csv')"
   ]
  },
  {
   "attachments": {},
   "cell_type": "markdown",
   "metadata": {},
   "source": [
    "Applying LabelEncoder for categorical columns"
   ]
  },
  {
   "cell_type": "code",
   "execution_count": 86,
   "metadata": {},
   "outputs": [
    {
     "data": {
      "text/plain": [
       "['localitate', 'zona', 'partitioning', 'structura_rezistenta', 'tip_imobil']"
      ]
     },
     "execution_count": 86,
     "metadata": {},
     "output_type": "execute_result"
    }
   ],
   "source": [
    "# Selecting categorical columns\n",
    "object_attributes = [cat for cat in real_estate_df.columns if real_estate_df[cat].dtypes == 'object']\n",
    "object_attributes"
   ]
  },
  {
   "cell_type": "code",
   "execution_count": 87,
   "metadata": {},
   "outputs": [],
   "source": [
    "# Creating an instance of LabelEncoder class\n",
    "le = LabelEncoder()\n",
    "# Applying LabelEncoder to categorical columns\n",
    "for cat in object_attributes:\n",
    "    real_estate_df[cat] = le.fit_transform(real_estate_df[cat])"
   ]
  },
  {
   "attachments": {},
   "cell_type": "markdown",
   "metadata": {},
   "source": [
    "### Selection of model generation techniques"
   ]
  },
  {
   "attachments": {},
   "cell_type": "markdown",
   "metadata": {},
   "source": [
    "As the purpose of the task is to predict a cotinuos variable we need models that can perform regression (not classification). <br>\n",
    "The candidates in this case will be three models as follows:<br>\n",
    "* Random Forest Regression\n",
    "* XGBRegressor\n",
    "* Gradient Boosting Regression"
   ]
  },
  {
   "attachments": {},
   "cell_type": "markdown",
   "metadata": {},
   "source": [
    "### Generating the test design:"
   ]
  },
  {
   "attachments": {},
   "cell_type": "markdown",
   "metadata": {},
   "source": [
    "In this code, X represents the feature matrix and Y represents the target variable.<br>\n",
    "The train_test_split function is called twice: first to split the data into training/validation/test sets with a 80/20 split (i.e., test_size=0.2), <br>and then to split the training/validation sets further into separate training and validation sets with a 85/15 split (i.e., test_size=0.15).\n",
    "\n",
    "The random_state parameter sets the random seed for reproducibility."
   ]
  },
  {
   "attachments": {},
   "cell_type": "markdown",
   "metadata": {},
   "source": [
    "After splitting the data, we can use the training set to train the models, the validation set to tune the models, and the test set to evaluate the performance of the models on unseen data."
   ]
  },
  {
   "cell_type": "code",
   "execution_count": 88,
   "metadata": {},
   "outputs": [],
   "source": [
    "# Separate target variable from predictors\n",
    "X = real_estate_df.drop('price_EUR_sqm', axis=1)\n",
    "Y = real_estate_df['price_EUR_sqm']"
   ]
  },
  {
   "cell_type": "code",
   "execution_count": 89,
   "metadata": {},
   "outputs": [],
   "source": [
    "# Split the data into train, validation and test with a ratio of 68/12/20\n",
    "X_train_val, X_test, Y_train_val, Y_test = train_test_split(X, Y, test_size=0.2, random_state=42)\n",
    "X_train, X_val, Y_train, Y_val = train_test_split(X_train_val, Y_train_val, test_size=0.15, random_state=42)"
   ]
  },
  {
   "attachments": {},
   "cell_type": "markdown",
   "metadata": {},
   "source": [
    "In this example, we fit the scaler to the training set using the fit_transform() method, which computes the mean and standard deviation of the training set and scales the data accordingly. We then use the transform() method to scale the validation and test sets, using the same scaler that was fit to the training set.\n",
    "\n",
    "The reason we apply the StandardScaler after splitting the data set into training, validation, and test sets is to avoid data leakage. If we scale the data before splitting, we would be using information from the validation and test sets to standardize the training set, which is not allowed.\n",
    "\n",
    "Scaling the training set only ensures that the mean and variance of the training set are centered around 0 and have a standard deviation of 1. We then use the same scaler to transform the validation and test sets. This way, we are only using information from the training set to standardize the data, and the validation and test sets remain unseen until the final evaluation."
   ]
  },
  {
   "cell_type": "code",
   "execution_count": 90,
   "metadata": {},
   "outputs": [],
   "source": [
    "# Standardize the data\n",
    "scaler = StandardScaler()\n",
    "X_train = scaler.fit_transform(X_train)\n",
    "X_val = scaler.transform(X_val)\n",
    "X_test = scaler.transform(X_test)"
   ]
  },
  {
   "cell_type": "code",
   "execution_count": 91,
   "metadata": {},
   "outputs": [
    {
     "name": "stdout",
     "output_type": "stream",
     "text": [
      "X_train shape: (46279, 25)\n",
      "Y_train shape: (46279,)\n",
      "X_val shape: (8168, 25)\n",
      "Y_val shape: (8168,)\n",
      "X_test shape: (13612, 25)\n",
      "Y_test shape: (13612,)\n"
     ]
    }
   ],
   "source": [
    "# Checking the shape of splitted data sets\n",
    "print(\"X_train shape:\", X_train.shape)\n",
    "print(\"Y_train shape:\", Y_train.shape)\n",
    "\n",
    "print(\"X_val shape:\", X_val.shape)\n",
    "print(\"Y_val shape:\", Y_val.shape)\n",
    "\n",
    "print(\"X_test shape:\", X_test.shape)\n",
    "print(\"Y_test shape:\", Y_test.shape)"
   ]
  },
  {
   "attachments": {},
   "cell_type": "markdown",
   "metadata": {},
   "source": [
    "### Model Building - RandomForestRegressor"
   ]
  },
  {
   "cell_type": "code",
   "execution_count": 92,
   "metadata": {},
   "outputs": [],
   "source": [
    "from sklearn.ensemble import RandomForestRegressor\n",
    "from sklearn.metrics import mean_squared_error, r2_score"
   ]
  },
  {
   "cell_type": "code",
   "execution_count": 93,
   "metadata": {},
   "outputs": [
    {
     "name": "stdout",
     "output_type": "stream",
     "text": [
      "Random Forest Regressor - Training RMSE: 135.42, Training R^2: 0.96\n",
      "Random Forest Regressor - Validation RMSE: 355.75, Validation R^2: 0.72\n"
     ]
    }
   ],
   "source": [
    "# Initialize the Random Forest Regressor model with default parameters\n",
    "rf_model = RandomForestRegressor(random_state=42)\n",
    "\n",
    "# Fit the model on the training data\n",
    "rf_model.fit(X_train, Y_train)\n",
    "\n",
    "# Evaluate the model on the training data\n",
    "Y_train_pred = rf_model.predict(X_train)\n",
    "train_rmse = np.sqrt(mean_squared_error(Y_train, Y_train_pred))\n",
    "train_r2 = r2_score(Y_train, Y_train_pred)\n",
    "\n",
    "# Evaluate the model on the validation data\n",
    "Y_val_pred = rf_model.predict(X_val)\n",
    "val_rmse = np.sqrt(mean_squared_error(Y_val, Y_val_pred))\n",
    "val_r2 = r2_score(Y_val, Y_val_pred)\n",
    "\n",
    "print(f\"Random Forest Regressor - Training RMSE: {train_rmse:.2f}, Training R^2: {train_r2:.2f}\")\n",
    "print(f\"Random Forest Regressor - Validation RMSE: {val_rmse:.2f}, Validation R^2: {val_r2:.2f}\")"
   ]
  },
  {
   "attachments": {},
   "cell_type": "markdown",
   "metadata": {},
   "source": [
    "A validation RMSE of 358 is relatively high compared to the training RMSE of 135, indicating that the model may be overfitting the training data.<br> Tuning the hyperparameters of the model can help to improve its performance on the validation set."
   ]
  },
  {
   "attachments": {},
   "cell_type": "markdown",
   "metadata": {},
   "source": [
    "### Options to avoid overfitting:\n",
    "\n",
    "1. Use more training data: Overfitting can occur when the model is trained on a small dataset that does not represent the true population well. Collecting more data can help the model generalize better and avoid overfitting.\n",
    "\n",
    "2. Reduce the number of features: The more features the model has, the more likely it is to overfit. Try to reduce the number of features to the most relevant ones.\n",
    "\n",
    "3. Limit the depth of the trees: Random forests can create very deep trees that overfit the data. Setting a maximum depth or limiting the number of nodes in each tree can help reduce overfitting.\n",
    "\n",
    "4. Increase the number of trees: Increasing the number of trees in the forest can improve the model's generalization ability and reduce overfitting.\n",
    "\n",
    "5. Use cross-validation: Cross-validation can help to assess the model's generalization ability and tune hyperparameters to avoid overfitting.\n",
    "\n",
    "6. Regularize the model: Adding regularization terms, such as L1 or L2 regularization, to the model's objective function can help prevent overfitting.\n",
    "\n",
    "7. Use ensemble techniques: Ensembling can help to reduce overfitting by combining the predictions of multiple models with different parameters or architectures. This can improve the model's generalization ability and reduce the risk of overfitting."
   ]
  },
  {
   "attachments": {},
   "cell_type": "markdown",
   "metadata": {},
   "source": [
    "Point 1 related to using more training data is not valid in this case as 70% of data was used for training and it can't be increased futher as 10% was reserved for validation while the remaining 20% for test.<br>\n",
    "\n",
    "For point 2 we will use `RFECV` which stands for `Recursive Feature Elimination with Cross-Validation`. It is a technique for feature selection that recursively removes less important features from the dataset while performing `cross-validation` to evaluate the model's performance. The process continues until the optimal number of features is reached.\n",
    "\n",
    "Points 3-6 are all related to tuning the hyperparameters of the model and in the case of `RandomForestRegressor` we are planning to use a technique called `RandomizedSearchCV`.\n",
    "\n",
    "Point 7 is resource intensive and too time consuming for this stage but should be explored as a next step in order to get the best robust model possible."
   ]
  },
  {
   "attachments": {},
   "cell_type": "markdown",
   "metadata": {},
   "source": [
    "### Trying different approaches for improving model performance but especially to reduce overfitting"
   ]
  },
  {
   "attachments": {},
   "cell_type": "markdown",
   "metadata": {},
   "source": [
    "### Tuning the model's Hyperparameters"
   ]
  },
  {
   "attachments": {},
   "cell_type": "markdown",
   "metadata": {},
   "source": [
    "The hyperparameters that we can tune for a Random Forest Regressor include:\n",
    "\n",
    "* `n_estimators`: the number of trees in the forest\n",
    "* `max_depth`: the maximum depth of each tree\n",
    "* `min_samples_split`: the minimum number of samples required to split an internal node\n",
    "* `min_samples_leaf`: the minimum number of samples required to be at a leaf node (`L1 regularization`)\n",
    "* `ccp_alpha`: sets the strength of the `L2 regularization` term\n",
    "\n",
    "There are different types of regularization techniques that can be used with the RandomForestRegressor algorithm to prevent overfitting:\n",
    "\n",
    "* L1 regularization: L1 regularization adds a penalty term equal to the absolute value of the weights. This type of regularization encourages the model to select only the most important features and sets the weights of less important features to zero.\n",
    "\n",
    "* L2 regularization: L2 regularization adds a penalty term equal to the square of the weights. This type of regularization encourages the model to spread the weights across all features and prevents the model from overemphasizing any single feature."
   ]
  },
  {
   "attachments": {},
   "cell_type": "markdown",
   "metadata": {},
   "source": [
    "The `RandomizedSearchCV` randomly selects a subset of hyperparameters to evaluate instead of exhaustively searching through all possible combinations, which can lead to faster hyperparameter tuning. For each combination randomly selected, the code will fit a Random Forest Regressor on the training set and evaluate its performance on the validation set using 5-fold cross validation. The best combination of hyperparameters will be the one that minimizes the RMSE on the validation set.\n",
    "\n",
    "The parameter `cv=5` in the `RandomizedSearchCV` function specifies that we want to use 5-fold cross-validation. This means that the training set is divided into 5 equal parts or folds. The model is trained on 4 of the folds and evaluated on the remaining fold (i.e., validation set). This process is repeated 5 times, with each fold being used as the validation set once, and the results are averaged to obtain an estimate of the model's performance on the validation set.\n",
    "\n",
    "So, although we don't explicitly use a separate validation set, we are using cross-validation to simulate the process of training the model on one subset of the data and evaluating its performance on a different subset."
   ]
  },
  {
   "cell_type": "code",
   "execution_count": 97,
   "metadata": {},
   "outputs": [
    {
     "name": "stdout",
     "output_type": "stream",
     "text": [
      "Best Hyperparameters: {'max_depth': 21, 'min_samples_leaf': 2, 'min_samples_split': 7, 'n_estimators': 665}\n",
      "Validation RMSE: 375.83307806724616\n"
     ]
    }
   ],
   "source": [
    "from sklearn.model_selection import RandomizedSearchCV\n",
    "from scipy.stats import randint\n",
    "\n",
    "# Define the hyperparameters to tune\n",
    "param_dist = {\n",
    "    'n_estimators': randint(100, 1000),\n",
    "    'max_depth': [None] + list(randint(5, 50).rvs(5)),\n",
    "    'min_samples_split': randint(2, 20),\n",
    "    'min_samples_leaf': randint(1, 20),\n",
    "}\n",
    "\n",
    "# Create a RandomizedSearchCV object\n",
    "random_search = RandomizedSearchCV(estimator=rf_model, \n",
    "                                   param_distributions=param_dist, \n",
    "                                   n_iter=20, \n",
    "                                   cv=5, \n",
    "                                   random_state=42,\n",
    "                                   scoring='neg_root_mean_squared_error')\n",
    "\n",
    "# Fit the RandomizedSearchCV object to the training data\n",
    "random_search.fit(X_train, Y_train)\n",
    "\n",
    "# Print the best hyperparameters and the corresponding RMSE on the validation set\n",
    "print(\"Best Hyperparameters:\", random_search.best_params_)\n",
    "print(\"Validation RMSE:\", -random_search.best_score_)\n"
   ]
  },
  {
   "attachments": {},
   "cell_type": "markdown",
   "metadata": {},
   "source": [
    "In this example, we define the hyperparameters using a dictionary and a set of probability distributions from the scipy.stats module. We then create a RandomizedSearchCV object and fit it to the training data. The n_iter parameter controls the number of random searches to perform, and the cv parameter specifies the number of cross-validation folds to use.\n",
    "\n",
    "RandomizedSearchCV can be faster than GridSearchCV, but it's important to note that it may not necessarily find the best hyperparameters since it doesn't search all possible combinations. However, it can be a good option when the search space is large or when the training time is limited."
   ]
  },
  {
   "attachments": {},
   "cell_type": "markdown",
   "metadata": {},
   "source": [
    "### Next steps after the best Hyperparameters are found"
   ]
  },
  {
   "attachments": {},
   "cell_type": "markdown",
   "metadata": {},
   "source": [
    "After finding the best hyperparameters using cross-validation, we can use them to evaluate model performance on the validation set. We can subsequently use the same hyperparameters and fit the model on the entire training set and evaluate its performance on the test set, which will give us a good estimate of the model's performance on new, unseen data if the results on validation are satisfactory."
   ]
  },
  {
   "cell_type": "code",
   "execution_count": 98,
   "metadata": {},
   "outputs": [
    {
     "name": "stdout",
     "output_type": "stream",
     "text": [
      "Validation RMSE: 364.7301380629408\n",
      "Validation R2 score: 0.7034973180943803\n"
     ]
    }
   ],
   "source": [
    "# Get the best model from the randomized search\n",
    "best_model = random_search.best_estimator_\n",
    "\n",
    "# Make predictions on the validation data\n",
    "Y_pred = best_model.predict(X_val)\n",
    "\n",
    "# Calculate RMSE and R2 score on the validation data\n",
    "rmse = mean_squared_error(Y_val, Y_pred, squared=False)\n",
    "r2 = r2_score(Y_val, Y_pred)\n",
    "\n",
    "print(\"Validation RMSE:\", rmse)\n",
    "print(\"Validation R2 score:\", r2)"
   ]
  },
  {
   "attachments": {},
   "cell_type": "markdown",
   "metadata": {},
   "source": [
    "### Feature reduction (or selection)"
   ]
  },
  {
   "attachments": {},
   "cell_type": "markdown",
   "metadata": {},
   "source": [
    "We can get the feature_importances_ attribute of the trained rf_model object using the code below.<br> This will print an array of feature importances, where the index of each value corresponds to the index of the column in the input data X."
   ]
  },
  {
   "cell_type": "code",
   "execution_count": 99,
   "metadata": {},
   "outputs": [
    {
     "name": "stdout",
     "output_type": "stream",
     "text": [
      "[2.64841344e-01 1.72637712e-01 9.33515452e-03 9.95644258e-02\n",
      " 7.31669274e-02 3.73788462e-02 7.45614723e-04 4.28503699e-02\n",
      " 1.75540346e-02 8.01433513e-03 8.32652788e-02 7.75754600e-03\n",
      " 1.79323980e-03 9.87247937e-03 1.33949361e-02 4.12716463e-03\n",
      " 1.98713373e-04 5.19923290e-02 6.88596629e-04 1.63789432e-03\n",
      " 1.19957298e-02 1.55845345e-02 1.93081271e-02 5.22946662e-02]\n"
     ]
    }
   ],
   "source": [
    "# Get feature importances\n",
    "feature_importances = best_model.feature_importances_\n",
    "print(feature_importances)"
   ]
  },
  {
   "attachments": {},
   "cell_type": "markdown",
   "metadata": {},
   "source": [
    "We can also create a Pandas DataFrame to better visualize the feature importances as decided by the model:"
   ]
  },
  {
   "cell_type": "code",
   "execution_count": 100,
   "metadata": {},
   "outputs": [
    {
     "name": "stdout",
     "output_type": "stream",
     "text": [
      "                    feature  importance\n",
      "0                localitate    0.264841\n",
      "1                      zona    0.172638\n",
      "3         construction_year    0.099564\n",
      "10                  comfort    0.083265\n",
      "4            useful_surface    0.073167\n",
      "23       days_since_listing    0.052295\n",
      "17                max_floor    0.051992\n",
      "7                    nr_bai    0.042850\n",
      "5               floor_level    0.037379\n",
      "22      floor_heating_(y/n)    0.019308\n",
      "8               nr_balcoane    0.017554\n",
      "21    centrala_imobil_(y/n)    0.015585\n",
      "14               furnishing    0.013395\n",
      "20   centrala_proprie_(y/n)    0.011996\n",
      "13        nr_locuri_parcare    0.009872\n",
      "2                     rooms    0.009335\n",
      "9              partitioning    0.008014\n",
      "11     structura_rezistenta    0.007758\n",
      "15  under_construction(y/n)    0.004127\n",
      "12               tip_imobil    0.001793\n",
      "19        termoficare_(y/n)    0.001638\n",
      "6            nr_of_kitchens    0.000746\n",
      "18            mansard_(y/n)    0.000689\n",
      "16       project_phase(y/n)    0.000199\n"
     ]
    }
   ],
   "source": [
    "# Get feature importances\n",
    "importances = best_model.feature_importances_\n",
    "\n",
    "# Create DataFrame of feature importances\n",
    "feature_importances = pd.DataFrame({'feature': X.columns, 'importance': importances})\n",
    "# Sort the features by importance\n",
    "feature_importances = feature_importances.sort_values('importance', ascending=False)\n",
    "\n",
    "# Print features\n",
    "print(feature_importances)"
   ]
  },
  {
   "attachments": {},
   "cell_type": "markdown",
   "metadata": {},
   "source": [
    "As tuning algorithms' hyperparameters have not improved the RMSE compared to the default parameters we well try another approach like feature selection using RFECV to improve model's performance.<br>\n",
    "RFECV is a modified version of RFEC that can estimate the optimal number of features to select using cross-validation. It's a more robust method than simply using RFE (which requires the user to specify the number of features to select), as it helps prevent overfitting and also gives us a more accurate estimate of the optimal number of features to select."
   ]
  },
  {
   "cell_type": "code",
   "execution_count": 101,
   "metadata": {},
   "outputs": [
    {
     "data": {
      "text/html": [
       "<style>#sk-container-id-1 {color: black;background-color: white;}#sk-container-id-1 pre{padding: 0;}#sk-container-id-1 div.sk-toggleable {background-color: white;}#sk-container-id-1 label.sk-toggleable__label {cursor: pointer;display: block;width: 100%;margin-bottom: 0;padding: 0.3em;box-sizing: border-box;text-align: center;}#sk-container-id-1 label.sk-toggleable__label-arrow:before {content: \"▸\";float: left;margin-right: 0.25em;color: #696969;}#sk-container-id-1 label.sk-toggleable__label-arrow:hover:before {color: black;}#sk-container-id-1 div.sk-estimator:hover label.sk-toggleable__label-arrow:before {color: black;}#sk-container-id-1 div.sk-toggleable__content {max-height: 0;max-width: 0;overflow: hidden;text-align: left;background-color: #f0f8ff;}#sk-container-id-1 div.sk-toggleable__content pre {margin: 0.2em;color: black;border-radius: 0.25em;background-color: #f0f8ff;}#sk-container-id-1 input.sk-toggleable__control:checked~div.sk-toggleable__content {max-height: 200px;max-width: 100%;overflow: auto;}#sk-container-id-1 input.sk-toggleable__control:checked~label.sk-toggleable__label-arrow:before {content: \"▾\";}#sk-container-id-1 div.sk-estimator input.sk-toggleable__control:checked~label.sk-toggleable__label {background-color: #d4ebff;}#sk-container-id-1 div.sk-label input.sk-toggleable__control:checked~label.sk-toggleable__label {background-color: #d4ebff;}#sk-container-id-1 input.sk-hidden--visually {border: 0;clip: rect(1px 1px 1px 1px);clip: rect(1px, 1px, 1px, 1px);height: 1px;margin: -1px;overflow: hidden;padding: 0;position: absolute;width: 1px;}#sk-container-id-1 div.sk-estimator {font-family: monospace;background-color: #f0f8ff;border: 1px dotted black;border-radius: 0.25em;box-sizing: border-box;margin-bottom: 0.5em;}#sk-container-id-1 div.sk-estimator:hover {background-color: #d4ebff;}#sk-container-id-1 div.sk-parallel-item::after {content: \"\";width: 100%;border-bottom: 1px solid gray;flex-grow: 1;}#sk-container-id-1 div.sk-label:hover label.sk-toggleable__label {background-color: #d4ebff;}#sk-container-id-1 div.sk-serial::before {content: \"\";position: absolute;border-left: 1px solid gray;box-sizing: border-box;top: 0;bottom: 0;left: 50%;z-index: 0;}#sk-container-id-1 div.sk-serial {display: flex;flex-direction: column;align-items: center;background-color: white;padding-right: 0.2em;padding-left: 0.2em;position: relative;}#sk-container-id-1 div.sk-item {position: relative;z-index: 1;}#sk-container-id-1 div.sk-parallel {display: flex;align-items: stretch;justify-content: center;background-color: white;position: relative;}#sk-container-id-1 div.sk-item::before, #sk-container-id-1 div.sk-parallel-item::before {content: \"\";position: absolute;border-left: 1px solid gray;box-sizing: border-box;top: 0;bottom: 0;left: 50%;z-index: -1;}#sk-container-id-1 div.sk-parallel-item {display: flex;flex-direction: column;z-index: 1;position: relative;background-color: white;}#sk-container-id-1 div.sk-parallel-item:first-child::after {align-self: flex-end;width: 50%;}#sk-container-id-1 div.sk-parallel-item:last-child::after {align-self: flex-start;width: 50%;}#sk-container-id-1 div.sk-parallel-item:only-child::after {width: 0;}#sk-container-id-1 div.sk-dashed-wrapped {border: 1px dashed gray;margin: 0 0.4em 0.5em 0.4em;box-sizing: border-box;padding-bottom: 0.4em;background-color: white;}#sk-container-id-1 div.sk-label label {font-family: monospace;font-weight: bold;display: inline-block;line-height: 1.2em;}#sk-container-id-1 div.sk-label-container {text-align: center;}#sk-container-id-1 div.sk-container {/* jupyter's `normalize.less` sets `[hidden] { display: none; }` but bootstrap.min.css set `[hidden] { display: none !important; }` so we also need the `!important` here to be able to override the default hidden behavior on the sphinx rendered scikit-learn.org. See: https://github.com/scikit-learn/scikit-learn/issues/21755 */display: inline-block !important;position: relative;}#sk-container-id-1 div.sk-text-repr-fallback {display: none;}</style><div id=\"sk-container-id-1\" class=\"sk-top-container\"><div class=\"sk-text-repr-fallback\"><pre>RFECV(cv=5,\n",
       "      estimator=RandomForestRegressor(max_depth=21, min_samples_leaf=2,\n",
       "                                      min_samples_split=7, n_estimators=665,\n",
       "                                      random_state=42),\n",
       "      scoring=&#x27;neg_root_mean_squared_error&#x27;)</pre><b>In a Jupyter environment, please rerun this cell to show the HTML representation or trust the notebook. <br />On GitHub, the HTML representation is unable to render, please try loading this page with nbviewer.org.</b></div><div class=\"sk-container\" hidden><div class=\"sk-item sk-dashed-wrapped\"><div class=\"sk-label-container\"><div class=\"sk-label sk-toggleable\"><input class=\"sk-toggleable__control sk-hidden--visually\" id=\"sk-estimator-id-1\" type=\"checkbox\" ><label for=\"sk-estimator-id-1\" class=\"sk-toggleable__label sk-toggleable__label-arrow\">RFECV</label><div class=\"sk-toggleable__content\"><pre>RFECV(cv=5,\n",
       "      estimator=RandomForestRegressor(max_depth=21, min_samples_leaf=2,\n",
       "                                      min_samples_split=7, n_estimators=665,\n",
       "                                      random_state=42),\n",
       "      scoring=&#x27;neg_root_mean_squared_error&#x27;)</pre></div></div></div><div class=\"sk-parallel\"><div class=\"sk-parallel-item\"><div class=\"sk-item\"><div class=\"sk-label-container\"><div class=\"sk-label sk-toggleable\"><input class=\"sk-toggleable__control sk-hidden--visually\" id=\"sk-estimator-id-2\" type=\"checkbox\" ><label for=\"sk-estimator-id-2\" class=\"sk-toggleable__label sk-toggleable__label-arrow\">estimator: RandomForestRegressor</label><div class=\"sk-toggleable__content\"><pre>RandomForestRegressor(max_depth=21, min_samples_leaf=2, min_samples_split=7,\n",
       "                      n_estimators=665, random_state=42)</pre></div></div></div><div class=\"sk-serial\"><div class=\"sk-item\"><div class=\"sk-estimator sk-toggleable\"><input class=\"sk-toggleable__control sk-hidden--visually\" id=\"sk-estimator-id-3\" type=\"checkbox\" ><label for=\"sk-estimator-id-3\" class=\"sk-toggleable__label sk-toggleable__label-arrow\">RandomForestRegressor</label><div class=\"sk-toggleable__content\"><pre>RandomForestRegressor(max_depth=21, min_samples_leaf=2, min_samples_split=7,\n",
       "                      n_estimators=665, random_state=42)</pre></div></div></div></div></div></div></div></div></div></div>"
      ],
      "text/plain": [
       "RFECV(cv=5,\n",
       "      estimator=RandomForestRegressor(max_depth=21, min_samples_leaf=2,\n",
       "                                      min_samples_split=7, n_estimators=665,\n",
       "                                      random_state=42),\n",
       "      scoring='neg_root_mean_squared_error')"
      ]
     },
     "execution_count": 101,
     "metadata": {},
     "output_type": "execute_result"
    }
   ],
   "source": [
    "from sklearn.feature_selection import RFECV\n",
    "from sklearn.ensemble import RandomForestRegressor\n",
    "\n",
    "# Get the best hyperparameters from randomized search:\n",
    "best_params = random_search.best_params_\n",
    "\n",
    "# Create the best random forest regressor\n",
    "best_rf_model = RandomForestRegressor(**best_params, random_state=42)\n",
    "\n",
    "# Create a recursive feature elimination object\n",
    "rfecv = RFECV(estimator=best_rf_model, cv=5, scoring='neg_root_mean_squared_error')\n",
    "\n",
    "# Fit the recursive feature elimination object to the training data\n",
    "rfecv.fit(X_train, Y_train)"
   ]
  },
  {
   "cell_type": "code",
   "execution_count": 102,
   "metadata": {},
   "outputs": [
    {
     "name": "stdout",
     "output_type": "stream",
     "text": [
      "Selected Features: Index(['localitate', 'zona', 'construction_year', 'useful_surface',\n",
      "       'floor_level', 'nr_bai', 'comfort', 'max_floor', 'days_since_listing'],\n",
      "      dtype='object')\n"
     ]
    },
    {
     "name": "stderr",
     "output_type": "stream",
     "text": [
      "C:\\Users\\Serghei.Dragan\\AppData\\Roaming\\Python\\Python39\\site-packages\\sklearn\\utils\\deprecation.py:103: FutureWarning: The `grid_scores_` attribute is deprecated in version 1.0 in favor of `cv_results_` and will be removed in version 1.2.\n",
      "  warnings.warn(msg, category=FutureWarning)\n"
     ]
    },
    {
     "data": {
      "image/png": "[encoded data removed]",
      "text/plain": [
       "<Figure size 640x480 with 1 Axes>"
      ]
     },
     "metadata": {},
     "output_type": "display_data"
    }
   ],
   "source": [
    "# Convert X_train back to a dataframe\n",
    "X_train_df = pd.DataFrame(X_train, columns=X.columns)\n",
    "\n",
    "# Print the selected features\n",
    "print(\"Selected Features:\", X_train_df.columns[rfecv.support_])\n",
    "\n",
    "# Plot the number of features vs. cross-validation scores\n",
    "import matplotlib.pyplot as plt\n",
    "plt.figure()\n",
    "plt.xlabel(\"Number of features selected\")\n",
    "plt.ylabel(\"Cross validation score (RMSE)\")\n",
    "plt.plot(range(1, len(rfecv.grid_scores_) + 1), np.sqrt(-rfecv.grid_scores_))\n",
    "plt.show()"
   ]
  },
  {
   "attachments": {},
   "cell_type": "markdown",
   "metadata": {},
   "source": [
    "The code above fits the `RandomForestRegressor` with best hyperparameters found to the training data and perform recursive feature elimination using cross-validation. The `RFECV` object will select the optimal number of features using the `cv` parameter (in this case, 5-fold cross-validation). The `support_` attribute of the `RFECV` object contains a boolean mask of the selected features. The code also generates a plot of the number of features vs. the cross-validation score (RMSE).\n",
    "\n",
    "We can adjust the parameters of `RFECV` to suit our needs, such as the `step` parameter to control how many features are removed at each iteration, or the `min_features_to_select` parameter to set a lower limit on the number of features to select."
   ]
  },
  {
   "attachments": {},
   "cell_type": "markdown",
   "metadata": {},
   "source": [
    "### Checking against Validation data set again"
   ]
  },
  {
   "attachments": {},
   "cell_type": "markdown",
   "metadata": {},
   "source": [
    "Once we have identified the top features using RFECV, we can use them to train a new instance of the `RandomForestRegressor` model on the training set `X_train` and `Y_train`.<br> Here is the code to create a new model with only the selected features and then train it on the training set:"
   ]
  },
  {
   "cell_type": "code",
   "execution_count": 103,
   "metadata": {},
   "outputs": [],
   "source": [
    "# Select only the top features identified by RFECV\n",
    "selected_features = X_train_df.columns[rfecv.support_]"
   ]
  },
  {
   "cell_type": "code",
   "execution_count": 104,
   "metadata": {},
   "outputs": [
    {
     "data": {
      "text/html": [
       "<style>#sk-container-id-2 {color: black;background-color: white;}#sk-container-id-2 pre{padding: 0;}#sk-container-id-2 div.sk-toggleable {background-color: white;}#sk-container-id-2 label.sk-toggleable__label {cursor: pointer;display: block;width: 100%;margin-bottom: 0;padding: 0.3em;box-sizing: border-box;text-align: center;}#sk-container-id-2 label.sk-toggleable__label-arrow:before {content: \"▸\";float: left;margin-right: 0.25em;color: #696969;}#sk-container-id-2 label.sk-toggleable__label-arrow:hover:before {color: black;}#sk-container-id-2 div.sk-estimator:hover label.sk-toggleable__label-arrow:before {color: black;}#sk-container-id-2 div.sk-toggleable__content {max-height: 0;max-width: 0;overflow: hidden;text-align: left;background-color: #f0f8ff;}#sk-container-id-2 div.sk-toggleable__content pre {margin: 0.2em;color: black;border-radius: 0.25em;background-color: #f0f8ff;}#sk-container-id-2 input.sk-toggleable__control:checked~div.sk-toggleable__content {max-height: 200px;max-width: 100%;overflow: auto;}#sk-container-id-2 input.sk-toggleable__control:checked~label.sk-toggleable__label-arrow:before {content: \"▾\";}#sk-container-id-2 div.sk-estimator input.sk-toggleable__control:checked~label.sk-toggleable__label {background-color: #d4ebff;}#sk-container-id-2 div.sk-label input.sk-toggleable__control:checked~label.sk-toggleable__label {background-color: #d4ebff;}#sk-container-id-2 input.sk-hidden--visually {border: 0;clip: rect(1px 1px 1px 1px);clip: rect(1px, 1px, 1px, 1px);height: 1px;margin: -1px;overflow: hidden;padding: 0;position: absolute;width: 1px;}#sk-container-id-2 div.sk-estimator {font-family: monospace;background-color: #f0f8ff;border: 1px dotted black;border-radius: 0.25em;box-sizing: border-box;margin-bottom: 0.5em;}#sk-container-id-2 div.sk-estimator:hover {background-color: #d4ebff;}#sk-container-id-2 div.sk-parallel-item::after {content: \"\";width: 100%;border-bottom: 1px solid gray;flex-grow: 1;}#sk-container-id-2 div.sk-label:hover label.sk-toggleable__label {background-color: #d4ebff;}#sk-container-id-2 div.sk-serial::before {content: \"\";position: absolute;border-left: 1px solid gray;box-sizing: border-box;top: 0;bottom: 0;left: 50%;z-index: 0;}#sk-container-id-2 div.sk-serial {display: flex;flex-direction: column;align-items: center;background-color: white;padding-right: 0.2em;padding-left: 0.2em;position: relative;}#sk-container-id-2 div.sk-item {position: relative;z-index: 1;}#sk-container-id-2 div.sk-parallel {display: flex;align-items: stretch;justify-content: center;background-color: white;position: relative;}#sk-container-id-2 div.sk-item::before, #sk-container-id-2 div.sk-parallel-item::before {content: \"\";position: absolute;border-left: 1px solid gray;box-sizing: border-box;top: 0;bottom: 0;left: 50%;z-index: -1;}#sk-container-id-2 div.sk-parallel-item {display: flex;flex-direction: column;z-index: 1;position: relative;background-color: white;}#sk-container-id-2 div.sk-parallel-item:first-child::after {align-self: flex-end;width: 50%;}#sk-container-id-2 div.sk-parallel-item:last-child::after {align-self: flex-start;width: 50%;}#sk-container-id-2 div.sk-parallel-item:only-child::after {width: 0;}#sk-container-id-2 div.sk-dashed-wrapped {border: 1px dashed gray;margin: 0 0.4em 0.5em 0.4em;box-sizing: border-box;padding-bottom: 0.4em;background-color: white;}#sk-container-id-2 div.sk-label label {font-family: monospace;font-weight: bold;display: inline-block;line-height: 1.2em;}#sk-container-id-2 div.sk-label-container {text-align: center;}#sk-container-id-2 div.sk-container {/* jupyter's `normalize.less` sets `[hidden] { display: none; }` but bootstrap.min.css set `[hidden] { display: none !important; }` so we also need the `!important` here to be able to override the default hidden behavior on the sphinx rendered scikit-learn.org. See: https://github.com/scikit-learn/scikit-learn/issues/21755 */display: inline-block !important;position: relative;}#sk-container-id-2 div.sk-text-repr-fallback {display: none;}</style><div id=\"sk-container-id-2\" class=\"sk-top-container\"><div class=\"sk-text-repr-fallback\"><pre>RandomForestRegressor(max_depth=21, min_samples_leaf=2, min_samples_split=7,\n",
       "                      n_estimators=665, random_state=42)</pre><b>In a Jupyter environment, please rerun this cell to show the HTML representation or trust the notebook. <br />On GitHub, the HTML representation is unable to render, please try loading this page with nbviewer.org.</b></div><div class=\"sk-container\" hidden><div class=\"sk-item\"><div class=\"sk-estimator sk-toggleable\"><input class=\"sk-toggleable__control sk-hidden--visually\" id=\"sk-estimator-id-4\" type=\"checkbox\" checked><label for=\"sk-estimator-id-4\" class=\"sk-toggleable__label sk-toggleable__label-arrow\">RandomForestRegressor</label><div class=\"sk-toggleable__content\"><pre>RandomForestRegressor(max_depth=21, min_samples_leaf=2, min_samples_split=7,\n",
       "                      n_estimators=665, random_state=42)</pre></div></div></div></div></div>"
      ],
      "text/plain": [
       "RandomForestRegressor(max_depth=21, min_samples_leaf=2, min_samples_split=7,\n",
       "                      n_estimators=665, random_state=42)"
      ]
     },
     "execution_count": 104,
     "metadata": {},
     "output_type": "execute_result"
    }
   ],
   "source": [
    "# Create a new training set with only the selected features\n",
    "X_train_selected = X_train_df[selected_features]\n",
    "\n",
    "# Create a new random forest model with the same hyperparameters as the best model\n",
    "new_rf_model = RandomForestRegressor(**best_params, random_state=42)\n",
    "\n",
    "# Train the new model on the selected features and training set\n",
    "new_rf_model.fit(X_train_selected, Y_train)"
   ]
  },
  {
   "attachments": {},
   "cell_type": "markdown",
   "metadata": {},
   "source": [
    "Once the new model is trained, we can use it to predict on the validation set `X_val` and compare the predicted values with the actual values `Y_val`.<br>\n",
    "This will give us the RMSE of the new model on the validation set. If the RMSE is lower than the previous model's RMSE, then the new model is a better fit for the data."
   ]
  },
  {
   "cell_type": "code",
   "execution_count": 105,
   "metadata": {},
   "outputs": [
    {
     "name": "stdout",
     "output_type": "stream",
     "text": [
      "RMSE on validation set: 363.8831794393808\n",
      "R^2 on validation set: 0.7048727675099583\n"
     ]
    }
   ],
   "source": [
    "# Convert X_train back to a dataframe\n",
    "X_val_df = pd.DataFrame(X_val, columns=X.columns)\n",
    "\n",
    "# Use the new model to predict on the validation set\n",
    "X_val_selected = X_val_df[selected_features]\n",
    "Y_pred = new_rf_model.predict(X_val_selected)\n",
    "\n",
    "# Evaluate the model's performance on the validation set\n",
    "rmse = mean_squared_error(Y_val, Y_pred, squared=False)\n",
    "r2 = r2_score(Y_val, Y_pred)\n",
    "print(\"RMSE on validation set:\", rmse)\n",
    "print(\"R^2 on validation set:\", r2)"
   ]
  },
  {
   "attachments": {},
   "cell_type": "markdown",
   "metadata": {},
   "source": [
    "The results have not improved and are almost similar, however, this solution helped in reducing the data frame to just 8 attributes out of 25 giving a similar performance."
   ]
  },
  {
   "attachments": {},
   "cell_type": "markdown",
   "metadata": {},
   "source": [
    "### Select model version and test it on Test data and Evaluate Performance"
   ]
  },
  {
   "attachments": {},
   "cell_type": "markdown",
   "metadata": {},
   "source": [
    "Below is the code to train a final Random Forest Regressor on the entire training set using the selected hyperparameters."
   ]
  },
  {
   "cell_type": "code",
   "execution_count": 94,
   "metadata": {},
   "outputs": [
    {
     "name": "stdout",
     "output_type": "stream",
     "text": [
      "RMSE on test set for RandomForestRegressor is: 360.2172089484895\n",
      "R^2 on test set RandomForestRegressor is: 0.7156790907391968\n"
     ]
    }
   ],
   "source": [
    "# Make predictions on the test set\n",
    "Y_pred_test = rf_model.predict(X_test)\n",
    "\n",
    "# Calculate RMSE and R2 score on the test set\n",
    "rmse_test = mean_squared_error(Y_test, Y_pred_test, squared=False)\n",
    "r2_test = r2_score(Y_test, Y_pred_test)\n",
    "\n",
    "# Print results\n",
    "print(\"RMSE on test set for RandomForestRegressor is:\", rmse_test)\n",
    "print(\"R^2 on test set RandomForestRegressor is:\", r2_test)"
   ]
  },
  {
   "attachments": {},
   "cell_type": "markdown",
   "metadata": {},
   "source": [
    "### Model Building - XGBRegressor"
   ]
  },
  {
   "cell_type": "code",
   "execution_count": 107,
   "metadata": {},
   "outputs": [],
   "source": [
    "# Import necessary packages\n",
    "from xgboost import XGBRegressor\n",
    "\n",
    "# Initialize the XGBoost regressor model\n",
    "xgb_model = XGBRegressor(random_state=42)"
   ]
  },
  {
   "attachments": {},
   "cell_type": "markdown",
   "metadata": {},
   "source": [
    "Fitting the model with its default parameters and evaluating the performance on both training and validation partitions"
   ]
  },
  {
   "cell_type": "code",
   "execution_count": 108,
   "metadata": {},
   "outputs": [
    {
     "name": "stdout",
     "output_type": "stream",
     "text": [
      "XGBoost Regressor - Training RMSE: 301.09, Training R^2: 0.80\n",
      "XGBoost Regressor - Validation RMSE: 357.02, Validation R^2: 0.72\n"
     ]
    }
   ],
   "source": [
    "# Fit the XGBoost regressor model on the training data\n",
    "xgb_model.fit(X_train, Y_train)\n",
    "\n",
    "# Evaluate the model on the training data\n",
    "Y_train_pred = xgb_model.predict(X_train)\n",
    "train_rmse = np.sqrt(mean_squared_error(Y_train, Y_train_pred))\n",
    "train_r2 = r2_score(Y_train, Y_train_pred)\n",
    "\n",
    "# Evaluate the model on the validation data\n",
    "Y_val_pred = xgb_model.predict(X_val)\n",
    "val_rmse = np.sqrt(mean_squared_error(Y_val, Y_val_pred))\n",
    "val_r2 = r2_score(Y_val, Y_val_pred)\n",
    "\n",
    "print(f\"XGBoost Regressor - Training RMSE: {train_rmse:.2f}, Training R^2: {train_r2:.2f}\")\n",
    "print(f\"XGBoost Regressor - Validation RMSE: {val_rmse:.2f}, Validation R^2: {val_r2:.2f}\")"
   ]
  },
  {
   "attachments": {},
   "cell_type": "markdown",
   "metadata": {},
   "source": [
    "Hyperparameter tuning with RandomizedSearchCV"
   ]
  },
  {
   "cell_type": "code",
   "execution_count": 109,
   "metadata": {},
   "outputs": [
    {
     "name": "stdout",
     "output_type": "stream",
     "text": [
      "Best parameters:  {'subsample': 1, 'n_estimators': 1000, 'max_depth': 9, 'learning_rate': 0.1, 'gamma': 0.5, 'colsample_bytree': 0.7}\n",
      "Best score:  323.4896998588947\n"
     ]
    }
   ],
   "source": [
    "from sklearn.model_selection import RandomizedSearchCV\n",
    "from xgboost import XGBRegressor\n",
    "\n",
    "# Define hyperparameter ranges to search over\n",
    "param_distributions = {\n",
    "    'n_estimators': [100, 500, 1000, 1500, 2000],\n",
    "    'max_depth': [1, 3, 5, 7, 9],\n",
    "    'learning_rate': [0.01, 0.1, 0.5, 0.7, 1],\n",
    "    'colsample_bytree': [0.3, 0.5, 0.7, 1],\n",
    "    'subsample': [0.3, 0.5, 0.7, 1],\n",
    "    'gamma': [0, 0.1, 0.5, 1]\n",
    "}\n",
    "\n",
    "# Create an instance of the XGBRegressor\n",
    "xgb = XGBRegressor(random_state=42)\n",
    "\n",
    "# Perform the random search with 20 iterations\n",
    "random_search = RandomizedSearchCV(xgb, \n",
    "                                   param_distributions=param_distributions, \n",
    "                                   n_iter=20, \n",
    "                                   scoring='neg_mean_squared_error', \n",
    "                                   n_jobs=-1, \n",
    "                                   cv=5, \n",
    "                                   random_state=42)\n",
    "\n",
    "# Fit the model on the training set\n",
    "random_search.fit(X_train, Y_train)\n",
    "\n",
    "# Print the best hyperparameters and corresponding score\n",
    "print('Best parameters: ', random_search.best_params_)\n",
    "print('Best score: ', np.sqrt(-random_search.best_score_))"
   ]
  },
  {
   "attachments": {},
   "cell_type": "markdown",
   "metadata": {},
   "source": [
    "Creating a new model using the best parameters found on evaluating it.\n",
    "\n",
    "Note that we use the double asterisks ** to unpack the dictionary of best hyperparameters into the arguments of the XGBRegressor constructor.<br> This way, we don't have to manually write the hyperparameters into the code."
   ]
  },
  {
   "cell_type": "code",
   "execution_count": 110,
   "metadata": {},
   "outputs": [
    {
     "name": "stdout",
     "output_type": "stream",
     "text": [
      "XGBoost Regressor - Validation RMSE with tuning: 312.81, Validation R^2 with tuning: 0.78\n"
     ]
    }
   ],
   "source": [
    "# Extract the best hyperparameters found by RandomizedSearchCV\n",
    "best_params_xgb = random_search.best_params_\n",
    "\n",
    "# Create a new instance of the XGBRegressor with the best hyperparameters\n",
    "xgb_train = XGBRegressor(**best_params_xgb, random_state=42)\n",
    "\n",
    "# Fit the model on the training dataset\n",
    "xgb_train.fit(X_train, Y_train)\n",
    "\n",
    "# Evaluate the performance of the model on the validation set\n",
    "Y_val_pred_hyper = xgb_train.predict(X_val)\n",
    "val_rmse_hyper = np.sqrt(mean_squared_error(Y_val, Y_val_pred_hyper))\n",
    "val_r2_hyper = r2_score(Y_val, Y_val_pred_hyper)\n",
    "print('XGBoost Regressor - Validation RMSE with tuning: {:.2f}, Validation R^2 with tuning: {:.2f}'.format(val_rmse_hyper, val_r2_hyper))"
   ]
  },
  {
   "attachments": {},
   "cell_type": "markdown",
   "metadata": {},
   "source": [
    "Fitting the model on the whole training data set (i.e, training + validation)"
   ]
  },
  {
   "cell_type": "code",
   "execution_count": 111,
   "metadata": {},
   "outputs": [
    {
     "name": "stdout",
     "output_type": "stream",
     "text": [
      "XGBoost Regressor - Train/Validation RMSE with tuning: 97.23, Train/Validation R^2 with tuning: 0.98\n"
     ]
    }
   ],
   "source": [
    "# Create another instance of the XGBRegressor with the best hyperparameters\n",
    "xgb = XGBRegressor(**best_params_xgb, random_state=42)\n",
    "\n",
    "# Concatenate X_train and X_val\n",
    "X_train_val = np.concatenate((X_train, X_val), axis=0)\n",
    "Y_train_val = np.concatenate((Y_train, Y_val), axis=0)\n",
    "\n",
    "# Fit the model on the concatenated training dataset\n",
    "xgb.fit(X_train_val, Y_train_val)\n",
    "\n",
    "# Evaluate the performance of the model on the training set and validation set altogether\n",
    "Y_train_val_pred = xgb.predict(X_train_val)\n",
    "train_val_rmse = np.sqrt(mean_squared_error(Y_train_val, Y_train_val_pred))\n",
    "train_val_r2 = r2_score(Y_train_val, Y_train_val_pred)\n",
    "print('XGBoost Regressor - Train/Validation RMSE with tuning: {:.2f}, Train/Validation R^2 with tuning: {:.2f}'.format(train_val_rmse, train_val_r2))"
   ]
  },
  {
   "attachments": {},
   "cell_type": "markdown",
   "metadata": {},
   "source": [
    "Evaluating the model on Test dataset"
   ]
  },
  {
   "cell_type": "code",
   "execution_count": 112,
   "metadata": {},
   "outputs": [
    {
     "name": "stdout",
     "output_type": "stream",
     "text": [
      "XGBoost Regressor - Test RMSE: 303.10, Test R^2: 0.80\n"
     ]
    }
   ],
   "source": [
    "# Predict test targets using the last developed model\n",
    "Y_test_pred = xgb.predict(X_test)\n",
    "\n",
    "# Evaluate the performance of the model on the held-out test set\n",
    "test_rmse = np.sqrt(mean_squared_error(Y_test, Y_test_pred))\n",
    "test_r2 = r2_score(Y_test, Y_test_pred)\n",
    "print('XGBoost Regressor - Test RMSE: {:.2f}, Test R^2: {:.2f}'.format(test_rmse, test_r2))"
   ]
  },
  {
   "attachments": {},
   "cell_type": "markdown",
   "metadata": {},
   "source": [
    "### Model Building - Gradient Boosting Regressor"
   ]
  },
  {
   "cell_type": "code",
   "execution_count": 113,
   "metadata": {},
   "outputs": [],
   "source": [
    "# import libraries\n",
    "from sklearn.ensemble import GradientBoostingRegressor"
   ]
  },
  {
   "cell_type": "code",
   "execution_count": 114,
   "metadata": {},
   "outputs": [
    {
     "name": "stdout",
     "output_type": "stream",
     "text": [
      "Gradient Boosting Regressor - Training RMSE: 458.71, Training R^2: 0.54\n"
     ]
    }
   ],
   "source": [
    "gb_regressor = GradientBoostingRegressor(random_state=42)\n",
    "gb_regressor.fit(X_train, Y_train)\n",
    "\n",
    "# Make predictions on training set\n",
    "Y_train_preds = gb_regressor.predict(X_train)\n",
    "\n",
    "# Evaluate the model on training set\n",
    "train_rmse = mean_squared_error(Y_train, Y_train_preds, squared=False)\n",
    "train_r2 = r2_score(Y_train, Y_train_preds)\n",
    "\n",
    "print(\"Gradient Boosting Regressor - Training RMSE: {:.2f}, Training R^2: {:.2f}\".format(train_rmse, train_r2))"
   ]
  },
  {
   "cell_type": "code",
   "execution_count": 115,
   "metadata": {},
   "outputs": [
    {
     "name": "stdout",
     "output_type": "stream",
     "text": [
      "Gradient Boosting Regressor - Validation RMSE: 455.98, Validation R^2: 0.54\n"
     ]
    }
   ],
   "source": [
    "# Make predictions on validation set\n",
    "Y_val_preds = gb_regressor.predict(X_val)\n",
    "\n",
    "# Evaluate the model on validation set\n",
    "val_rmse = mean_squared_error(Y_val, Y_val_preds, squared=False)\n",
    "val_r2 = r2_score(Y_val, Y_val_preds)\n",
    "\n",
    "print(\"Gradient Boosting Regressor - Validation RMSE: {:.2f}, Validation R^2: {:.2f}\".format(val_rmse, val_r2))"
   ]
  },
  {
   "attachments": {},
   "cell_type": "markdown",
   "metadata": {},
   "source": [
    "Final testing"
   ]
  },
  {
   "cell_type": "code",
   "execution_count": 116,
   "metadata": {},
   "outputs": [
    {
     "name": "stdout",
     "output_type": "stream",
     "text": [
      "Gradient Boosting Regressor - Test RMSE: 455.40, Test R^2: 0.54\n"
     ]
    }
   ],
   "source": [
    "# Make predictions on test set\n",
    "Y_test_preds = gb_regressor.predict(X_test)\n",
    "\n",
    "# Evaluate the model on test set\n",
    "test_rmse = mean_squared_error(Y_test, Y_test_preds, squared=False)\n",
    "test_r2 = r2_score(Y_test, Y_test_preds)\n",
    "\n",
    "print(\"Gradient Boosting Regressor - Test RMSE: {:.2f}, Test R^2: {:.2f}\".format(test_rmse, test_r2))"
   ]
  }
 ],
 "metadata": {
  "kernelspec": {
   "display_name": "base",
   "language": "python",
   "name": "python3"
  },
  "language_info": {
   "codemirror_mode": {
    "name": "ipython",
    "version": 3
   },
   "file_extension": ".py",
   "mimetype": "text/x-python",
   "name": "python",
   "nbconvert_exporter": "python",
   "pygments_lexer": "ipython3",
   "version": "3.9.18"
  },
  "orig_nbformat": 4,
  "vscode": {
   "interpreter": {
    "hash": "9daf80120b55e04156ff11b4bd3dd17bf46a8d9a64e9cd5a74f395ae01fae5d5"
   }
  }
 },
 "nbformat": 4,
 "nbformat_minor": 2
}
