{
 "cells": [
  {
   "cell_type": "code",
   "execution_count": 1,
   "metadata": {},
   "outputs": [
    {
     "name": "stderr",
     "output_type": "stream",
     "text": [
      "<frozen importlib._bootstrap>:228: RuntimeWarning: scipy._lib.messagestream.MessageStream size changed, may indicate binary incompatibility. Expected 56 from C header, got 64 from PyObject\n"
     ]
    }
   ],
   "source": [
    "import os\n",
    "import zipfile\n",
    "import json\n",
    "\n",
    "import pandas as pd\n",
    "import seaborn as sns\n",
    "import matplotlib.pyplot as plt\n",
    "import pyodbc # used to create a connection to SQL Server data base\n",
    "\n",
    "import warnings\n",
    "# Deactivate only the UserWarning\n",
    "warnings.filterwarnings('ignore', category=UserWarning)"
   ]
  },
  {
   "cell_type": "markdown",
   "metadata": {},
   "source": [
    "Before running the script make sure to change the variable `table_name` before pushing data to SQL Server DB, as well as the `real_estate_df['date_snapshot'] = ` to the date the data was parsed."
   ]
  },
  {
   "attachments": {},
   "cell_type": "markdown",
   "metadata": {},
   "source": [
    "## Stage 1: Load and merge JSON data into a DataFrame and create a flat table"
   ]
  },
  {
   "cell_type": "code",
   "execution_count": 2,
   "metadata": {},
   "outputs": [],
   "source": [
    "# Directory where JSON files are located\n",
    "json_folder = \"Raw_data\"\n",
    "\n",
    "# List all files in the 'json_folder' variable with a .json extension\n",
    "json_files = [f for f in os.listdir(json_folder) if f.endswith(\".json\")]\n",
    "\n",
    "# Create an empty list to store the data from each file\n",
    "data_from_json = []\n",
    "\n",
    "# Loop through each JSON file and load its data into the `data_from_json` list\n",
    "for file in json_files:\n",
    "    with open(os.path.join(json_folder, file), \"r\") as f:\n",
    "        data_from_json.append(json.load(f))\n",
    "\n",
    "# Concatenate the items in the `data_from_json` list into a single list\n",
    "merged_data = []\n",
    "for data in data_from_json:\n",
    "    merged_data += data"
   ]
  },
  {
   "cell_type": "code",
   "execution_count": 3,
   "metadata": {},
   "outputs": [
    {
     "data": {
      "text/plain": [
       "(66505, 122)"
      ]
     },
     "execution_count": 3,
     "metadata": {},
     "output_type": "execute_result"
    }
   ],
   "source": [
    "# Convert the merged data to a pandas DataFrame\n",
    "full_df = pd.json_normalize(merged_data)\n",
    "full_df.shape"
   ]
  },
  {
   "cell_type": "code",
   "execution_count": 4,
   "metadata": {},
   "outputs": [],
   "source": [
    "specificatii_rows = []\n",
    "for i, row in enumerate(full_df.to_dict('records')):\n",
    "    try:\n",
    "        specificatii_df = pd.json_normalize(\n",
    "            row,\n",
    "            record_path=['specificatii', 'elemente'], # define the unpacking order\n",
    "            meta=['id', 'id_string', ['specificatii', 'titlu']] # specify the columns to keep. Include 'id' for subsequent merging.\n",
    "        )\n",
    "        specificatii_rows.append(specificatii_df)\n",
    "    except TypeError as e:\n",
    "        print(f\"Error in row {i}: {e}\")\n",
    "        continue\n",
    "        \n",
    "specificatii_df = pd.concat(specificatii_rows, ignore_index=True)"
   ]
  },
  {
   "cell_type": "code",
   "execution_count": 5,
   "metadata": {},
   "outputs": [
    {
     "data": {
      "text/plain": [
       "(1005706, 5)"
      ]
     },
     "execution_count": 5,
     "metadata": {},
     "output_type": "execute_result"
    }
   ],
   "source": [
    "# Remove duplicates as they usually appear due to missing values in some columns\n",
    "specificatii_df.drop_duplicates(inplace=True)\n",
    "specificatii_df.shape"
   ]
  },
  {
   "cell_type": "code",
   "execution_count": 6,
   "metadata": {},
   "outputs": [],
   "source": [
    "# Create a copy of the data frame in order to perform value_counts and identify 'subtitlu'-ri to remove\n",
    "subtitlu_to_delete = pd.DataFrame(specificatii_df)\n",
    "# Apply title and strip methods to make the names uniform before computing their share\n",
    "subtitlu_to_delete['subtitlu'] = subtitlu_to_delete['subtitlu'].apply(lambda x: x.title().strip())\n",
    "subtitlu_to_delete['specificatii.titlu'] = subtitlu_to_delete['specificatii.titlu'].apply(lambda x: x.title().strip())\n",
    "# Subset only relevant columns to keep and set value column name to 'share'\n",
    "subtitlu_to_delete = subtitlu_to_delete.value_counts(subset=['specificatii.titlu', 'subtitlu'], normalize=True).to_frame('share')\n",
    "# Compute the estimated share of non-missing values in the original data frame for each 'subtitlu'\n",
    "subtitlu_to_delete['share_%_of_properties'] = subtitlu_to_delete['share'].apply(\n",
    "                                                            lambda x: (x * specificatii_df.shape[0]) / full_df.shape[0])\n",
    "# Reset index\n",
    "subtitlu_to_delete.reset_index(drop=False, inplace=True)"
   ]
  },
  {
   "cell_type": "code",
   "execution_count": 7,
   "metadata": {},
   "outputs": [
    {
     "data": {
      "text/html": [
       "<div>\n",
       "<style scoped>\n",
       "    .dataframe tbody tr th:only-of-type {\n",
       "        vertical-align: middle;\n",
       "    }\n",
       "\n",
       "    .dataframe tbody tr th {\n",
       "        vertical-align: top;\n",
       "    }\n",
       "\n",
       "    .dataframe thead th {\n",
       "        text-align: right;\n",
       "    }\n",
       "</style>\n",
       "<table border=\"1\" class=\"dataframe\">\n",
       "  <thead>\n",
       "    <tr style=\"text-align: right;\">\n",
       "      <th></th>\n",
       "      <th>specificatii.titlu</th>\n",
       "      <th>subtitlu</th>\n",
       "      <th>share</th>\n",
       "      <th>share_%_of_properties</th>\n",
       "    </tr>\n",
       "  </thead>\n",
       "  <tbody>\n",
       "    <tr>\n",
       "      <th>0</th>\n",
       "      <td>Utilități</td>\n",
       "      <td>Utilitati Generale</td>\n",
       "      <td>0.055074</td>\n",
       "      <td>0.832840</td>\n",
       "    </tr>\n",
       "    <tr>\n",
       "      <th>1</th>\n",
       "      <td>Alte Detalii Zonă</td>\n",
       "      <td>Amenajare Strazi</td>\n",
       "      <td>0.051134</td>\n",
       "      <td>0.773265</td>\n",
       "    </tr>\n",
       "    <tr>\n",
       "      <th>2</th>\n",
       "      <td>Utilități</td>\n",
       "      <td>Sistem Incalzire</td>\n",
       "      <td>0.050285</td>\n",
       "      <td>0.760424</td>\n",
       "    </tr>\n",
       "    <tr>\n",
       "      <th>3</th>\n",
       "      <td>Finisaje</td>\n",
       "      <td>Podele</td>\n",
       "      <td>0.048084</td>\n",
       "      <td>0.727133</td>\n",
       "    </tr>\n",
       "    <tr>\n",
       "      <th>4</th>\n",
       "      <td>Finisaje</td>\n",
       "      <td>Pereti</td>\n",
       "      <td>0.047348</td>\n",
       "      <td>0.716006</td>\n",
       "    </tr>\n",
       "    <tr>\n",
       "      <th>5</th>\n",
       "      <td>Finisaje</td>\n",
       "      <td>Usa Intrare</td>\n",
       "      <td>0.046393</td>\n",
       "      <td>0.701571</td>\n",
       "    </tr>\n",
       "    <tr>\n",
       "      <th>6</th>\n",
       "      <td>Finisaje</td>\n",
       "      <td>Ferestre Cu Geam Termopan</td>\n",
       "      <td>0.041958</td>\n",
       "      <td>0.634494</td>\n",
       "    </tr>\n",
       "    <tr>\n",
       "      <th>7</th>\n",
       "      <td>Alte Detalii Zonă</td>\n",
       "      <td>Mijloace De Transport In Comun</td>\n",
       "      <td>0.039883</td>\n",
       "      <td>0.603128</td>\n",
       "    </tr>\n",
       "    <tr>\n",
       "      <th>8</th>\n",
       "      <td>Alte Detalii Zonă</td>\n",
       "      <td>Iluminat Stradal</td>\n",
       "      <td>0.039189</td>\n",
       "      <td>0.592632</td>\n",
       "    </tr>\n",
       "    <tr>\n",
       "      <th>9</th>\n",
       "      <td>Dotări</td>\n",
       "      <td>Dotari Imobil</td>\n",
       "      <td>0.039130</td>\n",
       "      <td>0.591730</td>\n",
       "    </tr>\n",
       "    <tr>\n",
       "      <th>10</th>\n",
       "      <td>Finisaje</td>\n",
       "      <td>Izolatii Termice</td>\n",
       "      <td>0.036022</td>\n",
       "      <td>0.544741</td>\n",
       "    </tr>\n",
       "    <tr>\n",
       "      <th>11</th>\n",
       "      <td>Dotări</td>\n",
       "      <td>Contorizare</td>\n",
       "      <td>0.034526</td>\n",
       "      <td>0.522111</td>\n",
       "    </tr>\n",
       "    <tr>\n",
       "      <th>12</th>\n",
       "      <td>Finisaje</td>\n",
       "      <td>Usi Interior</td>\n",
       "      <td>0.033567</td>\n",
       "      <td>0.507616</td>\n",
       "    </tr>\n",
       "    <tr>\n",
       "      <th>13</th>\n",
       "      <td>Dotări</td>\n",
       "      <td>Mobilat</td>\n",
       "      <td>0.031452</td>\n",
       "      <td>0.475618</td>\n",
       "    </tr>\n",
       "    <tr>\n",
       "      <th>14</th>\n",
       "      <td>Disponibilitate Proprietate</td>\n",
       "      <td>Imediat</td>\n",
       "      <td>0.029843</td>\n",
       "      <td>0.451289</td>\n",
       "    </tr>\n",
       "  </tbody>\n",
       "</table>\n",
       "</div>"
      ],
      "text/plain": [
       "             specificatii.titlu                        subtitlu     share  \\\n",
       "0                     Utilități              Utilitati Generale  0.055074   \n",
       "1             Alte Detalii Zonă                Amenajare Strazi  0.051134   \n",
       "2                     Utilități                Sistem Incalzire  0.050285   \n",
       "3                      Finisaje                          Podele  0.048084   \n",
       "4                      Finisaje                          Pereti  0.047348   \n",
       "5                      Finisaje                     Usa Intrare  0.046393   \n",
       "6                      Finisaje       Ferestre Cu Geam Termopan  0.041958   \n",
       "7             Alte Detalii Zonă  Mijloace De Transport In Comun  0.039883   \n",
       "8             Alte Detalii Zonă                Iluminat Stradal  0.039189   \n",
       "9                        Dotări                   Dotari Imobil  0.039130   \n",
       "10                     Finisaje                Izolatii Termice  0.036022   \n",
       "11                       Dotări                     Contorizare  0.034526   \n",
       "12                     Finisaje                    Usi Interior  0.033567   \n",
       "13                       Dotări                         Mobilat  0.031452   \n",
       "14  Disponibilitate Proprietate                         Imediat  0.029843   \n",
       "\n",
       "    share_%_of_properties  \n",
       "0                0.832840  \n",
       "1                0.773265  \n",
       "2                0.760424  \n",
       "3                0.727133  \n",
       "4                0.716006  \n",
       "5                0.701571  \n",
       "6                0.634494  \n",
       "7                0.603128  \n",
       "8                0.592632  \n",
       "9                0.591730  \n",
       "10               0.544741  \n",
       "11               0.522111  \n",
       "12               0.507616  \n",
       "13               0.475618  \n",
       "14               0.451289  "
      ]
     },
     "execution_count": 7,
     "metadata": {},
     "output_type": "execute_result"
    }
   ],
   "source": [
    "# Check relative value to idenitify a benchmark for selecting columns to be deleted\n",
    "subtitlu_to_delete.head(15)"
   ]
  },
  {
   "cell_type": "code",
   "execution_count": 8,
   "metadata": {},
   "outputs": [],
   "source": [
    "# Filter only the attributes that have less than 70% of total records as these are the most prone to create unuseful columns (with lots of Null)\n",
    "subtitlu_to_delete = subtitlu_to_delete[subtitlu_to_delete['share_%_of_properties']<0.70]\n",
    "# Save the attributes to be deleted to a list\n",
    "subtitlu_to_delete = list(subtitlu_to_delete['subtitlu'])\n",
    "# Clean the 'specificatii_df' data frame from attributes saved in the list\n",
    "specificatii_df = specificatii_df.drop(specificatii_df[specificatii_df['subtitlu'].isin(subtitlu_to_delete)].index)"
   ]
  },
  {
   "cell_type": "code",
   "execution_count": 9,
   "metadata": {},
   "outputs": [
    {
     "name": "stdout",
     "output_type": "stream",
     "text": [
      "(58192, 8)\n"
     ]
    }
   ],
   "source": [
    "# Remove duplicates if they exist before applying the pivot function otherwise it will generate an error\n",
    "specificatii_df.drop_duplicates(inplace=True)\n",
    "# Create a long table using pivot method that will be used to merge 'specificatii_df' with the original data frame at ID level\n",
    "specificatii_df = specificatii_df.pivot(index = ['id', 'id_string'], columns = 'subtitlu', values = 'valoare')\n",
    "# Reset but keep Index (to make sure the later join is done with the right ids):\n",
    "specificatii_df.reset_index(drop=False, inplace=True)\n",
    "# Check shape\n",
    "print(specificatii_df.shape)"
   ]
  },
  {
   "cell_type": "code",
   "execution_count": 10,
   "metadata": {},
   "outputs": [
    {
     "data": {
      "text/plain": [
       "(66505, 128)"
      ]
     },
     "execution_count": 10,
     "metadata": {},
     "output_type": "execute_result"
    }
   ],
   "source": [
    "# Merge both data frames using a Left Join on both 'id' and 'id_string' columns\n",
    "real_estate_df = pd.merge(full_df, specificatii_df, on=['id', 'id_string'], how='left')\n",
    "real_estate_df.shape"
   ]
  },
  {
   "cell_type": "code",
   "execution_count": 11,
   "metadata": {},
   "outputs": [],
   "source": [
    "# Add the snapshot date related to period the info was gathered \n",
    "real_estate_df['date_snapshot'] = '17-07-2023' # dd-mm-yyyy"
   ]
  },
  {
   "attachments": {},
   "cell_type": "markdown",
   "metadata": {},
   "source": [
    "### Stage 2: Prepare the data set for BI"
   ]
  },
  {
   "cell_type": "code",
   "execution_count": 12,
   "metadata": {},
   "outputs": [],
   "source": [
    "import pandas as pd\n",
    "pd.set_option('display.max_rows', 200)"
   ]
  },
  {
   "cell_type": "code",
   "execution_count": 13,
   "metadata": {},
   "outputs": [
    {
     "name": "stdout",
     "output_type": "stream",
     "text": [
      "<class 'pandas.core.frame.DataFrame'>\n",
      "Int64Index: 66505 entries, 0 to 66504\n",
      "Columns: 129 entries, id to date_snapshot\n",
      "dtypes: bool(11), float64(6), int64(25), object(87)\n",
      "memory usage: 61.1+ MB\n"
     ]
    }
   ],
   "source": [
    "# Check general information about data frame\n",
    "real_estate_df.info()"
   ]
  },
  {
   "cell_type": "code",
   "execution_count": 14,
   "metadata": {},
   "outputs": [
    {
     "data": {
      "text/plain": [
       "id                                      0\n",
       "id_string                               0\n",
       "titlu                                   0\n",
       "judet                                   0\n",
       "localitate                              0\n",
       "zona                                    0\n",
       "comision                                0\n",
       "latitudine                              0\n",
       "longitudine                             0\n",
       "status_publicare                        0\n",
       "rang                                    0\n",
       "licitatii                               0\n",
       "data_intrare_in_piata                   0\n",
       "pret_vanzare                            0\n",
       "pret_vanzare_anterior                   0\n",
       "pret_vanzare_referinta                  0\n",
       "pret_vanzare_scazut                     0\n",
       "pret_inchiriere                         0\n",
       "pret_inchiriere_anterior                0\n",
       "pret_inchiriere_referinta               0\n",
       "pret_inchiriere_scazut                  0\n",
       "poza_prezentare                         0\n",
       "poze                                    0\n",
       "mod_calcul_pret_vanzare                 0\n",
       "mod_calcul_pret_inchiriere              0\n",
       "anunt_verificat                         0\n",
       "data_modificare                         0\n",
       "link_video                              0\n",
       "foto360                                 0\n",
       "dma                                     0\n",
       "super_hero                              0\n",
       "localizare_arie                         0\n",
       "locatie_verificata                      0\n",
       "data_duplicat                           0\n",
       "nr_camere                               0\n",
       "nr_camere_referinta                     0\n",
       "an_constructie                          0\n",
       "an_constructie_text                     0\n",
       "stadiu_constructie                      0\n",
       "suprafata_utila                         0\n",
       "distanta_metrou                         0\n",
       "id_proiect                              0\n",
       "etaj                                    0\n",
       "etaj_referinta                          0\n",
       "data_adaugare                           0\n",
       "suprafata_construita                    0\n",
       "comision_cumparator                     0\n",
       "descriere_emotionala                    0\n",
       "link_pdf                                0\n",
       "link_extern                             0\n",
       "caroiaj                                 0\n",
       "pret_negociabil                         0\n",
       "nume_contact                            0\n",
       "nume_firma                              0\n",
       "telefon_contact                         0\n",
       "telefon_contact2                        0\n",
       "categorie                               0\n",
       "vanzare                                 0\n",
       "inchiriere                              0\n",
       "status_platforma_banci                  0\n",
       "status_platforma_banci_id               0\n",
       "pret_unitar_vanzare                     0\n",
       "pret_unitar_vanzare_anterior            0\n",
       "pret_unitar_vanzare_referinta           0\n",
       "pret_unitar_vanzare_scazut              0\n",
       "pret_unitar_inchiriere                  0\n",
       "pret_unitar_inchiriere_anterior         0\n",
       "pret_unitar_inchiriere_referinta        0\n",
       "pret_unitar_inchiriere_scazut           0\n",
       "nr_bucatarii                            0\n",
       "nr_bai                                  0\n",
       "nr_balcoane                             0\n",
       "nr_garaje                               0\n",
       "compartimentare                         0\n",
       "confort                                 0\n",
       "nr_balcoane_inchise                     0\n",
       "structura_rezistenta                    0\n",
       "tip_imobil                              0\n",
       "regim_inaltime                          0\n",
       "nr_locuri_parcare                       0\n",
       "suprafata_utila_totala                  0\n",
       "ordine_caracteristici                   0\n",
       "specificatii                            0\n",
       "contact_chat                            0\n",
       "contact_whatsapp                        0\n",
       "contact_sms                             0\n",
       "telefon_obligatoriu                     0\n",
       "data_modificare_pret                    0\n",
       "mobilare                                0\n",
       "link_detalii                            0\n",
       "oferta_bonus                            0\n",
       "last-modified                           0\n",
       "sLinkPoliticaBanca                  66505\n",
       "id_vizitator                            0\n",
       "tip_client                              0\n",
       "ascunde_formular_contact                0\n",
       "rata_finantare_broker                   0\n",
       "link_finantare_broker                1426\n",
       "blackfriday                             0\n",
       "imagine_harta                           0\n",
       "agent.id                                0\n",
       "agent.nume                              0\n",
       "agent.functie                           0\n",
       "agent.poza                              0\n",
       "agent.firma                             0\n",
       "agent.sigla                             0\n",
       "agent.cod_postal                        0\n",
       "agent.email                             0\n",
       "agent.telefon                           0\n",
       "agent.telefon_centrala                  0\n",
       "tip_licitatie                       66484\n",
       "tip_licitatie_referinta             66484\n",
       "data_licitatie                      66484\n",
       "procent_reducere_licitatie          66484\n",
       "termen_licitatie                    66484\n",
       "istoric_termene_licitatie           66484\n",
       "organizator_licitatie               66484\n",
       "loc_desfasurare_licitatie           66484\n",
       "data_limita_licitatie               66484\n",
       "detalii_licitatie                   66484\n",
       "nr_dosar_executional                66484\n",
       "pret_pornire                        66484\n",
       "Amenajare Strazi                    15079\n",
       "Pereti                              18887\n",
       "Podele                              18147\n",
       "Sistem Incalzire                    15933\n",
       "Usa Intrare                         19847\n",
       "Utilitati Generale                  11117\n",
       "date_snapshot                           0\n",
       "dtype: int64"
      ]
     },
     "execution_count": 14,
     "metadata": {},
     "output_type": "execute_result"
    }
   ],
   "source": [
    "# Inspecting null columns\n",
    "real_estate_df.isna().sum()"
   ]
  },
  {
   "cell_type": "code",
   "execution_count": 15,
   "metadata": {},
   "outputs": [],
   "source": [
    "# Extract total rows number of the data frame and assign it to a variable\n",
    "total_rows = real_estate_df.shape[0]\n",
    "# Get the missing info into a dataframe and name the column 'missing_values'\n",
    "na_columns = real_estate_df.isna().sum().to_frame('missing_values')\n",
    "# Reset index   \n",
    "na_columns.reset_index(drop=False, inplace=True)\n",
    "# Converting absolute nr of missing values into relative %\n",
    "na_columns['missing_values'] = na_columns['missing_values'].apply(lambda x: x/total_rows) "
   ]
  },
  {
   "cell_type": "code",
   "execution_count": 16,
   "metadata": {},
   "outputs": [],
   "source": [
    "# Identify the columns that have over 80% of missing values\n",
    "na_columns = na_columns[na_columns['missing_values']>=0.8]\n",
    "# Save the potential columns to be deleted in a list\n",
    "columns_to_remove = list(na_columns['index'])\n",
    "# Removing columns that have at least 80% missing values\n",
    "real_estate_df = real_estate_df.drop(labels=columns_to_remove, axis=1)"
   ]
  },
  {
   "cell_type": "code",
   "execution_count": 17,
   "metadata": {},
   "outputs": [
    {
     "data": {
      "text/plain": [
       "id                                      0\n",
       "id_string                               0\n",
       "titlu                                   0\n",
       "judet                                   0\n",
       "localitate                              0\n",
       "zona                                    0\n",
       "comision                                0\n",
       "latitudine                              0\n",
       "longitudine                             0\n",
       "status_publicare                        0\n",
       "rang                                    0\n",
       "licitatii                               0\n",
       "data_intrare_in_piata                   0\n",
       "pret_vanzare                            0\n",
       "pret_vanzare_anterior                   0\n",
       "pret_vanzare_referinta                  0\n",
       "pret_vanzare_scazut                     0\n",
       "pret_inchiriere                         0\n",
       "pret_inchiriere_anterior                0\n",
       "pret_inchiriere_referinta               0\n",
       "pret_inchiriere_scazut                  0\n",
       "poza_prezentare                         0\n",
       "poze                                    0\n",
       "mod_calcul_pret_vanzare                 0\n",
       "mod_calcul_pret_inchiriere              0\n",
       "anunt_verificat                         0\n",
       "data_modificare                         0\n",
       "link_video                              0\n",
       "foto360                                 0\n",
       "dma                                     0\n",
       "super_hero                              0\n",
       "localizare_arie                         0\n",
       "locatie_verificata                      0\n",
       "data_duplicat                           0\n",
       "nr_camere                               0\n",
       "nr_camere_referinta                     0\n",
       "an_constructie                          0\n",
       "an_constructie_text                     0\n",
       "stadiu_constructie                      0\n",
       "suprafata_utila                         0\n",
       "distanta_metrou                         0\n",
       "id_proiect                              0\n",
       "etaj                                    0\n",
       "etaj_referinta                          0\n",
       "data_adaugare                           0\n",
       "suprafata_construita                    0\n",
       "comision_cumparator                     0\n",
       "descriere_emotionala                    0\n",
       "link_pdf                                0\n",
       "link_extern                             0\n",
       "caroiaj                                 0\n",
       "pret_negociabil                         0\n",
       "nume_contact                            0\n",
       "nume_firma                              0\n",
       "telefon_contact                         0\n",
       "telefon_contact2                        0\n",
       "categorie                               0\n",
       "vanzare                                 0\n",
       "inchiriere                              0\n",
       "status_platforma_banci                  0\n",
       "status_platforma_banci_id               0\n",
       "pret_unitar_vanzare                     0\n",
       "pret_unitar_vanzare_anterior            0\n",
       "pret_unitar_vanzare_referinta           0\n",
       "pret_unitar_vanzare_scazut              0\n",
       "pret_unitar_inchiriere                  0\n",
       "pret_unitar_inchiriere_anterior         0\n",
       "pret_unitar_inchiriere_referinta        0\n",
       "pret_unitar_inchiriere_scazut           0\n",
       "nr_bucatarii                            0\n",
       "nr_bai                                  0\n",
       "nr_balcoane                             0\n",
       "nr_garaje                               0\n",
       "compartimentare                         0\n",
       "confort                                 0\n",
       "nr_balcoane_inchise                     0\n",
       "structura_rezistenta                    0\n",
       "tip_imobil                              0\n",
       "regim_inaltime                          0\n",
       "nr_locuri_parcare                       0\n",
       "suprafata_utila_totala                  0\n",
       "ordine_caracteristici                   0\n",
       "specificatii                            0\n",
       "contact_chat                            0\n",
       "contact_whatsapp                        0\n",
       "contact_sms                             0\n",
       "telefon_obligatoriu                     0\n",
       "data_modificare_pret                    0\n",
       "mobilare                                0\n",
       "link_detalii                            0\n",
       "oferta_bonus                            0\n",
       "last-modified                           0\n",
       "id_vizitator                            0\n",
       "tip_client                              0\n",
       "ascunde_formular_contact                0\n",
       "rata_finantare_broker                   0\n",
       "link_finantare_broker                1426\n",
       "blackfriday                             0\n",
       "imagine_harta                           0\n",
       "agent.id                                0\n",
       "agent.nume                              0\n",
       "agent.functie                           0\n",
       "agent.poza                              0\n",
       "agent.firma                             0\n",
       "agent.sigla                             0\n",
       "agent.cod_postal                        0\n",
       "agent.email                             0\n",
       "agent.telefon                           0\n",
       "agent.telefon_centrala                  0\n",
       "Amenajare Strazi                    15079\n",
       "Pereti                              18887\n",
       "Podele                              18147\n",
       "Sistem Incalzire                    15933\n",
       "Usa Intrare                         19847\n",
       "Utilitati Generale                  11117\n",
       "date_snapshot                           0\n",
       "dtype: int64"
      ]
     },
     "execution_count": 17,
     "metadata": {},
     "output_type": "execute_result"
    }
   ],
   "source": [
    "real_estate_df.isna().sum()"
   ]
  },
  {
   "cell_type": "code",
   "execution_count": 18,
   "metadata": {},
   "outputs": [],
   "source": [
    "# Additional columns to delete:\n",
    "delete_columns = ['an_constructie', # there is a similar one with more details 'an_constructie_text'\n",
    "                  'anunt_verificat', # not relevant, only TRUE or FALSE\n",
    "                  'ascunde_formular_contact', # TRUE or FALSE\n",
    "                  'blackfriday', # TRUE or FALSE\n",
    "                  'caroiaj', # used for projecting properties on the web map\n",
    "                  'categorie', # only value 1\n",
    "                  'contact_chat', # TRUE or FALSE\n",
    "                  'contact_sms', # TRUE or FALSE\n",
    "                  'contact_whatsapp', # TRUE or FALSE\n",
    "                  'data_duplicat', # repeated info and has some blanks too (there is another column 'data_adaugare') \n",
    "                  'data_intrare_in_piata', # repeated info and has some blanks too (there is another column 'data_adaugare')\n",
    "                  'data_modificare', # not relevant\n",
    "                  'descriere_emotionala', # long text description\n",
    "                  'etaj_referinta', # repeated info - there is another column 'etaj' that also includes the total number of block's levels\n",
    "                  'id_proiect', # not relevant\n",
    "                  'id_vizitator', # not relevant\n",
    "                  'imagine_harta', # picture on the map\n",
    "                  'inchiriere', # only a very tiny amount of properties have this set to TRUE (like 0.58%)\n",
    "                  'last-modified', # not relevant,\n",
    "                  'licitatii', # only a very tiny amount of properties have this set to 1 (like 0.12%)\n",
    "                  'link_finantare_broker', # some external links but not currently useful\n",
    "                  'localizare_arie', # coordinates of the area around the property. It's in JSON format - dicts inside list\n",
    "                  'locatie_verificata', # values 0, 1, 2 of which 98% are 0\n",
    "                  'nr_camere', # there is clean column with same info called 'nr_camere_referinta'\n",
    "                  'oferta_bonus', # not relevant\n",
    "                  'ordine_caracteristici', # not relevant, the data type is a list with just the names of attributes\n",
    "                  'poza_prezentare', # first photo of the listed property\n",
    "                  'poze', # all photos of the listed property\n",
    "                  'pret_inchiriere', # renting price is not relevant for selling properties\n",
    "                  'pret_inchiriere_referinta', # same as above\n",
    "                  'pret_inchiriere_scazut', # same as above\n",
    "                  'pret_unitar_inchiriere', # same as above\n",
    "                  'pret_unitar_inchiriere_referinta', # same as above\n",
    "                  'pret_unitar_inchiriere_scazut', # same as above\n",
    "                  'pret_unitar_vanzare', # can be created in Tableau or python directly\n",
    "                  'pret_unitar_vanzare_referinta', # same as above\n",
    "                  'pret_unitar_vanzare_scazut', # not relevant\n",
    "                  'pret_vanzare_referinta', # same info is contained in 'pret_vanzare' column which has as well the currency of selling price\n",
    "                  'pret_vanzare_scazut', # not relevant\n",
    "                  'rang', # not relevant\n",
    "                  'specificatii', # this column has been already unpacked\n",
    "                  'status_platforma_banci_id', # 0 and 1, with 0 bing 99% of the data\n",
    "                  'super_hero', # not relevant has Da and Nu, with Nu being 99.5%\n",
    "                  'suprafata_utila_totala', # lots of null values and missing value is found in 'suprafata_utila' column\n",
    "                  'telefon_obligatoriu', # not relevant, has True and False, with TRUE being about 90% of data\n",
    "                  'titlu', # most the info is contained in other columns such as the nr of rooms, location, etc.\n",
    "                  'vanzare', # only True\n",
    "                  'agent.email', # yes or no\n",
    "                  'agent.id', # not relevant\n",
    "                  'agent.poza', # not relevant\n",
    "                  'agent.sigla', # not relevant\n",
    "                  'agent.telefon_centrala', # not relevant\n",
    "                  'agent.telefon', # real estate agent contacts \n",
    "                  'foto360', \n",
    "                  'link_extern',\n",
    "                  'link_pdf',\n",
    "                  'link_video',\n",
    "                  'mod_calcul_pret_inchiriere',\n",
    "                  'mod_calcul_pret_vanzare',\n",
    "                  'nume_contact',\n",
    "                  'nume_firma',\n",
    "                  'pret_inchiriere_anterior',\n",
    "                  'pret_unitar_inchiriere_anterior',\n",
    "                  'pret_unitar_vanzare_anterior',\n",
    "                  'status_platforma_banci',\n",
    "                  'telefon_contact',\n",
    "                  'telefon_contact2',\n",
    "                  'agent.cod_postal',\n",
    "                  'Imediat',\n",
    "                  'comision_cumparator', # add back\n",
    "                  'data_modificare_pret', # add back\n",
    "                  'distanta_metrou', # add back\n",
    "                  'dma', # add back\n",
    "                  'id_string', # add back\n",
    "                  'pret_vanzare_anterior', # add back\n",
    "                  'rata_finantare_broker', # add back\n",
    "                  'status_publicare' # add back\n",
    "                  ]"
   ]
  },
  {
   "cell_type": "code",
   "execution_count": 19,
   "metadata": {},
   "outputs": [],
   "source": [
    "# Removing columns that are not relevant for BI or ML\n",
    "\n",
    "# Create a list of columns to drop (through list comprehension) that only includes existing columns\n",
    "existing_columns_to_delete = [column for column in delete_columns if column in real_estate_df.columns]\n",
    "\n",
    "# Drop the existing columns from the dataframe\n",
    "real_estate_df = real_estate_df.drop(existing_columns_to_delete, axis=1)"
   ]
  },
  {
   "cell_type": "code",
   "execution_count": 20,
   "metadata": {},
   "outputs": [
    {
     "name": "stdout",
     "output_type": "stream",
     "text": [
      "<class 'pandas.core.frame.DataFrame'>\n",
      "Int64Index: 66505 entries, 0 to 66504\n",
      "Data columns (total 40 columns):\n",
      " #   Column                Non-Null Count  Dtype  \n",
      "---  ------                --------------  -----  \n",
      " 0   id                    66505 non-null  object \n",
      " 1   judet                 66505 non-null  object \n",
      " 2   localitate            66505 non-null  object \n",
      " 3   zona                  66505 non-null  object \n",
      " 4   comision              66505 non-null  int64  \n",
      " 5   latitudine            66505 non-null  float64\n",
      " 6   longitudine           66505 non-null  float64\n",
      " 7   pret_vanzare          66505 non-null  object \n",
      " 8   nr_camere_referinta   66505 non-null  int64  \n",
      " 9   an_constructie_text   66505 non-null  object \n",
      " 10  stadiu_constructie    66505 non-null  object \n",
      " 11  suprafata_utila       66505 non-null  object \n",
      " 12  etaj                  66505 non-null  object \n",
      " 13  data_adaugare         66505 non-null  object \n",
      " 14  suprafata_construita  66505 non-null  object \n",
      " 15  pret_negociabil       66505 non-null  int64  \n",
      " 16  nr_bucatarii          66505 non-null  int64  \n",
      " 17  nr_bai                66505 non-null  int64  \n",
      " 18  nr_balcoane           66505 non-null  int64  \n",
      " 19  nr_garaje             66505 non-null  int64  \n",
      " 20  compartimentare       66505 non-null  object \n",
      " 21  confort               66505 non-null  object \n",
      " 22  nr_balcoane_inchise   66505 non-null  int64  \n",
      " 23  structura_rezistenta  66505 non-null  object \n",
      " 24  tip_imobil            66505 non-null  object \n",
      " 25  regim_inaltime        66505 non-null  object \n",
      " 26  nr_locuri_parcare     66505 non-null  int64  \n",
      " 27  mobilare              66505 non-null  object \n",
      " 28  link_detalii          66505 non-null  object \n",
      " 29  tip_client            66505 non-null  object \n",
      " 30  agent.nume            66505 non-null  object \n",
      " 31  agent.functie         66505 non-null  object \n",
      " 32  agent.firma           66505 non-null  object \n",
      " 33  Amenajare Strazi      51426 non-null  object \n",
      " 34  Pereti                47618 non-null  object \n",
      " 35  Podele                48358 non-null  object \n",
      " 36  Sistem Incalzire      50572 non-null  object \n",
      " 37  Usa Intrare           46658 non-null  object \n",
      " 38  Utilitati Generale    55388 non-null  object \n",
      " 39  date_snapshot         66505 non-null  object \n",
      "dtypes: float64(2), int64(9), object(29)\n",
      "memory usage: 20.8+ MB\n"
     ]
    }
   ],
   "source": [
    "real_estate_df.info()"
   ]
  },
  {
   "cell_type": "code",
   "execution_count": 21,
   "metadata": {},
   "outputs": [
    {
     "name": "stdout",
     "output_type": "stream",
     "text": [
      "Total number of duplicates: 0\n"
     ]
    }
   ],
   "source": [
    "# Count the number of duplicates\n",
    "num_duplicates = sum(real_estate_df.duplicated())\n",
    "print(f'Total number of duplicates: {num_duplicates}')"
   ]
  },
  {
   "cell_type": "code",
   "execution_count": 22,
   "metadata": {},
   "outputs": [],
   "source": [
    "# Rename 'an_constructie_text' to 'construction_year'\n",
    "real_estate_df = real_estate_df.rename(columns={'an_constructie_text': 'construction_year'})"
   ]
  },
  {
   "cell_type": "code",
   "execution_count": 23,
   "metadata": {},
   "outputs": [
    {
     "data": {
      "text/plain": [
       "array(['', '2016', '2023', '2011', 'Intre 1977 si 1990', '1984',\n",
       "       'Inainte de 1990', '1987', '2019', '2008', '2018', '2015', '1980',\n",
       "       '2023 (in constructie)', '1970', '2010', '2009', '2022', '2021',\n",
       "       '1985', '1930', '1960', '1978', '1982', '1955', '1975', '1940',\n",
       "       'Intre 2000 si 2010', '1977', '1910', '2024 (in constructie)',\n",
       "       '2017', '2023 (finalizata)', '1860', '2025 (proiect)', '1935',\n",
       "       '1920', '1976', '2014', '1966', '2020', '1950',\n",
       "       '2025 (in constructie)', '1974', '1957', '1947', '1986', '1965',\n",
       "       '1991', '1900', '1973', '1981', '1972', '1983', '2012', '1988',\n",
       "       '1993', 'Intre 1990 si 2000', '1979', 'Intre 1941 si 1977', '1990',\n",
       "       '2004', '2000', '1968', '1995', '1941', '1971', '1942', '1969',\n",
       "       '1939', '2005', '1962', 'Inainte de 1941', '1850', '1936', '2013',\n",
       "       '1997', '1994', '1937', '1963', '1915', '1827', '1961', '1959',\n",
       "       '1964', '1956', '2007', '1925', '1934', '1903', '1890', '1992',\n",
       "       '1862', '1948', '1945', '1967', '1989', '1718', '1800', '1905',\n",
       "       '1901', '1898', '1700', '1778', '2002', '2006', '1938', '1998',\n",
       "       '2001', '1921', '1932', '1996', '1999', '1927', '1958', '2003',\n",
       "       '2024', '1946', '1917', '1928', '1931', '1949', '1954', '1933',\n",
       "       '1907', '1926', '1914', '1944', '1929', '1943', '1911', '1913',\n",
       "       '2024 (proiect)', '1951', '1952', '1891', '1953', '1923', '1924',\n",
       "       '1918', '2023 (proiect)', '1895', '1912', '1880', '1908', '1922',\n",
       "       '1863', '1892', '1870', '1906', '1885', '1840', '1710', '1750',\n",
       "       '1764', '1705', '1902', '1846', '1872', '1873', '2025', '1879',\n",
       "       '1919', '1799', '1701', '1909', '1795', '1875', '1752', '1886',\n",
       "       'Dupa 2010'], dtype=object)"
      ]
     },
     "execution_count": 23,
     "metadata": {},
     "output_type": "execute_result"
    }
   ],
   "source": [
    "# Check unique values of the construction year\n",
    "real_estate_df['construction_year'].unique()"
   ]
  },
  {
   "cell_type": "code",
   "execution_count": 24,
   "metadata": {},
   "outputs": [
    {
     "name": "stdout",
     "output_type": "stream",
     "text": [
      "Total number of records where column construction_year is empty is: 5761\n"
     ]
    }
   ],
   "source": [
    "# Count the number of records where column 'construction_year' is empty\n",
    "num_records = len(real_estate_df[real_estate_df['construction_year'] == ''])\n",
    "print(f'Total number of records where column construction_year is empty is: {num_records}')"
   ]
  },
  {
   "cell_type": "code",
   "execution_count": 25,
   "metadata": {},
   "outputs": [
    {
     "name": "stdout",
     "output_type": "stream",
     "text": [
      "'Dupa' contains: 1 values\n",
      "'constructie' contains: 5380 values\n",
      "'proiect' contains: 84 values\n",
      "'finalizata' contains: 2736 values\n",
      "'Inainte' contains: 1257 values\n",
      "'Intre' contains: 1104 values\n"
     ]
    }
   ],
   "source": [
    "# Checking how many rows in the 'construction_year' column have string values\n",
    "words = ['Dupa', 'constructie', 'proiect', 'finalizata', 'Inainte', 'Intre']\n",
    "for word in words:\n",
    "    mask = real_estate_df['construction_year'].str.contains(word, case=False, na=False)\n",
    "    print(f\"'{word}' contains: {mask.value_counts()[1]} values\")"
   ]
  },
  {
   "cell_type": "code",
   "execution_count": 26,
   "metadata": {},
   "outputs": [],
   "source": [
    "# Replace 'construction_year' rows containing 'finalizata' key word with empty string\n",
    "# Note: use escape character '\\' and regex=True to be able to remove paranthesis from text\n",
    "real_estate_df['construction_year'] = real_estate_df['construction_year'].str.replace(\n",
    "                                                '\\(finalizata\\)', '', regex=True).str.strip()"
   ]
  },
  {
   "cell_type": "code",
   "execution_count": 27,
   "metadata": {},
   "outputs": [],
   "source": [
    "# Create a flag column to track which buildings are under construction\n",
    "real_estate_df['under_construction_y_n'] = real_estate_df['construction_year'].str.contains(\n",
    "                                            'constructie', case=False, na=False)\n",
    "# Create a flag column to track which buildings are in the project stage\n",
    "real_estate_df['project_phase_y_n'] = real_estate_df['construction_year'].str.contains(\n",
    "                                            'proiect', case=False, na=False)"
   ]
  },
  {
   "cell_type": "code",
   "execution_count": 28,
   "metadata": {},
   "outputs": [],
   "source": [
    "# Replace 'construction_year' rows containing '(in constructie)' and '(proiect)' key words with empty strings\n",
    "real_estate_df['construction_year'] = real_estate_df['construction_year'].str.replace(\n",
    "                                        '\\(in constructie\\)', '', regex=True).str.strip()\n",
    "real_estate_df['construction_year'] = real_estate_df['construction_year'].str.replace(\n",
    "                                        '\\(proiect\\)', '', regex=True).str.strip()"
   ]
  },
  {
   "cell_type": "code",
   "execution_count": 29,
   "metadata": {},
   "outputs": [],
   "source": [
    "# Create a mask to identify the index of rows where 'construction_year' column has 'Intre' key-word\n",
    "between_mask = real_estate_df['construction_year'].str.contains('Intre', case=False, na=False)\n",
    "\n",
    "# Using the mask extract the last value (which is a year) from the rows that satisfy the condition\n",
    "real_estate_df.loc[between_mask, 'construction_year'] = real_estate_df[\n",
    "                                                                'construction_year'].str.split().str[-1]"
   ]
  },
  {
   "cell_type": "code",
   "execution_count": 30,
   "metadata": {},
   "outputs": [],
   "source": [
    "words_to_replace = ['Inainte', 'Dupa']\n",
    "\n",
    "for word in words_to_replace:\n",
    "    # Create a mask to identify the index of rows where 'construction_year' column has 'word' key-word\n",
    "    before_mask = real_estate_df['construction_year'].str.contains(word, case=False, na=False)\n",
    "\n",
    "    # Using the mask extract the last value (which is a year) from the rows that satisfy the condition\n",
    "    real_estate_df.loc[before_mask, 'construction_year'] = real_estate_df[\n",
    "                                                            'construction_year'].str.split().str[-1]"
   ]
  },
  {
   "cell_type": "code",
   "execution_count": 31,
   "metadata": {},
   "outputs": [],
   "source": [
    "# replacing '' with a sentinel value '-1'\n",
    "real_estate_df['construction_year'] = real_estate_df['construction_year'].replace('', -1)\n",
    "\n",
    "# Use the fillna() method to replace NaN values with a default value before converting to int\n",
    "real_estate_df['construction_year'] = real_estate_df['construction_year'].fillna(-1).astype(int)\n",
    "\n",
    "# Cast 'construction_year' to integer\n",
    "real_estate_df['construction_year'] = real_estate_df['construction_year'].astype(int)"
   ]
  },
  {
   "cell_type": "code",
   "execution_count": 32,
   "metadata": {},
   "outputs": [],
   "source": [
    "import random\n",
    "\n",
    "# Define the list of replacement values\n",
    "replacement_years = [2022, 2021, 2023, 1980, 1990, 2020, 1977, 1970, 2018, 2019]\n",
    "\n",
    "# Count the number of occurrences of 'empty' in column 'construction_year'\n",
    "num_occurrences = (real_estate_df['construction_year'] == -1).sum()\n",
    "\n",
    "# generate a list of replacement values that is at least as long as the number of occurrences of -1\n",
    "replacement_list = replacement_years.copy()\n",
    "while len(replacement_list) < num_occurrences:\n",
    "    replacement_list += replacement_years\n",
    "\n",
    "# Select a random sample of values from the replacement list\n",
    "replacement_sample = random.sample(replacement_list, num_occurrences)\n",
    "\n",
    "# replace all occurrences of 'empty' with values from the replacement sample\n",
    "replacement_index = 0\n",
    "for i, val in enumerate(real_estate_df['construction_year']):\n",
    "    if val == -1:\n",
    "        real_estate_df.at[i, 'construction_year'] = replacement_sample[replacement_index]\n",
    "        replacement_index += 1"
   ]
  },
  {
   "cell_type": "code",
   "execution_count": 33,
   "metadata": {},
   "outputs": [],
   "source": [
    "# Remove outliers\n",
    "real_estate_df = real_estate_df.drop(real_estate_df[real_estate_df['construction_year'] >= 2030].index)"
   ]
  },
  {
   "cell_type": "code",
   "execution_count": 34,
   "metadata": {},
   "outputs": [
    {
     "data": {
      "text/plain": [
       "array([1990, 2016, 2023, 2011, 1984, 1987, 2019, 2018, 2008, 2015, 1980,\n",
       "       1970, 1977, 2010, 2009, 2022, 2021, 1985, 1930, 1960, 1978, 1982,\n",
       "       1955, 1975, 1940, 1910, 2024, 2017, 2020, 1860, 2025, 1935, 1920,\n",
       "       1976, 2014, 1966, 1950, 1974, 1957, 1947, 1986, 1965, 1991, 1900,\n",
       "       1973, 1981, 1972, 1983, 2012, 1988, 1993, 2000, 1979, 2004, 1968,\n",
       "       1995, 1941, 1971, 1942, 1969, 1939, 2005, 1962, 1850, 1936, 2013,\n",
       "       1997, 1994, 1937, 1963, 1915, 1827, 1961, 1959, 1964, 1956, 2007,\n",
       "       1925, 1934, 1903, 1890, 1992, 1862, 1948, 1945, 1967, 1989, 1718,\n",
       "       1800, 1905, 1901, 1898, 1700, 1778, 2002, 2006, 1938, 1998, 2001,\n",
       "       1921, 1932, 1996, 1999, 1927, 1958, 2003, 1946, 1917, 1928, 1931,\n",
       "       1949, 1954, 1933, 1907, 1926, 1914, 1944, 1929, 1943, 1911, 1913,\n",
       "       1951, 1952, 1891, 1953, 1923, 1924, 1918, 1895, 1912, 1880, 1908,\n",
       "       1922, 1863, 1892, 1870, 1906, 1885, 1840, 1710, 1750, 1764, 1705,\n",
       "       1902, 1846, 1872, 1873, 1879, 1919, 1799, 1701, 1909, 1795, 1875,\n",
       "       1752, 1886])"
      ]
     },
     "execution_count": 34,
     "metadata": {},
     "output_type": "execute_result"
    }
   ],
   "source": [
    "# Check unique values of the construction year to make sure all is clean\n",
    "real_estate_df['construction_year'].unique()"
   ]
  },
  {
   "cell_type": "code",
   "execution_count": 35,
   "metadata": {},
   "outputs": [
    {
     "name": "stdout",
     "output_type": "stream",
     "text": [
      "<class 'pandas.core.frame.DataFrame'>\n",
      "Int64Index: 66505 entries, 0 to 66504\n",
      "Data columns (total 42 columns):\n",
      " #   Column                  Non-Null Count  Dtype  \n",
      "---  ------                  --------------  -----  \n",
      " 0   id                      66505 non-null  object \n",
      " 1   judet                   66505 non-null  object \n",
      " 2   localitate              66505 non-null  object \n",
      " 3   zona                    66505 non-null  object \n",
      " 4   comision                66505 non-null  int64  \n",
      " 5   latitudine              66505 non-null  float64\n",
      " 6   longitudine             66505 non-null  float64\n",
      " 7   pret_vanzare            66505 non-null  object \n",
      " 8   nr_camere_referinta     66505 non-null  int64  \n",
      " 9   construction_year       66505 non-null  int32  \n",
      " 10  stadiu_constructie      66505 non-null  object \n",
      " 11  suprafata_utila         66505 non-null  object \n",
      " 12  etaj                    66505 non-null  object \n",
      " 13  data_adaugare           66505 non-null  object \n",
      " 14  suprafata_construita    66505 non-null  object \n",
      " 15  pret_negociabil         66505 non-null  int64  \n",
      " 16  nr_bucatarii            66505 non-null  int64  \n",
      " 17  nr_bai                  66505 non-null  int64  \n",
      " 18  nr_balcoane             66505 non-null  int64  \n",
      " 19  nr_garaje               66505 non-null  int64  \n",
      " 20  compartimentare         66505 non-null  object \n",
      " 21  confort                 66505 non-null  object \n",
      " 22  nr_balcoane_inchise     66505 non-null  int64  \n",
      " 23  structura_rezistenta    66505 non-null  object \n",
      " 24  tip_imobil              66505 non-null  object \n",
      " 25  regim_inaltime          66505 non-null  object \n",
      " 26  nr_locuri_parcare       66505 non-null  int64  \n",
      " 27  mobilare                66505 non-null  object \n",
      " 28  link_detalii            66505 non-null  object \n",
      " 29  tip_client              66505 non-null  object \n",
      " 30  agent.nume              66505 non-null  object \n",
      " 31  agent.functie           66505 non-null  object \n",
      " 32  agent.firma             66505 non-null  object \n",
      " 33  Amenajare Strazi        51426 non-null  object \n",
      " 34  Pereti                  47618 non-null  object \n",
      " 35  Podele                  48358 non-null  object \n",
      " 36  Sistem Incalzire        50572 non-null  object \n",
      " 37  Usa Intrare             46658 non-null  object \n",
      " 38  Utilitati Generale      55388 non-null  object \n",
      " 39  date_snapshot           66505 non-null  object \n",
      " 40  under_construction_y_n  66505 non-null  bool   \n",
      " 41  project_phase_y_n       66505 non-null  bool   \n",
      "dtypes: bool(2), float64(2), int32(1), int64(9), object(28)\n",
      "memory usage: 20.7+ MB\n"
     ]
    }
   ],
   "source": [
    "real_estate_df.info()"
   ]
  },
  {
   "cell_type": "code",
   "execution_count": 36,
   "metadata": {},
   "outputs": [
    {
     "data": {
      "text/plain": [
       "0    46834\n",
       "1    19671\n",
       "Name: commission, dtype: int64"
      ]
     },
     "execution_count": 36,
     "metadata": {},
     "output_type": "execute_result"
    }
   ],
   "source": [
    "# Rename 'comision' column to 'commission'\n",
    "real_estate_df = real_estate_df.rename(columns={'comision': 'commission'})\n",
    "# Check unique values\n",
    "real_estate_df['commission'].value_counts()"
   ]
  },
  {
   "cell_type": "code",
   "execution_count": 37,
   "metadata": {},
   "outputs": [
    {
     "data": {
      "text/plain": [
       "decomandat      42184\n",
       "semidecom.      20592\n",
       "                 2023\n",
       "nedecomandat     1118\n",
       "circular          588\n",
       "Name: partitioning, dtype: int64"
      ]
     },
     "execution_count": 37,
     "metadata": {},
     "output_type": "execute_result"
    }
   ],
   "source": [
    "# Rename 'compartimentare' column to 'partitioning'\n",
    "real_estate_df = real_estate_df.rename(columns={'compartimentare': 'partitioning'})\n",
    "# Check unique values\n",
    "real_estate_df['partitioning'].value_counts()"
   ]
  },
  {
   "cell_type": "code",
   "execution_count": 38,
   "metadata": {},
   "outputs": [],
   "source": [
    "# Find the most frequent value of 'partitioning'\n",
    "most_frequent_value = real_estate_df['partitioning'].mode()[0]\n",
    "# Fill '' with mode\n",
    "real_estate_df['partitioning'] = real_estate_df['partitioning'].replace('', most_frequent_value)"
   ]
  },
  {
   "cell_type": "code",
   "execution_count": 39,
   "metadata": {},
   "outputs": [],
   "source": [
    "# Replace 0 with 1 in 'nr_bucatarii' column based on the condition\n",
    "real_estate_df.loc[(real_estate_df['nr_bucatarii'] == 0) & \n",
    "                   (real_estate_df['nr_camere_referinta'] >= 2), 'nr_bucatarii'] = 1\n",
    "# Change column name from 'nr_bucatarii' to 'nr_of_kitchens'\n",
    "real_estate_df = real_estate_df.rename(columns={'nr_bucatarii': 'nr_of_kitchens'})"
   ]
  },
  {
   "cell_type": "code",
   "execution_count": 40,
   "metadata": {},
   "outputs": [],
   "source": [
    "# For 'suprafata_utila' remove mp and replace ',' with '.'\n",
    "real_estate_df['suprafata_utila'] = real_estate_df[\n",
    "                                        'suprafata_utila'].str.split().str[0].str.replace(',', '.')\n",
    "# Also replace column name 'suprafata_utila' with 'useful_surface'\n",
    "real_estate_df = real_estate_df.rename(columns={'suprafata_utila':'useful_surface'}) "
   ]
  },
  {
   "cell_type": "code",
   "execution_count": 41,
   "metadata": {},
   "outputs": [],
   "source": [
    "real_estate_df['useful_surface'] = real_estate_df['useful_surface'].astype(float)"
   ]
  },
  {
   "cell_type": "code",
   "execution_count": 42,
   "metadata": {},
   "outputs": [],
   "source": [
    "real_estate_df['nr_camere_referinta'] = real_estate_df['nr_camere_referinta'].astype(float)"
   ]
  },
  {
   "cell_type": "code",
   "execution_count": 43,
   "metadata": {},
   "outputs": [
    {
     "name": "stdout",
     "output_type": "stream",
     "text": [
      "<class 'pandas.core.series.Series'>\n",
      "Int64Index: 66505 entries, 0 to 66504\n",
      "Series name: nr_camere_referinta\n",
      "Non-Null Count  Dtype  \n",
      "--------------  -----  \n",
      "66505 non-null  float64\n",
      "dtypes: float64(1)\n",
      "memory usage: 1.0 MB\n"
     ]
    }
   ],
   "source": [
    "real_estate_df['nr_camere_referinta'].info()"
   ]
  },
  {
   "cell_type": "code",
   "execution_count": 44,
   "metadata": {},
   "outputs": [
    {
     "data": {
      "text/plain": [
       "1      45724\n",
       "lux    10649\n",
       "        7106\n",
       "2       2627\n",
       "3        399\n",
       "Name: comfort, dtype: int64"
      ]
     },
     "execution_count": 44,
     "metadata": {},
     "output_type": "execute_result"
    }
   ],
   "source": [
    "# Rename 'confort' column to 'comfort'\n",
    "real_estate_df = real_estate_df.rename(columns={'confort': 'comfort'})\n",
    "# Check unique values\n",
    "real_estate_df['comfort'].value_counts()"
   ]
  },
  {
   "cell_type": "code",
   "execution_count": 45,
   "metadata": {},
   "outputs": [],
   "source": [
    "# Fill 'comfort' null value with rule based values\n",
    "# Rulest for comfort level 1\n",
    "real_estate_df.loc[((real_estate_df['comfort'] == '') &\n",
    "                    (real_estate_df['partitioning'] == 'decomandat') &\n",
    "                    (real_estate_df['nr_balcoane'] >= 1) &\n",
    "                    ((real_estate_df['nr_camere_referinta'] == 1) & (real_estate_df['useful_surface'] >= 33) |\n",
    "                     (real_estate_df['nr_camere_referinta'] == 2) & (real_estate_df['useful_surface'] >= 50) |\n",
    "                     (real_estate_df['nr_camere_referinta'] == 3) & (real_estate_df['useful_surface'] >= 65) |\n",
    "                     (real_estate_df['nr_camere_referinta'] == 4) & (real_estate_df['useful_surface'] >= 75)))\n",
    "                   , 'comfort'] = 1\n",
    "\n",
    "# Rulest for comfort level 2\n",
    "real_estate_df.loc[((real_estate_df['comfort'] == '') &\n",
    "    (real_estate_df['partitioning'] == 'semidecom.') &\n",
    "    (real_estate_df['nr_balcoane'] == 1) &\n",
    "    (((real_estate_df['nr_camere_referinta'] == 1) & (real_estate_df['useful_surface'] >= 27) & (real_estate_df['useful_surface'] <= 32)) |\n",
    "    ((real_estate_df['nr_camere_referinta'] == 2) & (real_estate_df['useful_surface'] >= 34) & (real_estate_df['useful_surface'] <= 49)) |\n",
    "    ((real_estate_df['nr_camere_referinta'] == 3) & (real_estate_df['useful_surface'] >= 55) & (real_estate_df['useful_surface'] <= 64)) |\n",
    "    ((real_estate_df['nr_camere_referinta'] == 4) & (real_estate_df['useful_surface'] >= 60) & (real_estate_df['useful_surface'] <= 74))))\n",
    "    , 'comfort'] = 2\n",
    "\n",
    "# Rulest for comfort level 3\n",
    "real_estate_df.loc[((real_estate_df['comfort'] == '') &\n",
    "            (real_estate_df['partitioning'] != 'decomandat') &\n",
    "            (real_estate_df['nr_balcoane'] == 0) &\n",
    "            (real_estate_df['nr_bai'] <= 1) &\n",
    "            (((real_estate_df['nr_camere_referinta'] == 1) & (real_estate_df['useful_surface'] <= 26)) |\n",
    "            ((real_estate_df['nr_camere_referinta'] == 2) & (real_estate_df['useful_surface'] <= 33)) |\n",
    "            ((real_estate_df['nr_camere_referinta'] == 3) & (real_estate_df['useful_surface'] <= 54)) |\n",
    "            ((real_estate_df['nr_camere_referinta'] == 4) & (real_estate_df['useful_surface'] <= 59))))\n",
    "            , 'comfort'] = 3\n",
    "\n",
    "# Rules for 'Lux' comfort level\n",
    "real_estate_df.loc[((real_estate_df['comfort'] == '') &\n",
    "            (real_estate_df['partitioning'] == 'decomandat') &\n",
    "            (real_estate_df['nr_balcoane'] >= 1) &\n",
    "            (real_estate_df['nr_bai'] >= 2) &\n",
    "            ((real_estate_df['nr_camere_referinta'] == 1) & (real_estate_df['useful_surface'] >= 33) |\n",
    "            (real_estate_df['nr_camere_referinta'] == 2) & (real_estate_df['useful_surface'] >= 50) |\n",
    "            (real_estate_df['nr_camere_referinta'] == 3) & (real_estate_df['useful_surface'] >= 65) |\n",
    "            (real_estate_df['nr_camere_referinta'] == 4) & (real_estate_df['useful_surface'] >= 75)))\n",
    "            , 'comfort'] = 'Lux'\n",
    "\n",
    "# Assign remaining null values to the most frequent category which is 1\n",
    "real_estate_df.loc[(real_estate_df['comfort'] == ''), 'comfort'] = 1"
   ]
  },
  {
   "cell_type": "code",
   "execution_count": 46,
   "metadata": {},
   "outputs": [],
   "source": [
    "# Replace 'Lux' with 0 so that we get only integer numbers for comfort field\n",
    "real_estate_df.loc[(real_estate_df['comfort'] == 'lux'), 'comfort'] = 0\n",
    "# Cast 'comfort' field to integer so that we don't get multiples ones, twoes, etc.\n",
    "real_estate_df['comfort'] = real_estate_df['comfort'].fillna(-1).astype(int)\n",
    "# Replace 'comfort' values with 1 (which is the mode)\n",
    "real_estate_df.loc[(real_estate_df['comfort'] == -1), 'comfort'] = 1"
   ]
  },
  {
   "cell_type": "code",
   "execution_count": 47,
   "metadata": {},
   "outputs": [],
   "source": [
    "# Rename 'etaj' to 'floor_level'\n",
    "real_estate_df = real_estate_df.rename(columns={'etaj': 'floor_level'})\n",
    "# Replace 'Etaj' with empty string\n",
    "real_estate_df['floor_level'] = real_estate_df['floor_level'].str.replace('Etaj', '').str.strip()\n",
    "# Extract floor number and max floor number (if exists) in two separate columns\n",
    "real_estate_df[['floor_level', 'max_floor']] = real_estate_df['floor_level'].str.split(\"/\", expand=True)\n",
    "# Strip whitespaces from floor related columns\n",
    "real_estate_df['floor_level'] = real_estate_df['floor_level'].str.strip()\n",
    "real_estate_df['max_floor'] = real_estate_df['max_floor'].str.strip()\n",
    "# Fill NA if they exists for floor_level with mode\n",
    "real_estate_df['floor_level'].fillna(real_estate_df['floor_level'].mode().iloc[0], inplace=True)\n",
    "# Create a new boolean column that specifies is the property is in the attic\n",
    "real_estate_df['mansard_y_n'] = real_estate_df['floor_level'].str.contains(\n",
    "                                            'Mansarda', case=False, na=False)   \n"
   ]
  },
  {
   "cell_type": "code",
   "execution_count": 48,
   "metadata": {},
   "outputs": [],
   "source": [
    "# Replace 'Demisol' with -1\n",
    "real_estate_df['floor_level'] = real_estate_df['floor_level'].str.replace('Demisol', '-1')\n",
    "# Replace 'Parter' with 0\n",
    "real_estate_df['floor_level'] = real_estate_df['floor_level'].str.replace('Parter', '0')\n",
    "# Replace 'Mansarda' with the values from max_floor\n",
    "mask = (real_estate_df['floor_level'] == 'Mansarda')\n",
    "real_estate_df.loc[mask, 'floor_level'] = real_estate_df.loc[mask, 'max_floor']\n",
    "# Replace 'Ultimele 2 etaje' with the values from max_floor\n",
    "mask = (real_estate_df['floor_level'] == 'Ultimele 2 etaje')\n",
    "real_estate_df.loc[mask, 'floor_level'] = real_estate_df.loc[mask, 'max_floor']"
   ]
  },
  {
   "cell_type": "code",
   "execution_count": 49,
   "metadata": {},
   "outputs": [
    {
     "data": {
      "text/plain": [
       "1     12731\n",
       "2      9893\n",
       "0      9460\n",
       "3      9199\n",
       "4      8575\n",
       "5      4098\n",
       "6      3015\n",
       "7      2769\n",
       "8      2661\n",
       "9      1531\n",
       "10     1368\n",
       "-1      498\n",
       "11      349\n",
       "12      150\n",
       "15       62\n",
       "13       50\n",
       "14       27\n",
       "16       14\n",
       "18       11\n",
       "17       11\n",
       "25        6\n",
       "19        5\n",
       "20        4\n",
       "21        2\n",
       "24        1\n",
       "23        1\n",
       "Name: floor_level, dtype: int64"
      ]
     },
     "execution_count": 49,
     "metadata": {},
     "output_type": "execute_result"
    }
   ],
   "source": [
    "# Replace 'empty' values with 1 (which is the mode)\n",
    "real_estate_df.loc[(real_estate_df['floor_level'] == ''), 'floor_level'] = 1\n",
    "# Check floor_level is clean\n",
    "real_estate_df['floor_level'].value_counts()"
   ]
  },
  {
   "cell_type": "code",
   "execution_count": 50,
   "metadata": {},
   "outputs": [],
   "source": [
    "# Encoding 'mobilare' field\n",
    "mobilare_mapping = {'': 'nespecificat', 'parțial': 'parțial', 'complet': 'complet', 'lux': 'lux'}\n",
    "real_estate_df['mobilare'] = real_estate_df['mobilare'].map(mobilare_mapping)\n",
    "# Rename\n",
    "real_estate_df = real_estate_df.rename(columns={'mobilare': 'furnishing'})"
   ]
  },
  {
   "cell_type": "code",
   "execution_count": 51,
   "metadata": {},
   "outputs": [],
   "source": [
    "# Extract only the date part of the 'data_adaugare' values\n",
    "real_estate_df['data_adaugare'] = real_estate_df['data_adaugare'].str.split(' ').str[0]\n",
    "# Convert to date format\n",
    "real_estate_df['data_adaugare'] = pd.to_datetime(real_estate_df['data_adaugare'], format='%Y-%m-%d')\n",
    "# Rename 'data_adaugare' to 'date_of_listing'\n",
    "real_estate_df = real_estate_df.rename(columns={'data_adaugare': 'date_of_listing'})"
   ]
  },
  {
   "cell_type": "code",
   "execution_count": 52,
   "metadata": {},
   "outputs": [],
   "source": [
    "# Replace missing or infinite values with -1\n",
    "real_estate_df['nr_camere_referinta'] = real_estate_df['nr_camere_referinta'].fillna(-1)\n",
    "\n",
    "# Rename 'nr_camere_referinta' to 'rooms'\n",
    "real_estate_df = real_estate_df.rename(columns={'nr_camere_referinta': 'rooms'})\n",
    "\n",
    "# Cast to integer\n",
    "real_estate_df['rooms'] = real_estate_df['rooms'].astype(int)"
   ]
  },
  {
   "cell_type": "code",
   "execution_count": 53,
   "metadata": {},
   "outputs": [],
   "source": [
    "# Create a new column for currency by extracting the second element of the string\n",
    "real_estate_df['Currency'] = real_estate_df['pret_vanzare'].str.split().str[1]\n",
    "# Extract the first element of the string (price)\n",
    "real_estate_df['pret_vanzare'] = real_estate_df['pret_vanzare'].str.split().str[0]\n",
    "# Rename 'pret_vanzare' to 'price'\n",
    "real_estate_df = real_estate_df.rename(columns={'pret_vanzare': 'price'})"
   ]
  },
  {
   "cell_type": "code",
   "execution_count": 54,
   "metadata": {},
   "outputs": [
    {
     "name": "stderr",
     "output_type": "stream",
     "text": [
      "C:\\Users\\Serghei.Dragan\\AppData\\Local\\Temp\\ipykernel_7936\\4206391201.py:5: FutureWarning: The default value of regex will change from True to False in a future version. In addition, single character regular expressions will *not* be treated as literal strings when regex=True.\n",
      "  real_estate_df['price'] = real_estate_df['price'].str.replace('.', '')\n"
     ]
    },
    {
     "name": "stdout",
     "output_type": "stream",
     "text": [
      "EUR    66369\n",
      "RON       38\n",
      "USD        1\n",
      "Name: Currency, dtype: int64\n"
     ]
    }
   ],
   "source": [
    "# Drop rows that have no price\n",
    "real_estate_df.dropna(subset=['price'], inplace=True)\n",
    "\n",
    "# Exclude '.' from 'price'\n",
    "real_estate_df['price'] = real_estate_df['price'].str.replace('.', '')\n",
    "\n",
    "# Drop values that are not numbers and contain the value 'Preț'\n",
    "real_estate_df.drop(real_estate_df[real_estate_df['price'] == 'Preț'].index, inplace=True)\n",
    "\n",
    "# Replace ',' with '.' in 'price' column\n",
    "real_estate_df['price'] = real_estate_df['price'].str.replace(',', '.')\n",
    "\n",
    "# Convert 'price' to float\n",
    "real_estate_df['price'] = real_estate_df['price'].astype(float)\n",
    "\n",
    "# Check currency types\n",
    "print(real_estate_df['Currency'].value_counts())"
   ]
  },
  {
   "cell_type": "code",
   "execution_count": 55,
   "metadata": {},
   "outputs": [],
   "source": [
    "# Drop properties listed in USD and RON as there a few properties only\n",
    "currencies = ['USD', 'RON']\n",
    "for currency in currencies:\n",
    "    real_estate_df.drop(real_estate_df[real_estate_df['Currency'] == currency].index, inplace=True)\n",
    "# Rename price field\n",
    "real_estate_df = real_estate_df.rename(columns={'price': 'price_EUR'})\n",
    "# Drop currency attribute\n",
    "real_estate_df = real_estate_df.drop('Currency', axis=1)"
   ]
  },
  {
   "cell_type": "code",
   "execution_count": 56,
   "metadata": {},
   "outputs": [],
   "source": [
    "# Drop 'regim_inaltime'\n",
    "real_estate_df = real_estate_df.drop('regim_inaltime', axis=1)"
   ]
  },
  {
   "cell_type": "code",
   "execution_count": 57,
   "metadata": {},
   "outputs": [
    {
     "data": {
      "text/plain": [
       "2023    4382\n",
       "2022    2586\n",
       "2024     797\n",
       "2021     416\n",
       "2025     186\n",
       "2020     106\n",
       "2019      17\n",
       "2018      16\n",
       "1980       7\n",
       "2017       7\n",
       "1977       5\n",
       "2000       3\n",
       "1990       2\n",
       "2013       1\n",
       "2016       1\n",
       "1970       1\n",
       "2015       1\n",
       "2012       1\n",
       "2009       1\n",
       "1931       1\n",
       "2010       1\n",
       "1960       1\n",
       "Name: construction_year, dtype: int64"
      ]
     },
     "execution_count": 57,
     "metadata": {},
     "output_type": "execute_result"
    }
   ],
   "source": [
    "mask = (real_estate_df['stadiu_constructie'] == 'in constructie')\n",
    "real_estate_df.loc[mask, 'construction_year'].value_counts()"
   ]
  },
  {
   "cell_type": "code",
   "execution_count": 58,
   "metadata": {},
   "outputs": [],
   "source": [
    "# Add additional labels to 'under_construction_y_n' field based on 'stadiu_constructie' if year >=2022\n",
    "real_estate_df.loc[(real_estate_df['stadiu_constructie'] == 'in constructie') &\n",
    "                   (real_estate_df['construction_year'] >= 2022), 'under_construction_y_n'] = True"
   ]
  },
  {
   "cell_type": "code",
   "execution_count": 59,
   "metadata": {},
   "outputs": [],
   "source": [
    "# Drop 'stadiu_constructie' as this is redundant info\n",
    "real_estate_df = real_estate_df.drop('stadiu_constructie', axis=1)\n",
    "# Drop 'suprafata_construita' as this is redundant info\n",
    "real_estate_df = real_estate_df.drop('suprafata_construita', axis=1)"
   ]
  },
  {
   "cell_type": "code",
   "execution_count": 60,
   "metadata": {},
   "outputs": [],
   "source": [
    "import numpy as np\n",
    "# Replace empty cells with NaN\n",
    "real_estate_df.replace('', np.nan, inplace=True)"
   ]
  },
  {
   "cell_type": "code",
   "execution_count": 61,
   "metadata": {},
   "outputs": [],
   "source": [
    "# Find the mode value for 'structura_rezistenta'\n",
    "mode_value = real_estate_df['structura_rezistenta'].mode()[0]\n",
    "# Fill the NaN values with the mode value\n",
    "real_estate_df['structura_rezistenta'].fillna(mode_value, inplace=True)"
   ]
  },
  {
   "cell_type": "code",
   "execution_count": 62,
   "metadata": {},
   "outputs": [],
   "source": [
    "# Find the mode value for 'structura_rezistenta'\n",
    "mode_value = real_estate_df['tip_imobil'].mode()[0]\n",
    "# Fill the NaN values with the mode value\n",
    "real_estate_df['tip_imobil'].fillna(mode_value, inplace=True)"
   ]
  },
  {
   "cell_type": "code",
   "execution_count": 63,
   "metadata": {},
   "outputs": [],
   "source": [
    "average_surface = round(real_estate_df['useful_surface'].mean(),2)\n",
    "real_estate_df['useful_surface'].fillna(average_surface, inplace=True)"
   ]
  },
  {
   "attachments": {},
   "cell_type": "markdown",
   "metadata": {},
   "source": [
    "In the first line of the code, we group the data by 'localitate' and apply the mode() function to the 'zona' column within each group using a lambda function. This gives us the mode value for each 'localitate'.\n",
    "\n",
    "In the second line of the code, we use the fillna() function to fill the missing values in the 'zona' column with the corresponding mode value for each 'localitate'. We do this by grouping the data by 'localitate' again and applying another lambda function to each group. This lambda function fills missing values in 'zona' with the mode value for that group, which we get from the mode_by_localitate Series using the x.name attribute of the group.\n",
    "\n",
    "mode_by_localitate is a pandas Series object that contains the mode value of the 'zona' column for each 'localitate' in the DataFrame.\n",
    "\n",
    "The index of the mode_by_localitate Series is the set of unique values of 'localitate' in the DataFrame, and the values of the Series are the mode values of the 'zona' column for each 'localitate'."
   ]
  },
  {
   "cell_type": "code",
   "execution_count": 64,
   "metadata": {},
   "outputs": [
    {
     "name": "stderr",
     "output_type": "stream",
     "text": [
      "C:\\Users\\Serghei.Dragan\\AppData\\Local\\Temp\\ipykernel_7936\\729418017.py:5: FutureWarning: Not prepending group keys to the result index of transform-like apply. In the future, the group keys will be included in the index, regardless of whether the applied function returns a like-indexed object.\n",
      "To preserve the previous behavior, use\n",
      "\n",
      "\t>>> .groupby(..., group_keys=False)\n",
      "\n",
      "To adopt the future behavior and silence this warning, use \n",
      "\n",
      "\t>>> .groupby(..., group_keys=True)\n",
      "  real_estate_df['zona'] = real_estate_df.groupby('localitate')['zona'].apply(\n"
     ]
    }
   ],
   "source": [
    "# Group the data by 'localitate' and find the mode of 'zona' within each group\n",
    "mode_by_localitate = real_estate_df.groupby('localitate')['zona'].apply(lambda x: x.mode()[0])\n",
    "\n",
    "# Fill missing values in 'zona' with the mode for the corresponding 'localitate'\n",
    "real_estate_df['zona'] = real_estate_df.groupby('localitate')['zona'].apply(\n",
    "                                                lambda x: x.fillna(mode_by_localitate[x.name]))"
   ]
  },
  {
   "attachments": {},
   "cell_type": "markdown",
   "metadata": {},
   "source": [
    "When you group a DataFrame using the groupby() function in pandas, the resulting object is a GroupBy object. You can iterate over the GroupBy object to get each group, where each group is a tuple of (group_name, group_data). The group_name is a unique value from the grouping column(s), and group_data is a DataFrame containing all the rows that belong to that group.\n",
    "\n",
    "In the lambda function that we used to fill missing values in the 'zona' column, the x variable represents the group data for each group. Since we used groupby('localitate'), x.name is the unique value of 'localitate' for the current group, and we use this value to look up the corresponding mode value for that group in the mode_by_localitate Series.\n",
    "\n",
    "So, x.name is matching by group names, specifically the unique values of 'localitate' in this case."
   ]
  },
  {
   "cell_type": "code",
   "execution_count": 65,
   "metadata": {},
   "outputs": [],
   "source": [
    "# Remove rows with null values in the 'floor_level' attribute as we have only 27 values\n",
    "real_estate_df.dropna(subset=['floor_level'], inplace=True)"
   ]
  },
  {
   "cell_type": "code",
   "execution_count": 66,
   "metadata": {},
   "outputs": [],
   "source": [
    "# Create a new field that specifies if the heating system is 'Termoficare'\n",
    "real_estate_df['termoficare_y_n'] = real_estate_df['Sistem Incalzire'].str.contains(\n",
    "                                        'Termoficare', case=False, na=False)\n",
    "# Create a new field that specifies if the heating system is 'Centrala Proprie'\n",
    "real_estate_df['centrala_proprie_y_n'] = real_estate_df['Sistem Incalzire'].str.contains(\n",
    "                                        'Centrala proprie', case=False, na=False)\n",
    "# Create a new field that specifies if the heating system is 'Centrala imobil'\n",
    "real_estate_df['centrala_imobil_y_n'] = real_estate_df['Sistem Incalzire'].str.contains(\n",
    "                                        'Centrala imobil', case=False, na=False)\n",
    "# Create a new field that specifies if the property has underfloor heating\n",
    "real_estate_df['floor_heating_y_n'] = real_estate_df['Sistem Incalzire'].str.contains(\n",
    "                                        'Incalzire prin pardoseala', case=False, na=False)"
   ]
  },
  {
   "cell_type": "code",
   "execution_count": 67,
   "metadata": {},
   "outputs": [],
   "source": [
    "# Drop column 'Sistem Incalzire' \n",
    "real_estate_df.drop('Sistem Incalzire', axis=1, inplace=True)"
   ]
  },
  {
   "cell_type": "code",
   "execution_count": 68,
   "metadata": {},
   "outputs": [],
   "source": [
    "# Drop columns that are not expected to influence the price significantly\n",
    "columns_to_drop = ['Amenajare Strazi', 'Podele', 'Utilitati Generale', 'Usa Intrare']\n",
    "for column in columns_to_drop:\n",
    "    if column in real_estate_df.columns:\n",
    "        real_estate_df.drop(column, axis=1, inplace=True)"
   ]
  },
  {
   "cell_type": "code",
   "execution_count": 69,
   "metadata": {},
   "outputs": [],
   "source": [
    "# There are null values in 'max_floor' field so we need to feel them up\n",
    "real_estate_df['max_floor'].fillna(real_estate_df['floor_level'], inplace=True)"
   ]
  },
  {
   "cell_type": "code",
   "execution_count": 70,
   "metadata": {},
   "outputs": [],
   "source": [
    "# Convert 'date_snapshot' to date format that corresponds to same format as 'date_of_listing'\n",
    "real_estate_df['date_snapshot'] = pd.to_datetime(real_estate_df['date_snapshot'], format='%d-%m-%Y').dt.strftime('%Y-%m-%d')\n",
    "# Create a new field that tracks the number of days since the property was listed on the marketplace\n",
    "real_estate_df['days_since_listing'] = (pd.to_datetime(real_estate_df['date_snapshot'], format='%Y-%m-%d') - \n",
    "                                        pd.to_datetime(real_estate_df['date_of_listing'], format='%Y-%m-%d')).dt.days"
   ]
  },
  {
   "cell_type": "code",
   "execution_count": 71,
   "metadata": {},
   "outputs": [],
   "source": [
    "# Create a new column with the month from 'date_of_listing' \n",
    "real_estate_df['month_of_listing'] = real_estate_df['date_of_listing'].apply(lambda x: x.month)\n",
    "# Create a new column with the year from 'date_of_listing' \n",
    "real_estate_df['year_of_listing'] = real_estate_df['date_of_listing'].apply(lambda x: x.year)"
   ]
  },
  {
   "cell_type": "code",
   "execution_count": 72,
   "metadata": {},
   "outputs": [],
   "source": [
    "# Dropping 'nr_balcoane_inchise' as we have the required info in the 'nr_balcoane' field\n",
    "real_estate_df.drop('nr_balcoane_inchise', axis=1, inplace=True)"
   ]
  },
  {
   "cell_type": "code",
   "execution_count": 73,
   "metadata": {},
   "outputs": [
    {
     "name": "stdout",
     "output_type": "stream",
     "text": [
      "Total number of duplicates: 0\n"
     ]
    }
   ],
   "source": [
    "# Count the number of duplicates\n",
    "num_duplicates = sum(real_estate_df.duplicated())\n",
    "print(f'Total number of duplicates: {num_duplicates}')\n",
    "# Drop duplicates\n",
    "real_estate_df.drop_duplicates(inplace=True)"
   ]
  },
  {
   "cell_type": "code",
   "execution_count": 74,
   "metadata": {},
   "outputs": [],
   "source": [
    "# Create price per square meter metric\n",
    "real_estate_df['price_EUR_sqm'] = round(real_estate_df['price_EUR'] / real_estate_df['useful_surface'], 2)"
   ]
  },
  {
   "cell_type": "code",
   "execution_count": 75,
   "metadata": {},
   "outputs": [
    {
     "name": "stdout",
     "output_type": "stream",
     "text": [
      "<class 'pandas.core.frame.DataFrame'>\n",
      "Int64Index: 66355 entries, 0 to 66504\n",
      "Data columns (total 43 columns):\n",
      " #   Column                  Non-Null Count  Dtype         \n",
      "---  ------                  --------------  -----         \n",
      " 0   id                      66355 non-null  object        \n",
      " 1   judet                   66355 non-null  object        \n",
      " 2   localitate              66355 non-null  object        \n",
      " 3   zona                    66355 non-null  object        \n",
      " 4   commission              66355 non-null  int64         \n",
      " 5   latitudine              66355 non-null  float64       \n",
      " 6   longitudine             66355 non-null  float64       \n",
      " 7   price_EUR               66355 non-null  float64       \n",
      " 8   rooms                   66355 non-null  int32         \n",
      " 9   construction_year       66355 non-null  int32         \n",
      " 10  useful_surface          66355 non-null  float64       \n",
      " 11  floor_level             66355 non-null  object        \n",
      " 12  date_of_listing         66355 non-null  datetime64[ns]\n",
      " 13  pret_negociabil         66355 non-null  int64         \n",
      " 14  nr_of_kitchens          66355 non-null  int64         \n",
      " 15  nr_bai                  66355 non-null  int64         \n",
      " 16  nr_balcoane             66355 non-null  int64         \n",
      " 17  nr_garaje               66355 non-null  int64         \n",
      " 18  partitioning            66355 non-null  object        \n",
      " 19  comfort                 66355 non-null  int32         \n",
      " 20  structura_rezistenta    66355 non-null  object        \n",
      " 21  tip_imobil              66355 non-null  object        \n",
      " 22  nr_locuri_parcare       66355 non-null  int64         \n",
      " 23  furnishing              66355 non-null  object        \n",
      " 24  link_detalii            66355 non-null  object        \n",
      " 25  tip_client              66355 non-null  object        \n",
      " 26  agent.nume              61441 non-null  object        \n",
      " 27  agent.functie           46078 non-null  object        \n",
      " 28  agent.firma             66355 non-null  object        \n",
      " 29  Pereti                  47570 non-null  object        \n",
      " 30  date_snapshot           66355 non-null  object        \n",
      " 31  under_construction_y_n  66355 non-null  bool          \n",
      " 32  project_phase_y_n       66355 non-null  bool          \n",
      " 33  max_floor               66355 non-null  object        \n",
      " 34  mansard_y_n             66355 non-null  bool          \n",
      " 35  termoficare_y_n         66355 non-null  bool          \n",
      " 36  centrala_proprie_y_n    66355 non-null  bool          \n",
      " 37  centrala_imobil_y_n     66355 non-null  bool          \n",
      " 38  floor_heating_y_n       66355 non-null  bool          \n",
      " 39  days_since_listing      66355 non-null  int64         \n",
      " 40  month_of_listing        66355 non-null  int64         \n",
      " 41  year_of_listing         66355 non-null  int64         \n",
      " 42  price_EUR_sqm           66355 non-null  float64       \n",
      "dtypes: bool(7), datetime64[ns](1), float64(5), int32(3), int64(10), object(17)\n",
      "memory usage: 18.4+ MB\n"
     ]
    }
   ],
   "source": [
    "real_estate_df.info()"
   ]
  },
  {
   "cell_type": "code",
   "execution_count": 76,
   "metadata": {},
   "outputs": [
    {
     "name": "stdout",
     "output_type": "stream",
     "text": [
      "The column 'Pereti' has been dropped.\n"
     ]
    }
   ],
   "source": [
    "# In previous version the feature 'Pereti' was not present, so dropping it if it exists\n",
    "column_to_drop = 'Pereti'\n",
    "\n",
    "if column_to_drop in real_estate_df.columns:\n",
    "    # Drop the column if it exists\n",
    "    real_estate_df.drop(columns=[column_to_drop], axis=1, inplace=True)\n",
    "    print(f\"The column '{column_to_drop}' has been dropped.\")\n",
    "else:\n",
    "    print(f\"The column '{column_to_drop}' does not exist. No action taken.\")"
   ]
  },
  {
   "attachments": {},
   "cell_type": "markdown",
   "metadata": {},
   "source": [
    "### Data Visualization"
   ]
  },
  {
   "attachments": {},
   "cell_type": "markdown",
   "metadata": {},
   "source": [
    "#### Price per sqm distribution"
   ]
  },
  {
   "cell_type": "code",
   "execution_count": 77,
   "metadata": {},
   "outputs": [
    {
     "data": {
      "image/png": "[encoded data removed]",
      "text/plain": [
       "<Figure size 500x500 with 1 Axes>"
      ]
     },
     "metadata": {},
     "output_type": "display_data"
    }
   ],
   "source": [
    "# Calculate the IQR of the price_EUR_sqm column\n",
    "q1 = real_estate_df['price_EUR_sqm'].quantile(0.25)\n",
    "q3 = real_estate_df['price_EUR_sqm'].quantile(0.75)\n",
    "iqr = q3 - q1\n",
    "\n",
    "# Calculate the upper and lower bounds for outliers\n",
    "upper_bound = q3 + 3*iqr\n",
    "lower_bound = q1 - 1.5*iqr\n",
    "\n",
    "# Remove the outliers from the dataframe\n",
    "real_estate_df = real_estate_df[(real_estate_df['price_EUR_sqm'] >= lower_bound) & (real_estate_df['price_EUR_sqm'] <= upper_bound)]\n",
    "\n",
    "# Create a histogram of price_EUR_sqm\n",
    "sns.displot(data=real_estate_df, x='price_EUR_sqm', bins=30)\n",
    "\n",
    "# Set the x- and y-axis labels and title\n",
    "plt.xlabel('Price (EUR/sqm)')\n",
    "plt.ylabel('# of properties')\n",
    "plt.title('Distribution of Price per Square Meter')\n",
    "\n",
    "# Show the plot\n",
    "plt.show()"
   ]
  },
  {
   "cell_type": "code",
   "execution_count": 78,
   "metadata": {},
   "outputs": [],
   "source": [
    "# Cast floor_level to int\n",
    "real_estate_df['floor_level'] = real_estate_df['floor_level'].astype(int)"
   ]
  },
  {
   "attachments": {},
   "cell_type": "markdown",
   "metadata": {},
   "source": [
    "Push data to SQL Server"
   ]
  },
  {
   "cell_type": "code",
   "execution_count": 79,
   "metadata": {},
   "outputs": [
    {
     "name": "stdout",
     "output_type": "stream",
     "text": [
      "Table 'dbo.Real_estate_17_Jul_2023' created successfully.\n"
     ]
    }
   ],
   "source": [
    "# Establish a connection to the SQL Server database\n",
    "conn = pyodbc.connect(\n",
    "    'Driver={ODBC Driver 17 for SQL Server};'\n",
    "    'Server=WRLT0371;'\n",
    "    'Database=hibernia;'\n",
    "    'Trusted_Connection=yes;'\n",
    ")\n",
    "\n",
    "cursor = conn.cursor()\n",
    "\n",
    "# Define the schema and table name\n",
    "schema_name = 'dbo'\n",
    "table_name = 'Real_estate_17_Jul_2023'\n",
    "\n",
    "# Check if the table already exists in the database\n",
    "cursor.execute(f\"IF OBJECT_ID('{schema_name}.{table_name}', 'U') IS NOT NULL SELECT 1 ELSE SELECT 0\")\n",
    "table_exists = cursor.fetchone()[0] == 1\n",
    "\n",
    "if table_exists:\n",
    "    print(f\"Table '{schema_name}.{table_name}' already exists.\")\n",
    "else:\n",
    "    # Get the data types from the DataFrame\n",
    "    dtypes = real_estate_df.dtypes\n",
    "\n",
    "    # Generate the CREATE TABLE query based on the DataFrame columns and data types\n",
    "    create_table_query = f\"CREATE TABLE {schema_name}.{table_name} (\" # define create_table_query initially as a string containing the schema and table name we are going to create\n",
    "    for column, dtype in dtypes.items():\n",
    "        column_name = f\"[{column}]\"  # Enclose column name in square brackets\n",
    "        if dtype == 'object':\n",
    "            create_table_query += f\"{column_name} VARCHAR(MAX) NULL, \"  # Add NULL keyword\n",
    "        elif dtype == 'int64':\n",
    "            create_table_query += f\"{column_name} INT NULL, \"  # Add NULL keyword\n",
    "        elif dtype == 'float64':\n",
    "            create_table_query += f\"{column_name} FLOAT NULL, \"  # Add NULL keyword\n",
    "        elif dtype == 'bool':\n",
    "            create_table_query += f\"{column_name} BIT NULL, \"  # Convert bool to BIT and add NULL keyword\n",
    "        elif dtype == 'datetime64[ns]':\n",
    "            create_table_query += f\"{column_name} VARCHAR(MAX) NULL, \"  # Assuming date columns are stored as strings and add NULL keyword\n",
    "        else:\n",
    "            create_table_query += f\"{column_name} VARCHAR(MAX) NULL, \"  # Assign VARCHAR(MAX) for other data types and add NULL keyword\n",
    "    create_table_query = create_table_query[:-2] + \")\"  # Remove the trailing comma and space\n",
    "\n",
    "    cursor.execute(create_table_query) # run the query of creating the table with corresponding columns - not that the create_table_query variable is actually assigned a string containing the SQL command\n",
    "    conn.commit()\n",
    "    print(f\"Table '{schema_name}.{table_name}' created successfully.\")\n",
    "\n",
    "# Insert the data into the table\n",
    "subset_df = real_estate_df  # Insert the entire dataframe as a subset\n",
    "\n",
    "for _, row in subset_df.iterrows():\n",
    "    try:\n",
    "        values = row.values.tolist()\n",
    "        for i in range(len(values)):\n",
    "            if pd.isnull(values[i]):\n",
    "                values[i] = \"NULL\"  # Convert NaN values to NULL\n",
    "            elif isinstance(values[i], float):\n",
    "                values[i] = str(values[i])  # Convert float values to string representation\n",
    "            elif isinstance(values[i], str):\n",
    "                values[i] = values[i].replace(\"'\", \"''\")  # Escape single quotation marks\n",
    "\n",
    "        values = \", \".join([\"'\" + str(value) + \"'\" for value in values])\n",
    "        insert_query = f'INSERT INTO {schema_name}.{table_name} VALUES ({values})'\n",
    "        cursor.execute(insert_query)\n",
    "        conn.commit()\n",
    "    except Exception as e:\n",
    "        print(\"Error occurred while inserting row:\")\n",
    "        print(row)\n",
    "        print(\"Error message:\", str(e))\n",
    "        break\n",
    "\n",
    "# Close the database connection\n",
    "conn.close()"
   ]
  }
 ],
 "metadata": {
  "kernelspec": {
   "display_name": "base",
   "language": "python",
   "name": "python3"
  },
  "language_info": {
   "codemirror_mode": {
    "name": "ipython",
    "version": 3
   },
   "file_extension": ".py",
   "mimetype": "text/x-python",
   "name": "python",
   "nbconvert_exporter": "python",
   "pygments_lexer": "ipython3",
   "version": "3.9.18"
  },
  "orig_nbformat": 4,
  "vscode": {
   "interpreter": {
    "hash": "9daf80120b55e04156ff11b4bd3dd17bf46a8d9a64e9cd5a74f395ae01fae5d5"
   }
  }
 },
 "nbformat": 4,
 "nbformat_minor": 2
}
